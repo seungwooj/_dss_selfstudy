{
 "cells": [
  {
   "cell_type": "code",
   "execution_count": 21,
   "metadata": {},
   "outputs": [],
   "source": [
    "import pandas as pd\n",
    "import numpy as np\n",
    "import datetime as dt\n",
    "import time\n",
    "import matplotlib as mpl\n",
    "import matplotlib.pyplot as plt\n",
    "import seaborn as sns\n",
    "import scipy as sp\n",
    "import statsmodels.api as sm # statsmodel 기본 import\n",
    "import statsmodels.formula.api as smf\n",
    "import statsmodels.stats.api as sms \n",
    "import sklearn as sk\n",
    "from patsy import dmatrix"
   ]
  },
  {
   "cell_type": "markdown",
   "metadata": {},
   "source": [
    "##### 다항 회귀의 차수 결정\n",
    "- \"1. mean값이 더 높고\n",
    "- \"2. std값이 더 낮고\n",
    "- \"3. 1과2가 비슷하다면, \"차수\"가 더 낮은 (덜 복잡한) 모델을 선택"
   ]
  },
  {
   "cell_type": "code",
   "execution_count": 24,
   "metadata": {},
   "outputs": [],
   "source": [
    "from sklearn.preprocessing import PolynomialFeatures\n",
    "from sklearn.linear_model import LinearRegression\n",
    "from sklearn.pipeline import Pipeline\n",
    "from sklearn.cross_validation import cross_val_score\n",
    "\n",
    "n_samples = 1000\n",
    "np.random.seed(0)\n",
    "X = np.sort(np.random.rand(n_samples))\n",
    "y = np.cos(1.5 * np.pi * X) + np.random.randn(n_samples) * 0.1\n",
    "X = X[:, np.newaxis]\n",
    "K = 100\n",
    "\n",
    "def cv_mse(degree):\n",
    "    polynomial_features = PolynomialFeatures(degree=degree)\n",
    "    linear_regression = LinearRegression()\n",
    "    model = Pipeline([(\"polynomial_features\", polynomial_features),\n",
    "                      (\"linear_regression\", linear_regression)])\n",
    "    scores = -cross_val_score(model, X, y, \"neg_mean_squared_error\", cv=K)\n",
    "    return scores"
   ]
  },
  {
   "cell_type": "code",
   "execution_count": 25,
   "metadata": {},
   "outputs": [
    {
     "name": "stdout",
     "output_type": "stream",
     "text": [
      "0.0130824469849 0.00760649444156\n"
     ]
    },
    {
     "data": {
      "image/png": "[encoded data removed]",
      "text/plain": [
       "<matplotlib.figure.Figure at 0x112e2a6a0>"
      ]
     },
     "metadata": {},
     "output_type": "display_data"
    }
   ],
   "source": [
    "scores1 = cv_mse(3)\n",
    "sns.distplot(scores1)\n",
    "print(scores1.mean(), scores1.std())"
   ]
  },
  {
   "cell_type": "code",
   "execution_count": 26,
   "metadata": {},
   "outputs": [
    {
     "data": {
      "text/html": [
       "<div>\n",
       "<style scoped>\n",
       "    .dataframe tbody tr th:only-of-type {\n",
       "        vertical-align: middle;\n",
       "    }\n",
       "\n",
       "    .dataframe tbody tr th {\n",
       "        vertical-align: top;\n",
       "    }\n",
       "\n",
       "    .dataframe thead th {\n",
       "        text-align: right;\n",
       "    }\n",
       "</style>\n",
       "<table border=\"1\" class=\"dataframe\">\n",
       "  <thead>\n",
       "    <tr style=\"text-align: right;\">\n",
       "      <th></th>\n",
       "      <th>1</th>\n",
       "      <th>2</th>\n",
       "      <th>4</th>\n",
       "      <th>8</th>\n",
       "      <th>16</th>\n",
       "      <th>32</th>\n",
       "      <th>64</th>\n",
       "      <th>128</th>\n",
       "      <th>256</th>\n",
       "    </tr>\n",
       "  </thead>\n",
       "  <tbody>\n",
       "    <tr>\n",
       "      <th>count</th>\n",
       "      <td>100.000000</td>\n",
       "      <td>100.000000</td>\n",
       "      <td>100.000000</td>\n",
       "      <td>100.000000</td>\n",
       "      <td>100.000000</td>\n",
       "      <td>100.000000</td>\n",
       "      <td>100.000000</td>\n",
       "      <td>100.000000</td>\n",
       "      <td>100.000000</td>\n",
       "    </tr>\n",
       "    <tr>\n",
       "      <th>mean</th>\n",
       "      <td>2.152711</td>\n",
       "      <td>3.431163</td>\n",
       "      <td>4.735579</td>\n",
       "      <td>4.757005</td>\n",
       "      <td>4.746503</td>\n",
       "      <td>4.677245</td>\n",
       "      <td>4.605754</td>\n",
       "      <td>4.542724</td>\n",
       "      <td>4.473064</td>\n",
       "    </tr>\n",
       "    <tr>\n",
       "      <th>std</th>\n",
       "      <td>1.197341</td>\n",
       "      <td>0.801431</td>\n",
       "      <td>0.470647</td>\n",
       "      <td>0.464274</td>\n",
       "      <td>0.481904</td>\n",
       "      <td>0.696306</td>\n",
       "      <td>1.260506</td>\n",
       "      <td>1.803517</td>\n",
       "      <td>2.609404</td>\n",
       "    </tr>\n",
       "    <tr>\n",
       "      <th>min</th>\n",
       "      <td>-0.143751</td>\n",
       "      <td>1.023711</td>\n",
       "      <td>3.757597</td>\n",
       "      <td>3.746899</td>\n",
       "      <td>3.703366</td>\n",
       "      <td>-0.221971</td>\n",
       "      <td>-6.497554</td>\n",
       "      <td>-12.519507</td>\n",
       "      <td>-20.869533</td>\n",
       "    </tr>\n",
       "    <tr>\n",
       "      <th>25%</th>\n",
       "      <td>1.283354</td>\n",
       "      <td>2.877161</td>\n",
       "      <td>4.449526</td>\n",
       "      <td>4.447033</td>\n",
       "      <td>4.426597</td>\n",
       "      <td>4.411030</td>\n",
       "      <td>4.410247</td>\n",
       "      <td>4.363565</td>\n",
       "      <td>4.395252</td>\n",
       "    </tr>\n",
       "    <tr>\n",
       "      <th>50%</th>\n",
       "      <td>1.912740</td>\n",
       "      <td>3.341536</td>\n",
       "      <td>4.659961</td>\n",
       "      <td>4.698884</td>\n",
       "      <td>4.686885</td>\n",
       "      <td>4.667375</td>\n",
       "      <td>4.676816</td>\n",
       "      <td>4.657987</td>\n",
       "      <td>4.671454</td>\n",
       "    </tr>\n",
       "    <tr>\n",
       "      <th>75%</th>\n",
       "      <td>2.922163</td>\n",
       "      <td>3.963974</td>\n",
       "      <td>5.023880</td>\n",
       "      <td>5.012029</td>\n",
       "      <td>5.031433</td>\n",
       "      <td>5.031274</td>\n",
       "      <td>5.035135</td>\n",
       "      <td>4.999756</td>\n",
       "      <td>5.009460</td>\n",
       "    </tr>\n",
       "    <tr>\n",
       "      <th>max</th>\n",
       "      <td>5.195028</td>\n",
       "      <td>5.061568</td>\n",
       "      <td>6.386555</td>\n",
       "      <td>6.284238</td>\n",
       "      <td>6.139301</td>\n",
       "      <td>6.196094</td>\n",
       "      <td>6.307032</td>\n",
       "      <td>6.376833</td>\n",
       "      <td>6.352209</td>\n",
       "    </tr>\n",
       "  </tbody>\n",
       "</table>\n",
       "</div>"
      ],
      "text/plain": [
       "              1           2           4           8           16          32   \\\n",
       "count  100.000000  100.000000  100.000000  100.000000  100.000000  100.000000   \n",
       "mean     2.152711    3.431163    4.735579    4.757005    4.746503    4.677245   \n",
       "std      1.197341    0.801431    0.470647    0.464274    0.481904    0.696306   \n",
       "min     -0.143751    1.023711    3.757597    3.746899    3.703366   -0.221971   \n",
       "25%      1.283354    2.877161    4.449526    4.447033    4.426597    4.411030   \n",
       "50%      1.912740    3.341536    4.659961    4.698884    4.686885    4.667375   \n",
       "75%      2.922163    3.963974    5.023880    5.012029    5.031433    5.031274   \n",
       "max      5.195028    5.061568    6.386555    6.284238    6.139301    6.196094   \n",
       "\n",
       "              64          128         256  \n",
       "count  100.000000  100.000000  100.000000  \n",
       "mean     4.605754    4.542724    4.473064  \n",
       "std      1.260506    1.803517    2.609404  \n",
       "min     -6.497554  -12.519507  -20.869533  \n",
       "25%      4.410247    4.363565    4.395252  \n",
       "50%      4.676816    4.657987    4.671454  \n",
       "75%      5.035135    4.999756    5.009460  \n",
       "max      6.307032    6.376833    6.352209  "
      ]
     },
     "execution_count": 26,
     "metadata": {},
     "output_type": "execute_result"
    }
   ],
   "source": [
    "D = 9\n",
    "degrees = 2**np.arange(D)\n",
    "all_scores = np.zeros((K, D))\n",
    "for i, d in enumerate(degrees):\n",
    "    scores = cv_mse(d)\n",
    "    all_scores[:, i] = scores\n",
    "df = pd.DataFrame(-np.log(all_scores), columns=degrees)\n",
    "df.describe()"
   ]
  },
  {
   "cell_type": "code",
   "execution_count": 27,
   "metadata": {},
   "outputs": [
    {
     "data": {
      "image/png": "[encoded data removed]",
      "text/plain": [
       "<matplotlib.figure.Figure at 0x1171a9eb8>"
      ]
     },
     "metadata": {},
     "output_type": "display_data"
    }
   ],
   "source": [
    "df.mean().plot(kind=\"bar\", rot=0, yerr=df.std())\n",
    "plt.show()"
   ]
  },
  {
   "cell_type": "code",
   "execution_count": null,
   "metadata": {},
   "outputs": [],
   "source": []
  },
  {
   "cell_type": "markdown",
   "metadata": {},
   "source": [
    "##### 정규화 하이퍼 모수 최적화 : cv_score를 최대로 만드는 alpha값"
   ]
  },
  {
   "cell_type": "code",
   "execution_count": 28,
   "metadata": {},
   "outputs": [
    {
     "data": {
      "image/png": "[encoded data removed]",
      "text/plain": [
       "<matplotlib.figure.Figure at 0x112e86898>"
      ]
     },
     "metadata": {},
     "output_type": "display_data"
    }
   ],
   "source": [
    "from sklearn.datasets import load_diabetes\n",
    "from sklearn.linear_model import Lasso\n",
    "from sklearn.cross_validation import cross_val_score\n",
    "\n",
    "data = load_diabetes()\n",
    "X = data.data[:200]\n",
    "y = data.target[:200]\n",
    "\n",
    "model = Lasso()\n",
    "alphas = np.logspace(-4, -.5, 50)\n",
    "\n",
    "scores = list()\n",
    "\n",
    "for alpha in alphas:\n",
    "    model.alpha = alpha\n",
    "    this_scores = cross_val_score(model, X, y, \"neg_mean_squared_error\", cv=5)\n",
    "    scores.append(np.mean(this_scores))\n",
    "\n",
    "plt.semilogx(alphas, scores)\n",
    "plt.ylabel('CV score')\n",
    "plt.xlabel('alpha')\n",
    "plt.axhline(np.max(scores), linestyle=':')\n",
    "plt.show()"
   ]
  },
  {
   "cell_type": "code",
   "execution_count": 29,
   "metadata": {},
   "outputs": [
    {
     "name": "stdout",
     "output_type": "stream",
     "text": [
      "0.0439397056076\n"
     ]
    },
    {
     "data": {
      "image/png": "[encoded data removed]",
      "text/plain": [
       "<matplotlib.figure.Figure at 0x117093048>"
      ]
     },
     "metadata": {},
     "output_type": "display_data"
    }
   ],
   "source": [
    "from sklearn.linear_model import LassoCV\n",
    "\n",
    "alphas = np.logspace(-4, -.5, 50)\n",
    "lasso_cv = LassoCV(alphas=alphas, cv=5)\n",
    "lasso_cv.fit(X, y)\n",
    "\n",
    "print(lasso_cv.alpha_ )\n",
    "\n",
    "scores = -lasso_cv.mse_path_.mean(axis=1)\n",
    "plt.semilogx(lasso_cv.alphas_, scores)\n",
    "plt.axhline(np.max(scores), linestyle=':')    \n",
    "plt.axvline(lasso_cv.alpha_ , linestyle=':')   \n",
    "plt.ylabel('CV score')\n",
    "plt.xlabel('alpha')\n",
    "plt.show()"
   ]
  },
  {
   "cell_type": "markdown",
   "metadata": {},
   "source": [
    "##### One Standard Error Rule : cv_score가 조금 낮더라도 제약조건이 더 강한 (alpha값이 더 큰) 모델을 선택하는 뷰"
   ]
  },
  {
   "cell_type": "code",
   "execution_count": 30,
   "metadata": {},
   "outputs": [
    {
     "name": "stdout",
     "output_type": "stream",
     "text": [
      "0.117876863479\n"
     ]
    },
    {
     "data": {
      "image/png": "[encoded data removed]",
      "text/plain": [
       "<matplotlib.figure.Figure at 0x1193b91d0>"
      ]
     },
     "metadata": {},
     "output_type": "display_data"
    }
   ],
   "source": [
    "from sklearn.linear_model import LassoCV\n",
    "\n",
    "alphas = np.logspace(-4, -.5, 50)\n",
    "lasso_cv = LassoCV(alphas=alphas, cv=5)\n",
    "lasso_cv.fit(X, y)\n",
    "\n",
    "scores = -lasso_cv.mse_path_.mean(axis=1)\n",
    "scores_std = lasso_cv.mse_path_.std(axis=1)\n",
    "scores_std1 = scores + scores_std / np.sqrt(len(lasso_cv.mse_path_))\n",
    "scores_std2 = scores - scores_std / np.sqrt(len(lasso_cv.mse_path_))\n",
    "\n",
    "alpha_1se = lasso_cv.alphas_[np.argmax(scores_std1 > np.max(scores))]\n",
    "print(alpha_1se)\n",
    "\n",
    "plt.semilogx(lasso_cv.alphas_, scores)\n",
    "plt.semilogx(lasso_cv.alphas_, scores_std1, 'o-')\n",
    "plt.semilogx(lasso_cv.alphas_, scores_std2, 'o-')\n",
    "plt.axhline(np.max(scores), linestyle=':')    \n",
    "plt.axvline(lasso_cv.alpha_ , linestyle=':')   \n",
    "plt.axvline(alpha_1se, linestyle=':')   \n",
    "plt.ylabel('CV score')\n",
    "plt.xlabel('alpha')\n",
    "plt.show()"
   ]
  },
  {
   "cell_type": "code",
   "execution_count": null,
   "metadata": {},
   "outputs": [],
   "source": []
  }
 ],
 "metadata": {
  "kernelspec": {
   "display_name": "Python 3",
   "language": "python",
   "name": "python3"
  },
  "language_info": {
   "codemirror_mode": {
    "name": "ipython",
    "version": 3
   },
   "file_extension": ".py",
   "mimetype": "text/x-python",
   "name": "python",
   "nbconvert_exporter": "python",
   "pygments_lexer": "ipython3",
   "version": "3.6.3"
  }
 },
 "nbformat": 4,
 "nbformat_minor": 2
}
