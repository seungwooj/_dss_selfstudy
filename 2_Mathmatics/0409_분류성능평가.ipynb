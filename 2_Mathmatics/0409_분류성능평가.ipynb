{
 "cells": [
  {
   "cell_type": "markdown",
   "metadata": {},
   "source": [
    "##### 1. Confusion Matrix\n",
    "- target의 원래 클래스 - 모형이 예측한 클래스가 일치하는 갯수로 센 결과\n",
    "- 원래 클래스 (행), 예측한 클래스 (열)"
   ]
  },
  {
   "cell_type": "markdown",
   "metadata": {},
   "source": [
    "##### 2. Binary Confusion Matrix\n",
    "- 클래스는 0(Positive) / 1(Negative) 2개\n",
    "- 원래 = 예측 : \"True\" / 원래 != 예측 : \"False\"\n",
    "- Positive로 예측 : TorF Positive / Negative로 예측 : TorF Negative"
   ]
  },
  {
   "cell_type": "markdown",
   "metadata": {},
   "source": [
    "##### 3. 평가 스코어\n",
    "- Accuracy (정확도) : 전체 샘플 중 맞게 예측한 샘플의 비율\n",
    "    (TP + TN) / (TP + TN + FN + FP)\n",
    "    \n",
    "- Precision (정밀도) : 실제P / 예측P, TP / (TP + FP) -> FP최소화 목표, FN이 증가할 우려가 있음.\n",
    "    \n",
    "- Recall (재현율) : 예측P / 실제P, TP / (TP + FN) -> FN최소화 목표\n",
    "\n",
    "- Fall-out (양성율) : C(예측N) / 실제N : FP / (FP + TN) -> 억울한 비율\n",
    "    \n",
    "- F score : Precision과 Fall-out의 가중조화평균 <br>\n",
    "*beta : precision의 가중치\n",
    "\n",
    "    "
   ]
  },
  {
   "cell_type": "markdown",
   "metadata": {},
   "source": [
    "##### 4. 각 평가 스코어간의 관계\n",
    "- Recall & Fall-out : 비례관계 <br>\n",
    "    (범죄자를 많이 잡아들일수록 억울하게 잡혀들어가는애들도 많아짐.)\n",
    "- Precision & Recall : 반비례관계\n",
    "- Precision & Fall-out : 반비례관계 <br>\n",
    "    (precision올리려고 예측한 애들 중 확실한 애들만 잡음 (TP 감소) <br>\n",
    "    -> 범죄 저질렀는데 안잡히고 풀려나는애들 증가 (FN 증가 : Recall 감소) <br>\n",
    "    -> 범죄 안저질렀는데 억울하게 잡히는 애들 감소 (FP 감소 : Fall-out감소))"
   ]
  },
  {
   "cell_type": "markdown",
   "metadata": {},
   "source": [
    "##### 5. ROC커브 (Receiver Operator Characteristic)\n",
    "- confusion matrix가 똑같을 때, 평가 스코어들이 동일하게 나와서 <br>\n",
    "서로 다른 성격의 모형들의 차이를 나타내기 위한 방법 중 하나.\n",
    "- 이진분류모형의 경우 판별함수값 기준값이 0으로 기본 셋팅됨. <br>\n",
    "\n",
    "<진행>\n",
    "1. 모든 표본데이터의 판별함수값 (discriminant function)계산.\n",
    "2. 계산된 판별함수값을 오름차순 정렬\n",
    "3. 0이 아닌 가장 작은 판별함수값 기준 클래스 구분 <br>\n",
    "-> 모든 표본 클래스 1, Fall-out = Recall = 1\n",
    "4. ~가장 큰 판별함수값 기준 클래스 구분 <br>\n",
    "-> 모든 표본 클래스 0, Fall-out = Recall = 0 <br>\n",
    "\n",
    "<좋은모형?>\n",
    "- 모델이 좌측 상단에 있을 수록 좋음.\n",
    "- Fall-out보다 Recall증가가 빠를수록 좋음 (기울기가 가파를수록!)\n",
    "\n",
    "<나쁜모형?>\n",
    "- Fall-out = Recall  : 일직선일때 (기울기1)\n",
    "- 일직선 아래로 내려가는 것은 \"모델이 비정상\"임을 의미\n"
   ]
  },
  {
   "cell_type": "markdown",
   "metadata": {},
   "source": [
    "##### 5. AUC (Area Under the Curve) : ROC커브의 면적\n",
    "- Fall-out대비 Recall이 클수록 AUC가 1에 가깝고 좋은 모형"
   ]
  },
  {
   "cell_type": "code",
   "execution_count": null,
   "metadata": {},
   "outputs": [],
   "source": []
  },
  {
   "cell_type": "code",
   "execution_count": 3,
   "metadata": {},
   "outputs": [],
   "source": [
    "#confusion matrix\n",
    "from sklearn.metrics import confusion_matrix"
   ]
  },
  {
   "cell_type": "code",
   "execution_count": 4,
   "metadata": {},
   "outputs": [
    {
     "data": {
      "text/plain": [
       "array([[2, 0, 0],\n",
       "       [0, 0, 1],\n",
       "       [1, 0, 2]])"
      ]
     },
     "execution_count": 4,
     "metadata": {},
     "output_type": "execute_result"
    }
   ],
   "source": [
    "y_true = [2,0,2,2,0,1]\n",
    "y_pred = [0,0,2,2,0,2]\n",
    "confusion_matrix(y_true, y_pred)"
   ]
  },
  {
   "cell_type": "code",
   "execution_count": 5,
   "metadata": {},
   "outputs": [],
   "source": [
    "#classification_report\n",
    "from sklearn.metrics import *"
   ]
  },
  {
   "cell_type": "code",
   "execution_count": 6,
   "metadata": {},
   "outputs": [
    {
     "name": "stdout",
     "output_type": "stream",
     "text": [
      "             precision    recall  f1-score   support\n",
      "\n",
      "    class 0       0.50      1.00      0.67         1\n",
      "    class 1       0.00      0.00      0.00         1\n",
      "    class 2       1.00      0.67      0.80         3\n",
      "\n",
      "avg / total       0.70      0.60      0.61         5\n",
      "\n"
     ]
    }
   ],
   "source": [
    "y_true = [0,1,2,2,2]\n",
    "y_pred = [0,0,2,2,1]\n",
    "target_names = ['class 0', 'class 1', 'class 2']\n",
    "print(classification_report(y_true, y_pred, target_names=target_names))"
   ]
  },
  {
   "cell_type": "code",
   "execution_count": 8,
   "metadata": {},
   "outputs": [],
   "source": [
    "#ROC커브\n",
    "from sklearn.datasets import make_classification\n",
    "X, y = make_classification(n_samples=10000, weights=[0.9, 0.1], random_state=1)"
   ]
  },
  {
   "cell_type": "code",
   "execution_count": 9,
   "metadata": {},
   "outputs": [],
   "source": [
    "from sklearn.linear_model import LogisticRegression\n",
    "from sklearn.svm import SVC\n",
    "\n",
    "model1 = LogisticRegression().fit(X,y)\n",
    "y_hat1 = model1.predict(X)\n",
    "\n",
    "model2 = SVC(gamma=0.0026, C=10, probability=True).fit(X,y)\n",
    "y_hat2 = model2.predict(X)"
   ]
  },
  {
   "cell_type": "code",
   "execution_count": 10,
   "metadata": {},
   "outputs": [
    {
     "name": "stdout",
     "output_type": "stream",
     "text": [
      "[[8853   94]\n",
      " [ 397  656]]\n"
     ]
    }
   ],
   "source": [
    "print(confusion_matrix(y, y_hat1))"
   ]
  },
  {
   "cell_type": "code",
   "execution_count": 12,
   "metadata": {},
   "outputs": [
    {
     "name": "stdout",
     "output_type": "stream",
     "text": [
      "[[8894   53]\n",
      " [ 397  656]]\n"
     ]
    }
   ],
   "source": [
    "print(confusion_matrix(y, y_hat2))"
   ]
  },
  {
   "cell_type": "code",
   "execution_count": 15,
   "metadata": {},
   "outputs": [
    {
     "name": "stdout",
     "output_type": "stream",
     "text": [
      "             precision    recall  f1-score   support\n",
      "\n",
      "          0       0.96      0.99      0.97      8947\n",
      "          1       0.87      0.62      0.73      1053\n",
      "\n",
      "avg / total       0.95      0.95      0.95     10000\n",
      "\n"
     ]
    }
   ],
   "source": [
    "print(classification_report(y, model1. predict(X)))"
   ]
  },
  {
   "cell_type": "code",
   "execution_count": 16,
   "metadata": {},
   "outputs": [
    {
     "name": "stdout",
     "output_type": "stream",
     "text": [
      "             precision    recall  f1-score   support\n",
      "\n",
      "          0       0.96      0.99      0.98      8947\n",
      "          1       0.93      0.62      0.74      1053\n",
      "\n",
      "avg / total       0.95      0.95      0.95     10000\n",
      "\n"
     ]
    }
   ],
   "source": [
    "print(classification_report(y, model2. predict(X)))"
   ]
  },
  {
   "cell_type": "code",
   "execution_count": 17,
   "metadata": {},
   "outputs": [],
   "source": [
    "from sklearn.metrics import roc_curve\n",
    "\n",
    "fpr1, tpr1, thresholds1 = roc_curve(y, model1.decision_function(X))\n",
    "fpr2, tpr2, thresholds2 = roc_curve(y, model2.decision_function(X))"
   ]
  },
  {
   "cell_type": "code",
   "execution_count": 21,
   "metadata": {},
   "outputs": [],
   "source": [
    "from sklearn.metrics import roc_curve\n",
    "\n",
    "fpr1, tpr1, thresholds1 = roc_curve(y, model1.predict_proba(X)[:,1])\n",
    "fpr2, tpr2, thresholds2 = roc_curve(y, model2.predict_proba(X)[:,1])"
   ]
  },
  {
   "cell_type": "code",
   "execution_count": 22,
   "metadata": {},
   "outputs": [
    {
     "data": {
      "image/png": "[encoded data removed]",
      "text/plain": [
       "<matplotlib.figure.Figure at 0x1176b4d68>"
      ]
     },
     "metadata": {},
     "output_type": "display_data"
    }
   ],
   "source": [
    "plt.plot(fpr1, tpr1, label=\"Logistic Regression\")\n",
    "plt.plot(fpr2, tpr2, label=\"Kernel SVM\")\n",
    "plt.legend()\n",
    "plt.plot([0, 1], [0, 1], 'k--', label=\"random guess\")\n",
    "plt.xlabel('False Positive Rate (Fall-Out)')\n",
    "plt.ylabel('True Positive Rate (Recall)')\n",
    "plt.title('Receiver operating characteristic example')\n",
    "plt.show()"
   ]
  },
  {
   "cell_type": "code",
   "execution_count": 30,
   "metadata": {},
   "outputs": [
    {
     "data": {
      "image/png": "[encoded data removed]",
      "text/plain": [
       "<matplotlib.figure.Figure at 0x1176c72b0>"
      ]
     },
     "metadata": {},
     "output_type": "display_data"
    }
   ],
   "source": [
    "#다중클래스 : 각각의 클래스에 대해 OvR문제를 가정, ROC커브를 그린다.\n",
    "from sklearn.naive_bayes import GaussianNB\n",
    "from sklearn.datasets import load_iris\n",
    "from sklearn.preprocessing import label_binarize\n",
    "\n",
    "iris = load_iris()\n",
    "X = iris.data\n",
    "y = label_binarize(iris.target, [0,1,2])\n",
    "#0,1,2의 클래스 라벨을 biarize (1) 로 바꾸고 행렬형태로 만들어줌. (OvR적용하기 위해)\n",
    "\n",
    "fpr = [None] * 3\n",
    "tpr = [None] * 3\n",
    "thr = [None] * 3\n",
    "\n",
    "for i in range(3):\n",
    "    model = GaussianNB().fit(X,y[:,i]) #각각의 클래스들로 하나씩 모델 생성\n",
    "    fpr[i], tpr[i], thr[i] = roc_curve(y[:, i], model.predict_proba(X)[:,1])\n",
    "    plt.plot(fpr[i], tpr[i])\n",
    "    \n",
    "plt.xlabel('False Positive Rate (Fall-Out)')\n",
    "plt.ylabel('True Positive Rate (Recall)')\n",
    "plt.show()"
   ]
  },
  {
   "cell_type": "code",
   "execution_count": null,
   "metadata": {},
   "outputs": [],
   "source": []
  },
  {
   "cell_type": "code",
   "execution_count": 31,
   "metadata": {},
   "outputs": [
    {
     "data": {
      "text/plain": [
       "(0.9227893798140808, 0.9486320784707581)"
      ]
     },
     "execution_count": 31,
     "metadata": {},
     "output_type": "execute_result"
    }
   ],
   "source": [
    "# AUC (Area Under the Curve)\n",
    "\n",
    "from sklearn.metrics import auc\n",
    "auc(fpr1, tpr1), auc(fpr2, tpr2)"
   ]
  }
 ],
 "metadata": {
  "kernelspec": {
   "display_name": "Python 3",
   "language": "python",
   "name": "python3"
  },
  "language_info": {
   "codemirror_mode": {
    "name": "ipython",
    "version": 3
   },
   "file_extension": ".py",
   "mimetype": "text/x-python",
   "name": "python",
   "nbconvert_exporter": "python",
   "pygments_lexer": "ipython3",
   "version": "3.6.3"
  }
 },
 "nbformat": 4,
 "nbformat_minor": 2
}
