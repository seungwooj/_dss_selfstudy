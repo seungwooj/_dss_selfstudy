{
 "cells": [
  {
   "cell_type": "markdown",
   "metadata": {},
   "source": [
    "##### 1. Confusion Matrix\n",
    "- target의 원래 클래스 - 모형이 예측한 클래스가 일치하는 갯수로 센 결과\n",
    "- 원래 클래스 (행), 예측한 클래스 (열)"
   ]
  },
  {
   "cell_type": "markdown",
   "metadata": {},
   "source": [
    "##### 2. Binary Confusion Matrix\n",
    "- 클래스는 0(Positive) / 1(Negative) 2개\n",
    "- 원래 = 예측 : \"True\" / 원래 != 예측 : \"False\"\n",
    "- Positive로 예측 : TorF Positive / Negative로 예측 : TorF Negative"
   ]
  },
  {
   "cell_type": "markdown",
   "metadata": {},
   "source": [
    "##### 3. 평가 스코어\n",
    "- Accuracy (정확도) : 전체 샘플 중 맞게 예측한 샘플의 비율\n",
    "    (TP + TN) / (TP + TN + FN + FP)\n",
    "    \n",
    "- Precision (정밀도) : 실제P / 예측P, TP / (TP + FP) -> FP최소화 목표, FN이 증가할 우려가 있음.\n",
    "    \n",
    "- Recall (재현율) : 예측P / 실제P, TP / (TP + FN) -> FN최소화 목표\n",
    "\n",
    "- Fall-out (양성율) : C(예측N) / 실제N : FP / (FP + TN) -> 억울한 비율\n",
    "    \n",
    "- F score : Precision과 Fall-out의 가중조화평균 <br>\n",
    "*beta : precision의 가중치\n",
    "\n",
    "    "
   ]
  },
  {
   "cell_type": "markdown",
   "metadata": {},
   "source": [
    "##### 4. 각 평가 스코어간의 관계\n",
    "- Recall & Fall-out : 비례관계 <br>\n",
    "    (범죄자를 많이 잡아들일수록 억울하게 잡혀들어가는애들도 많아짐.)\n",
    "- Precision & Recall : 반비례관계\n",
    "- Precision & Fall-out : 반비례관계 <br>\n",
    "    (precision올리려고 예측한 애들 중 확실한 애들만 잡음 (TP 감소) <br>\n",
    "    -> 범죄 저질렀는데 안잡히고 풀려나는애들 증가 (FN 증가 : Recall 감소) <br>\n",
    "    -> 범죄 안저질렀는데 억울하게 잡히는 애들 감소 (FP 감소 : Fall-out감소))"
   ]
  },
  {
   "cell_type": "markdown",
   "metadata": {},
   "source": [
    "##### 5. ROC커브 (Receiver Operator Characteristic)\n",
    "- confusion matrix가 똑같을 때, 평가 스코어들이 동일하게 나와서 <br>\n",
    "서로 다른 성격의 모형들의 차이를 나타내기 위한 방법 중 하나.\n",
    "- 이진분류모형의 경우 판별함수값 기준값이 0으로 기본 셋팅됨. <br>\n",
    "\n",
    "<진행>\n",
    "1. 모든 표본데이터의 판별함수값 (discriminant function)계산.\n",
    "2. 계산된 판별함수값을 오름차순 정렬\n",
    "3. 0이 아닌 가장 작은 판별함수값 기준 클래스 구분 <br>\n",
    "-> 모든 표본 클래스 1, Fall-out = Recall = 1\n",
    "4. ~가장 큰 판별함수값 기준 클래스 구분 <br>\n",
    "-> 모든 표본 클래스 0, Fall-out = Recall = 0 <br>\n",
    "\n",
    "<좋은모형?>\n",
    "- 모델이 좌측 상단에 있을 수록 좋음.\n",
    "- Fall-out보다 Recall증가가 빠를수록 좋음 (기울기가 가파를수록!)\n",
    "\n",
    "<나쁜모형?>\n",
    "- Fall-out = Recall  : 일직선일때 (기울기1)\n",
    "- 일직선 아래로 내려가는 것은 \"모델이 비정상\"임을 의미\n"
   ]
  },
  {
   "cell_type": "markdown",
   "metadata": {},
   "source": [
    "##### 5. AUC (Area Under the Curve) : ROC커브의 면적\n",
    "- Fall-out대비 Recall이 클수록 AUC가 1에 가깝고 좋은 모형"
   ]
  },
  {
   "cell_type": "code",
   "execution_count": null,
   "metadata": {},
   "outputs": [],
   "source": []
  }
 ],
 "metadata": {
  "kernelspec": {
   "display_name": "Python 3",
   "language": "python",
   "name": "python3"
  },
  "language_info": {
   "codemirror_mode": {
    "name": "ipython",
    "version": 3
   },
   "file_extension": ".py",
   "mimetype": "text/x-python",
   "name": "python",
   "nbconvert_exporter": "python",
   "pygments_lexer": "ipython3",
   "version": "3.6.3"
  }
 },
 "nbformat": 4,
 "nbformat_minor": 2
}
