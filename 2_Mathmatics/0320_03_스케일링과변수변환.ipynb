{
 "cells": [
  {
   "cell_type": "code",
   "execution_count": 1,
   "metadata": {},
   "outputs": [
    {
     "name": "stderr",
     "output_type": "stream",
     "text": [
      "/Library/Frameworks/Python.framework/Versions/3.6/lib/python3.6/site-packages/statsmodels/compat/pandas.py:56: FutureWarning: The pandas.core.datetools module is deprecated and will be removed in a future version. Please use the pandas.tseries module instead.\n",
      "  from pandas.core import datetools\n"
     ]
    }
   ],
   "source": [
    "import pandas as pd\n",
    "import numpy as np\n",
    "import datetime as dt\n",
    "import time\n",
    "import matplotlib as mpl\n",
    "import matplotlib.pyplot as plt\n",
    "import seaborn as sns\n",
    "import scipy as sp\n",
    "import statsmodels.api as sm # statsmodel 기본 import\n",
    "import statsmodels.formula.api as smf\n",
    "import statsmodels.stats.api as sms \n",
    "import sklearn as sk\n",
    "from patsy import dmatrix"
   ]
  },
  {
   "cell_type": "markdown",
   "metadata": {},
   "source": [
    "##### 조건수"
   ]
  },
  {
   "cell_type": "code",
   "execution_count": 2,
   "metadata": {},
   "outputs": [],
   "source": [
    "A = np.eye(4)"
   ]
  },
  {
   "cell_type": "code",
   "execution_count": 3,
   "metadata": {},
   "outputs": [
    {
     "data": {
      "text/plain": [
       "array([ 1.,  1.,  1.,  1.])"
      ]
     },
     "execution_count": 3,
     "metadata": {},
     "output_type": "execute_result"
    }
   ],
   "source": [
    "b = np.ones(4)\n",
    "sp.linalg.solve(A,b)   #Ax = b 의 x 찾는 식"
   ]
  },
  {
   "cell_type": "code",
   "execution_count": 4,
   "metadata": {},
   "outputs": [
    {
     "data": {
      "text/plain": [
       "array([ 0.99990001,  0.99990001,  0.99990001,  0.99990001])"
      ]
     },
     "execution_count": 4,
     "metadata": {},
     "output_type": "execute_result"
    }
   ],
   "source": [
    "sp.linalg.solve(A + 0.0001 * np.eye(4), b) #A에 약간의 오차가 발생할 경우, x에도 오차가 발생"
   ]
  },
  {
   "cell_type": "code",
   "execution_count": 5,
   "metadata": {},
   "outputs": [
    {
     "data": {
      "text/plain": [
       "array([[ 1.        ,  0.5       ,  0.33333333,  0.25      ],\n",
       "       [ 0.5       ,  0.33333333,  0.25      ,  0.2       ],\n",
       "       [ 0.33333333,  0.25      ,  0.2       ,  0.16666667],\n",
       "       [ 0.25      ,  0.2       ,  0.16666667,  0.14285714]])"
      ]
     },
     "execution_count": 5,
     "metadata": {},
     "output_type": "execute_result"
    }
   ],
   "source": [
    "A = sp.linalg.hilbert(4)\n",
    "A"
   ]
  },
  {
   "cell_type": "code",
   "execution_count": 6,
   "metadata": {},
   "outputs": [
    {
     "data": {
      "text/plain": [
       "15513.738738929662"
      ]
     },
     "execution_count": 6,
     "metadata": {},
     "output_type": "execute_result"
    }
   ],
   "source": [
    "np.linalg.cond(A) #Ax=b일때의 조건수"
   ]
  },
  {
   "cell_type": "code",
   "execution_count": 7,
   "metadata": {},
   "outputs": [
    {
     "data": {
      "text/plain": [
       "array([  -4.,   60., -180.,  140.])"
      ]
     },
     "execution_count": 7,
     "metadata": {},
     "output_type": "execute_result"
    }
   ],
   "source": [
    "sp.linalg.solve(A, b)  #조건수가 위에 보는것처럼 10000수준만 되도 기존의 x가 전혀 다른 행렬이 됨"
   ]
  },
  {
   "cell_type": "code",
   "execution_count": 8,
   "metadata": {},
   "outputs": [
    {
     "data": {
      "text/plain": [
       "array([ -0.58897672,  21.1225671 , -85.75912499,  78.45650825])"
      ]
     },
     "execution_count": 8,
     "metadata": {},
     "output_type": "execute_result"
    }
   ],
   "source": [
    "sp.linalg.solve(A + 0.0001 * np.eye(4), b)  \n",
    "#앞서 구했던 x의 예측값도 전혀 다른 행렬이 된다. => cont'd가 커질경우 회귀모델의 성능이 매우 안좋아진다."
   ]
  },
  {
   "cell_type": "markdown",
   "metadata": {},
   "source": [
    "##### 스케일링"
   ]
  },
  {
   "cell_type": "code",
   "execution_count": 9,
   "metadata": {},
   "outputs": [
    {
     "name": "stdout",
     "output_type": "stream",
     "text": [
      "                            OLS Regression Results                            \n",
      "==============================================================================\n",
      "Dep. Variable:                   MEDV   R-squared:                       0.741\n",
      "Model:                            OLS   Adj. R-squared:                  0.734\n",
      "Method:                 Least Squares   F-statistic:                     108.1\n",
      "Date:                Tue, 20 Mar 2018   Prob (F-statistic):          6.95e-135\n",
      "Time:                        20:43:59   Log-Likelihood:                -1498.8\n",
      "No. Observations:                 506   AIC:                             3026.\n",
      "Df Residuals:                     492   BIC:                             3085.\n",
      "Df Model:                          13                                         \n",
      "Covariance Type:            nonrobust                                         \n",
      "==============================================================================\n",
      "                 coef    std err          t      P>|t|      [0.025      0.975]\n",
      "------------------------------------------------------------------------------\n",
      "Intercept     36.4911      5.104      7.149      0.000      26.462      46.520\n",
      "CRIM          -0.1072      0.033     -3.276      0.001      -0.171      -0.043\n",
      "ZN             0.0464      0.014      3.380      0.001       0.019       0.073\n",
      "INDUS          0.0209      0.061      0.339      0.735      -0.100       0.142\n",
      "NOX          -17.7958      3.821     -4.658      0.000     -25.302     -10.289\n",
      "RM             3.8048      0.418      9.102      0.000       2.983       4.626\n",
      "AGE            0.0008      0.013      0.057      0.955      -0.025       0.027\n",
      "DIS           -1.4758      0.199     -7.398      0.000      -1.868      -1.084\n",
      "RAD            0.3057      0.066      4.608      0.000       0.175       0.436\n",
      "TAX           -0.0123      0.004     -3.278      0.001      -0.020      -0.005\n",
      "PTRATIO       -0.9535      0.131     -7.287      0.000      -1.211      -0.696\n",
      "B              0.0094      0.003      3.500      0.001       0.004       0.015\n",
      "LSTAT         -0.5255      0.051    -10.366      0.000      -0.625      -0.426\n",
      "CHAS           2.6886      0.862      3.120      0.002       0.996       4.381\n",
      "==============================================================================\n",
      "Omnibus:                      178.029   Durbin-Watson:                   1.078\n",
      "Prob(Omnibus):                  0.000   Jarque-Bera (JB):              782.015\n",
      "Skew:                           1.521   Prob(JB):                    1.54e-170\n",
      "Kurtosis:                       8.276   Cond. No.                     1.51e+04\n",
      "==============================================================================\n",
      "\n",
      "Warnings:\n",
      "[1] Standard Errors assume that the covariance matrix of the errors is correctly specified.\n",
      "[2] The condition number is large, 1.51e+04. This might indicate that there are\n",
      "strong multicollinearity or other numerical problems.\n"
     ]
    }
   ],
   "source": [
    "#보스턴 집값 데이\n",
    "\n",
    "from sklearn.datasets import load_boston\n",
    "boston = load_boston()\n",
    "dfX = pd.DataFrame(boston.data, columns = boston.feature_names)\n",
    "dfy = pd.DataFrame(boston.target, columns=[\"MEDV\"])\n",
    "df = pd.concat([dfX, dfy], axis=1)\n",
    "\n",
    "model1 = sm.OLS.from_formula(\"MEDV~\"\n",
    "                            \"CRIM + ZN + INDUS + NOX + RM + AGE + \"\n",
    "                            \"DIS + RAD + TAX + PTRATIO + B + LSTAT + CHAS\",\n",
    "                            data = df)\n",
    "result1 = model1.fit()\n",
    "print(result1.summary())"
   ]
  },
  {
   "cell_type": "code",
   "execution_count": null,
   "metadata": {},
   "outputs": [],
   "source": [
    "#현재 상태에서 cont' d 매우 큰 것을 알 수 있음.\n",
    "#이는 회귀분석의 성능을 좋지 않게 만드므로, 스케일링 진행"
   ]
  },
  {
   "cell_type": "code",
   "execution_count": 10,
   "metadata": {},
   "outputs": [
    {
     "name": "stdout",
     "output_type": "stream",
     "text": [
      "                            OLS Regression Results                            \n",
      "==============================================================================\n",
      "Dep. Variable:                   MEDV   R-squared:                       0.741\n",
      "Model:                            OLS   Adj. R-squared:                  0.734\n",
      "Method:                 Least Squares   F-statistic:                     108.1\n",
      "Date:                Tue, 20 Mar 2018   Prob (F-statistic):          6.95e-135\n",
      "Time:                        20:47:05   Log-Likelihood:                -1498.8\n",
      "No. Observations:                 506   AIC:                             3026.\n",
      "Df Residuals:                     492   BIC:                             3085.\n",
      "Df Model:                          13                                         \n",
      "Covariance Type:            nonrobust                                         \n",
      "==================================================================================\n",
      "                     coef    std err          t      P>|t|      [0.025      0.975]\n",
      "----------------------------------------------------------------------------------\n",
      "Intercept         22.3468      0.219    101.936      0.000      21.916      22.778\n",
      "scale(CRIM)       -0.9204      0.281     -3.276      0.001      -1.472      -0.368\n",
      "scale(ZN)          1.0810      0.320      3.380      0.001       0.453       1.709\n",
      "scale(INDUS)       0.1430      0.421      0.339      0.735      -0.685       0.971\n",
      "scale(NOX)        -2.0601      0.442     -4.658      0.000      -2.929      -1.191\n",
      "scale(RM)          2.6706      0.293      9.102      0.000       2.094       3.247\n",
      "scale(AGE)         0.0211      0.371      0.057      0.955      -0.709       0.751\n",
      "scale(DIS)        -3.1044      0.420     -7.398      0.000      -3.929      -2.280\n",
      "scale(RAD)         2.6588      0.577      4.608      0.000       1.525       3.792\n",
      "scale(TAX)        -2.0759      0.633     -3.278      0.001      -3.320      -0.832\n",
      "scale(PTRATIO)    -2.0622      0.283     -7.287      0.000      -2.618      -1.506\n",
      "scale(B)           0.8566      0.245      3.500      0.001       0.376       1.338\n",
      "scale(LSTAT)      -3.7487      0.362    -10.366      0.000      -4.459      -3.038\n",
      "CHAS               2.6886      0.862      3.120      0.002       0.996       4.381\n",
      "==============================================================================\n",
      "Omnibus:                      178.029   Durbin-Watson:                   1.078\n",
      "Prob(Omnibus):                  0.000   Jarque-Bera (JB):              782.015\n",
      "Skew:                           1.521   Prob(JB):                    1.54e-170\n",
      "Kurtosis:                       8.276   Cond. No.                         10.6\n",
      "==============================================================================\n",
      "\n",
      "Warnings:\n",
      "[1] Standard Errors assume that the covariance matrix of the errors is correctly specified.\n"
     ]
    }
   ],
   "source": [
    "model2 = sm.OLS.from_formula(\"MEDV ~\"\n",
    "                            \"scale(CRIM) + scale(ZN) + scale(INDUS) + scale(NOX) + scale(RM) + scale(AGE) +\"\n",
    "                            \"scale(DIS) + scale(RAD) +  scale(TAX) + scale(PTRATIO) + scale(B) + scale(LSTAT) +\"\n",
    "                            \"CHAS\", data=df)\n",
    "result2 = model2.fit()\n",
    "print(result2.summary())"
   ]
  },
  {
   "cell_type": "code",
   "execution_count": null,
   "metadata": {},
   "outputs": [],
   "source": [
    "# cond't no 확연하게 줄어든 것을 확인할 수 있음."
   ]
  },
  {
   "cell_type": "code",
   "execution_count": null,
   "metadata": {},
   "outputs": [],
   "source": []
  },
  {
   "cell_type": "markdown",
   "metadata": {},
   "source": [
    "##### 변수 변환"
   ]
  },
  {
   "cell_type": "code",
   "execution_count": null,
   "metadata": {},
   "outputs": [],
   "source": [
    "# 독립변수와 종속변수의 관계가 비선형일 때, 이를 선형 관계로 '비슷한 그래프 형태'로 plotting할 수 있게 변수를 변환할 경우,\n",
    "# 회귀 성능이 좋아지기도 함.\n",
    "\n",
    "\n",
    "# 독립변수나 종속변수가 심하게 한쪽으로 치우친 분포를 보이는 경우\n",
    "# 독립변수와 종속변수간 관계가 곱셈 혹은 나눗셈으로 연결된 경우\n",
    "# 종속변수와 예측치(y-hat)가 비선형 관계를 보이는 경우"
   ]
  },
  {
   "cell_type": "code",
   "execution_count": 11,
   "metadata": {},
   "outputs": [
    {
     "name": "stdout",
     "output_type": "stream",
     "text": [
      "                            OLS Regression Results                            \n",
      "==============================================================================\n",
      "Dep. Variable:           np.log(MEDV)   R-squared:                       0.806\n",
      "Model:                            OLS   Adj. R-squared:                  0.801\n",
      "Method:                 Least Squares   F-statistic:                     157.4\n",
      "Date:                Tue, 20 Mar 2018   Prob (F-statistic):          8.61e-166\n",
      "Time:                        20:51:20   Log-Likelihood:                 150.27\n",
      "No. Observations:                 506   AIC:                            -272.5\n",
      "Df Residuals:                     492   BIC:                            -213.4\n",
      "Df Model:                          13                                         \n",
      "Covariance Type:            nonrobust                                         \n",
      "==========================================================================================\n",
      "                             coef    std err          t      P>|t|      [0.025      0.975]\n",
      "------------------------------------------------------------------------------------------\n",
      "Intercept                  3.0284      0.008    359.502      0.000       3.012       3.045\n",
      "scale(CRIM)               -0.1089      0.011     -9.972      0.000      -0.130      -0.087\n",
      "scale(ZN)                 -0.0088      0.012     -0.753      0.452      -0.032       0.014\n",
      "scale(INDUS)               0.0061      0.016      0.376      0.707      -0.026       0.038\n",
      "scale(NOX)                -0.1056      0.018     -5.940      0.000      -0.141      -0.071\n",
      "scale(RM)                  0.0458      0.012      3.884      0.000       0.023       0.069\n",
      "scale(AGE)                 0.0099      0.015      0.669      0.504      -0.019       0.039\n",
      "scale(np.log(DIS))        -0.1082      0.018     -5.896      0.000      -0.144      -0.072\n",
      "scale(RAD)                 0.1270      0.022      5.716      0.000       0.083       0.171\n",
      "scale(TAX)                -0.1054      0.024     -4.333      0.000      -0.153      -0.058\n",
      "scale(np.log(PTRATIO))    -0.0777      0.011     -7.089      0.000      -0.099      -0.056\n",
      "scale(B)                   0.0358      0.009      3.809      0.000       0.017       0.054\n",
      "scale(np.log(LSTAT))      -0.2307      0.015    -15.570      0.000      -0.260      -0.202\n",
      "CHAS                       0.0882      0.033      2.662      0.008       0.023       0.153\n",
      "==============================================================================\n",
      "Omnibus:                       39.523   Durbin-Watson:                   1.132\n",
      "Prob(Omnibus):                  0.000   Jarque-Bera (JB):              168.952\n",
      "Skew:                          -0.110   Prob(JB):                     2.05e-37\n",
      "Kurtosis:                       5.822   Cond. No.                         10.7\n",
      "==============================================================================\n",
      "\n",
      "Warnings:\n",
      "[1] Standard Errors assume that the covariance matrix of the errors is correctly specified.\n"
     ]
    }
   ],
   "source": [
    "model3 = sm.OLS.from_formula(\"np.log(MEDV) ~ \"\n",
    "                            \"scale(CRIM) + scale(ZN) + scale(INDUS) + scale(NOX) + scale(RM) + scale(AGE) +\"\n",
    "                            \"scale(np.log(DIS)) + scale(RAD) + scale(TAX) +\"\n",
    "                            \"scale(np.log(PTRATIO)) + scale(B) + scale(np.log(LSTAT)) + CHAS\", data=df)\n",
    "result3 = model3.fit()\n",
    "print(result3.summary())"
   ]
  },
  {
   "cell_type": "code",
   "execution_count": null,
   "metadata": {},
   "outputs": [],
   "source": []
  }
 ],
 "metadata": {
  "kernelspec": {
   "display_name": "Python 3",
   "language": "python",
   "name": "python3"
  },
  "language_info": {
   "codemirror_mode": {
    "name": "ipython",
    "version": 3
   },
   "file_extension": ".py",
   "mimetype": "text/x-python",
   "name": "python",
   "nbconvert_exporter": "python",
   "pygments_lexer": "ipython3",
   "version": "3.6.3"
  }
 },
 "nbformat": 4,
 "nbformat_minor": 2
}
