{
 "cells": [
  {
   "cell_type": "code",
   "execution_count": 1,
   "metadata": {},
   "outputs": [],
   "source": [
    "import numpy as np"
   ]
  },
  {
   "cell_type": "markdown",
   "metadata": {},
   "source": [
    "# 부스팅 방법 (boosting method)\n",
    ": 각각의 모형들이 문제를 풀 때 \"목표가 달라지는\" 앙상블 방법 (앞선 모형 보완)\n",
    "\n",
    "<종류><br>\n",
    "- 에이다부스트 (Ada boost) : training sample에 서로 다른 weight 부여 -> 앞선 모형이 못 푼 것 뒤의 모형은 잘 풀도록\n",
    "- 그레디언트부스트 (Gradient boost) : \"Loss function\" 정의 (어떤 문제를 풀겠다!) => $\\hat{y}$ 과 y 의 차이가 최소가 되도록!"
   ]
  },
  {
   "cell_type": "code",
   "execution_count": null,
   "metadata": {},
   "outputs": [],
   "source": [
    "# 1. 에이다부스트 : 개별 ㅂ"
   ]
  }
 ],
 "metadata": {
  "kernelspec": {
   "display_name": "Python 3",
   "language": "python",
   "name": "python3"
  },
  "language_info": {
   "codemirror_mode": {
    "name": "ipython",
    "version": 3
   },
   "file_extension": ".py",
   "mimetype": "text/x-python",
   "name": "python",
   "nbconvert_exporter": "python",
   "pygments_lexer": "ipython3",
   "version": "3.6.4"
  }
 },
 "nbformat": 4,
 "nbformat_minor": 2
}
