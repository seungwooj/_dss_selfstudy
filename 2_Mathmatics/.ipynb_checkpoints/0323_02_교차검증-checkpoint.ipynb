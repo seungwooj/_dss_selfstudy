{
 "cells": [
  {
   "cell_type": "code",
   "execution_count": 1,
   "metadata": {},
   "outputs": [
    {
     "name": "stderr",
     "output_type": "stream",
     "text": [
      "/Library/Frameworks/Python.framework/Versions/3.6/lib/python3.6/site-packages/statsmodels/compat/pandas.py:56: FutureWarning: The pandas.core.datetools module is deprecated and will be removed in a future version. Please use the pandas.tseries module instead.\n",
      "  from pandas.core import datetools\n"
     ]
    }
   ],
   "source": [
    "import pandas as pd\n",
    "import numpy as np\n",
    "import datetime as dt\n",
    "import time\n",
    "import matplotlib as mpl\n",
    "import matplotlib.pyplot as plt\n",
    "import seaborn as sns\n",
    "import scipy as sp\n",
    "import statsmodels.api as sm # statsmodel 기본 import\n",
    "import statsmodels.formula.api as smf\n",
    "import statsmodels.stats.api as sms \n",
    "import sklearn as sk\n",
    "from patsy import dmatrix"
   ]
  },
  {
   "cell_type": "markdown",
   "metadata": {},
   "source": [
    "##### Scikit-Learn의 교차 검증 기능"
   ]
  },
  {
   "cell_type": "code",
   "execution_count": null,
   "metadata": {},
   "outputs": [],
   "source": [
    "# 단순 데이터의 분리"
   ]
  },
  {
   "cell_type": "code",
   "execution_count": 3,
   "metadata": {},
   "outputs": [
    {
     "data": {
      "text/plain": [
       "array([[0, 1],\n",
       "       [2, 3],\n",
       "       [4, 5],\n",
       "       [6, 7],\n",
       "       [8, 9]])"
      ]
     },
     "execution_count": 3,
     "metadata": {},
     "output_type": "execute_result"
    }
   ],
   "source": [
    "X = np.arange(10).reshape((5, 2))\n",
    "X"
   ]
  },
  {
   "cell_type": "code",
   "execution_count": 4,
   "metadata": {},
   "outputs": [
    {
     "data": {
      "text/plain": [
       "array([0, 1, 2, 3, 4])"
      ]
     },
     "execution_count": 4,
     "metadata": {},
     "output_type": "execute_result"
    }
   ],
   "source": [
    "y = np.arange(5)\n",
    "y"
   ]
  },
  {
   "cell_type": "code",
   "execution_count": 5,
   "metadata": {},
   "outputs": [],
   "source": [
    "from sklearn.model_selection import train_test_split\n",
    "X_train, X_test, y_train, y_test = train_test_split(X, y, test_size=0.33, random_state=42)"
   ]
  },
  {
   "cell_type": "code",
   "execution_count": 6,
   "metadata": {},
   "outputs": [
    {
     "data": {
      "text/plain": [
       "array([[4, 5],\n",
       "       [0, 1],\n",
       "       [6, 7]])"
      ]
     },
     "execution_count": 6,
     "metadata": {},
     "output_type": "execute_result"
    }
   ],
   "source": [
    "X_train"
   ]
  },
  {
   "cell_type": "code",
   "execution_count": 7,
   "metadata": {},
   "outputs": [
    {
     "data": {
      "text/plain": [
       "array([2, 0, 3])"
      ]
     },
     "execution_count": 7,
     "metadata": {},
     "output_type": "execute_result"
    }
   ],
   "source": [
    "y_train"
   ]
  },
  {
   "cell_type": "code",
   "execution_count": 8,
   "metadata": {},
   "outputs": [
    {
     "data": {
      "text/plain": [
       "array([[2, 3],\n",
       "       [8, 9]])"
      ]
     },
     "execution_count": 8,
     "metadata": {},
     "output_type": "execute_result"
    }
   ],
   "source": [
    "X_test"
   ]
  },
  {
   "cell_type": "code",
   "execution_count": 9,
   "metadata": {},
   "outputs": [
    {
     "data": {
      "text/plain": [
       "array([1, 4])"
      ]
     },
     "execution_count": 9,
     "metadata": {},
     "output_type": "execute_result"
    }
   ],
   "source": [
    "y_test"
   ]
  },
  {
   "cell_type": "code",
   "execution_count": null,
   "metadata": {},
   "outputs": [],
   "source": []
  },
  {
   "cell_type": "markdown",
   "metadata": {},
   "source": [
    "##### Cross Validation"
   ]
  },
  {
   "cell_type": "code",
   "execution_count": null,
   "metadata": {},
   "outputs": [],
   "source": [
    "#K-fold CV : 데이터셋을 K개의 sub-set으로 분리, \n",
    "#분리된 subset중 1개 제외, K-1개를 trainingset으로 K개의 모형 추정"
   ]
  },
  {
   "cell_type": "code",
   "execution_count": 10,
   "metadata": {},
   "outputs": [
    {
     "name": "stdout",
     "output_type": "stream",
     "text": [
      "X:\n",
      "[[  0  10]\n",
      " [ 20  30]\n",
      " [ 40  50]\n",
      " [ 60  70]\n",
      " [ 80  90]\n",
      " [100 110]\n",
      " [120 130]\n",
      " [140 150]\n",
      " [160 170]\n",
      " [180 190]\n",
      " [200 210]\n",
      " [220 230]\n",
      " [240 250]\n",
      " [260 270]\n",
      " [280 290]\n",
      " [300 310]\n",
      " [320 330]\n",
      " [340 350]\n",
      " [360 370]\n",
      " [380 390]]\n",
      "y:\n",
      "[ 1.  1.  1.  1.  1.  2.  2.  2.  2.  2.  3.  3.  3.  3.  3.  4.  4.  4.\n",
      "  4.  4.]\n"
     ]
    }
   ],
   "source": [
    "N = 5\n",
    "X = np.arange(8 * N).reshape(-1, 2) * 10\n",
    "y = np.hstack([np.ones(N), np.ones(N)*2, np.ones(N) * 3, np.ones(N)*4])\n",
    "print(\"X:\\n\", X, sep=\"\")\n",
    "print(\"y:\\n\", y, sep=\"\")"
   ]
  },
  {
   "cell_type": "code",
   "execution_count": 11,
   "metadata": {},
   "outputs": [
    {
     "name": "stdout",
     "output_type": "stream",
     "text": [
      "test_index : [ 1  6  8 10 17 18 19]\n",
      "................................................................................\n",
      "train_index: [ 0  2  3  4  5  7  9 11 12 13 14 15 16]\n",
      "================================================================================\n",
      "test_index : [ 2  4  5  7  9 13 14]\n",
      "................................................................................\n",
      "train_index: [ 0  1  3  6  8 10 11 12 15 16 17 18 19]\n",
      "================================================================================\n",
      "test_index : [ 0  3 11 12 15 16]\n",
      "................................................................................\n",
      "train_index: [ 1  2  4  5  6  7  8  9 10 13 14 17 18 19]\n",
      "================================================================================\n"
     ]
    }
   ],
   "source": [
    "from sklearn.model_selection import KFold\n",
    "\n",
    "cv = KFold(n_splits=3, shuffle=True, random_state=0)\n",
    "for train_index, test_index in cv.split(X):\n",
    "    print(\"test_index :\", test_index)\n",
    "    print(\".\" * 80)\n",
    "    print(\"train_index:\", train_index)\n",
    "    print(\"=\" * 80)"
   ]
  },
  {
   "cell_type": "code",
   "execution_count": null,
   "metadata": {},
   "outputs": [],
   "source": [
    "# Leave-One-Out(LOO) : 하나의 sample만을 test set으로 남긴다."
   ]
  },
  {
   "cell_type": "code",
   "execution_count": 12,
   "metadata": {},
   "outputs": [
    {
     "name": "stdout",
     "output_type": "stream",
     "text": [
      "test X: [[ 0 10]]\n",
      "................................................................................\n",
      "test y: [ 1.]\n",
      "================================================================================\n",
      "test X: [[20 30]]\n",
      "................................................................................\n",
      "test y: [ 1.]\n",
      "================================================================================\n",
      "test X: [[40 50]]\n",
      "................................................................................\n",
      "test y: [ 1.]\n",
      "================================================================================\n",
      "test X: [[60 70]]\n",
      "................................................................................\n",
      "test y: [ 1.]\n",
      "================================================================================\n",
      "test X: [[80 90]]\n",
      "................................................................................\n",
      "test y: [ 1.]\n",
      "================================================================================\n",
      "test X: [[100 110]]\n",
      "................................................................................\n",
      "test y: [ 2.]\n",
      "================================================================================\n",
      "test X: [[120 130]]\n",
      "................................................................................\n",
      "test y: [ 2.]\n",
      "================================================================================\n",
      "test X: [[140 150]]\n",
      "................................................................................\n",
      "test y: [ 2.]\n",
      "================================================================================\n",
      "test X: [[160 170]]\n",
      "................................................................................\n",
      "test y: [ 2.]\n",
      "================================================================================\n",
      "test X: [[180 190]]\n",
      "................................................................................\n",
      "test y: [ 2.]\n",
      "================================================================================\n",
      "test X: [[200 210]]\n",
      "................................................................................\n",
      "test y: [ 3.]\n",
      "================================================================================\n",
      "test X: [[220 230]]\n",
      "................................................................................\n",
      "test y: [ 3.]\n",
      "================================================================================\n",
      "test X: [[240 250]]\n",
      "................................................................................\n",
      "test y: [ 3.]\n",
      "================================================================================\n",
      "test X: [[260 270]]\n",
      "................................................................................\n",
      "test y: [ 3.]\n",
      "================================================================================\n",
      "test X: [[280 290]]\n",
      "................................................................................\n",
      "test y: [ 3.]\n",
      "================================================================================\n",
      "test X: [[300 310]]\n",
      "................................................................................\n",
      "test y: [ 4.]\n",
      "================================================================================\n",
      "test X: [[320 330]]\n",
      "................................................................................\n",
      "test y: [ 4.]\n",
      "================================================================================\n",
      "test X: [[340 350]]\n",
      "................................................................................\n",
      "test y: [ 4.]\n",
      "================================================================================\n",
      "test X: [[360 370]]\n",
      "................................................................................\n",
      "test y: [ 4.]\n",
      "================================================================================\n",
      "test X: [[380 390]]\n",
      "................................................................................\n",
      "test y: [ 4.]\n",
      "================================================================================\n"
     ]
    }
   ],
   "source": [
    "from sklearn.model_selection import LeaveOneOut\n",
    "\n",
    "cv = LeaveOneOut()\n",
    "\n",
    "for train_index, test_index in cv.split(X):\n",
    "    print(\"test X:\", X[test_index])\n",
    "    print(\".\" * 80)\n",
    "    print(\"test y:\", y[test_index])\n",
    "    print(\"=\" * 80)"
   ]
  },
  {
   "cell_type": "code",
   "execution_count": null,
   "metadata": {},
   "outputs": [],
   "source": [
    "#ShuffleSplit : 중복된 데이터를 허용"
   ]
  },
  {
   "cell_type": "code",
   "execution_count": 13,
   "metadata": {},
   "outputs": [
    {
     "name": "stdout",
     "output_type": "stream",
     "text": [
      "test X:\n",
      " [[360 370]\n",
      " [ 20  30]\n",
      " [380 390]\n",
      " [160 170]\n",
      " [200 210]\n",
      " [340 350]\n",
      " [120 130]\n",
      " [260 270]\n",
      " [ 80  90]\n",
      " [ 40  50]]\n",
      "====================\n",
      "test X:\n",
      " [[220 230]\n",
      " [ 20  30]\n",
      " [360 370]\n",
      " [340 350]\n",
      " [ 40  50]\n",
      " [240 250]\n",
      " [380 390]\n",
      " [320 330]\n",
      " [200 210]\n",
      " [  0  10]]\n",
      "====================\n",
      "test X:\n",
      " [[300 310]\n",
      " [260 270]\n",
      " [240 250]\n",
      " [100 110]\n",
      " [220 230]\n",
      " [ 40  50]\n",
      " [160 170]\n",
      " [120 130]\n",
      " [ 60  70]\n",
      " [340 350]]\n",
      "====================\n",
      "test X:\n",
      " [[360 370]\n",
      " [  0  10]\n",
      " [260 270]\n",
      " [ 40  50]\n",
      " [ 60  70]\n",
      " [340 350]\n",
      " [140 150]\n",
      " [240 250]\n",
      " [280 290]\n",
      " [320 330]]\n",
      "====================\n",
      "test X:\n",
      " [[140 150]\n",
      " [ 20  30]\n",
      " [ 40  50]\n",
      " [380 390]\n",
      " [100 110]\n",
      " [360 370]\n",
      " [160 170]\n",
      " [340 350]\n",
      " [300 310]\n",
      " [320 330]]\n",
      "====================\n"
     ]
    }
   ],
   "source": [
    "from sklearn.model_selection import ShuffleSplit\n",
    "\n",
    "cv = ShuffleSplit(n_splits=5, test_size=.5, random_state=0)\n",
    "\n",
    "for train_index, test_index in cv.split(X):\n",
    "    print(\"test X:\\n\", X[test_index])\n",
    "    print(\"=\" * 20)"
   ]
  },
  {
   "cell_type": "markdown",
   "metadata": {},
   "source": [
    "##### 교차평가시행 (cross_val_score()명령)"
   ]
  },
  {
   "cell_type": "code",
   "execution_count": 15,
   "metadata": {},
   "outputs": [
    {
     "name": "stderr",
     "output_type": "stream",
     "text": [
      "/Library/Frameworks/Python.framework/Versions/3.6/lib/python3.6/site-packages/scipy/linalg/basic.py:1226: RuntimeWarning: internal gelsd driver lwork query error, required iwork dimension not returned. This is likely the result of LAPACK bug 0038, fixed in LAPACK 3.2.2 (released July 21, 2010). Falling back to 'gelss' driver.\n",
      "  warnings.warn(mesg, RuntimeWarning)\n"
     ]
    },
    {
     "data": {
      "text/plain": [
       "array([ 0.95636425,  0.94908323,  0.93880683,  0.92906829,  0.93119768,\n",
       "        0.95362566,  0.93217768,  0.94308775,  0.94579305,  0.94749884])"
      ]
     },
     "execution_count": 15,
     "metadata": {},
     "output_type": "execute_result"
    }
   ],
   "source": [
    "from sklearn.datasets import make_regression\n",
    "from sklearn.linear_model import LinearRegression\n",
    "from sklearn.metrics import r2_score\n",
    "\n",
    "X, y, coef = make_regression(n_samples=1000, n_features=1, noise=20, coef=True, random_state=0)\n",
    "\n",
    "model = LinearRegression()\n",
    "cv = KFold(10)\n",
    "\n",
    "scores = np.zeros(10)\n",
    "for i, (train_index, test_index) in enumerate(cv.split(X)):\n",
    "    X_train = X[train_index]\n",
    "    y_train = y[train_index]\n",
    "    X_test = X[test_index]\n",
    "    y_test = y[test_index]\n",
    "    model.fit(X_train,y_train)\n",
    "    y_pred = model.predict(X_test)\n",
    "    scores[i] = r2_score(y_test, y_pred)\n",
    "    \n",
    "scores"
   ]
  },
  {
   "cell_type": "code",
   "execution_count": 16,
   "metadata": {},
   "outputs": [
    {
     "data": {
      "text/plain": [
       "array([ 0.95636425,  0.94908323,  0.93880683,  0.92906829,  0.93119768,\n",
       "        0.95362566,  0.93217768,  0.94308775,  0.94579305,  0.94749884])"
      ]
     },
     "execution_count": 16,
     "metadata": {},
     "output_type": "execute_result"
    }
   ],
   "source": [
    "from sklearn.model_selection import cross_val_score\n",
    "\n",
    "cross_val_score(model, X, y, scoring=\"r2\", cv=cv)"
   ]
  },
  {
   "cell_type": "code",
   "execution_count": null,
   "metadata": {},
   "outputs": [],
   "source": []
  }
 ],
 "metadata": {
  "kernelspec": {
   "display_name": "Python 3",
   "language": "python",
   "name": "python3"
  },
  "language_info": {
   "codemirror_mode": {
    "name": "ipython",
    "version": 3
   },
   "file_extension": ".py",
   "mimetype": "text/x-python",
   "name": "python",
   "nbconvert_exporter": "python",
   "pygments_lexer": "ipython3",
   "version": "3.6.3"
  }
 },
 "nbformat": 4,
 "nbformat_minor": 2
}
