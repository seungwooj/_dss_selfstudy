{
 "cells": [
  {
   "cell_type": "markdown",
   "metadata": {},
   "source": [
    "# 1. BoW (Bag of Words) : 문자 -> 숫자로 변환하는, 가장 기본적인 방법\n",
    "<순서><br>\n",
    "1. 전체 문서 {$D_1, D_2, ... , D_n$} 을 구성하는 고정된 단어장 {$W_1, W_2, ... , W_n$}을 만든다.\n",
    "2. $D_i$라는 개별 문서에 $W_j$ 라는 단어가 있는지 표시 - 있으면: $x_{ij}$ = 1, 없으면 0\n"
   ]
  },
  {
   "cell_type": "markdown",
   "metadata": {},
   "source": [
    "# 2. Scikit-Learn의 문서 전처리 기능\n",
    "\n",
    "- DictVectorizer : 단어의 수를 세어놓는 사전에서 BoW 벡터 생성.\n",
    "- CountVectorizer : 문서 집합에서 단어 수를 세서 BoW 벡터 생성.\n",
    "- TfidfVectorizer : 문서 집합에서 단어 수를 세고, TF-IDF방식으로 단어의 가중치를 조정한 BoW 벡터 생성.\n",
    "- HashingVectorizer : Hashing trick을 사용, 빠르게 BoW벡를 생성."
   ]
  },
  {
   "cell_type": "markdown",
   "metadata": {},
   "source": [
    "## 1) DictVectorizer"
   ]
  },
  {
   "cell_type": "code",
   "execution_count": 1,
   "metadata": {},
   "outputs": [
    {
     "data": {
      "text/plain": [
       "array([[1., 2., 0.],\n",
       "       [0., 3., 1.]])"
      ]
     },
     "execution_count": 1,
     "metadata": {},
     "output_type": "execute_result"
    }
   ],
   "source": [
    "from sklearn.feature_extraction import DictVectorizer\n",
    "v = DictVectorizer(sparse=False)\n",
    "D = [{'A' : 1, 'B' : 2}, {'B' : 3, 'C' : 1}]  #사전형태의 D가 존재\n",
    "X = v.fit_transform(D) #D의 key에 따른 value를 array형태로 리턴\n",
    "X"
   ]
  },
  {
   "cell_type": "code",
   "execution_count": 2,
   "metadata": {},
   "outputs": [
    {
     "data": {
      "text/plain": [
       "['A', 'B', 'C']"
      ]
     },
     "execution_count": 2,
     "metadata": {},
     "output_type": "execute_result"
    }
   ],
   "source": [
    "v.feature_names_"
   ]
  },
  {
   "cell_type": "code",
   "execution_count": 4,
   "metadata": {},
   "outputs": [
    {
     "data": {
      "text/plain": [
       "array([[0., 0., 4.]])"
      ]
     },
     "execution_count": 4,
     "metadata": {},
     "output_type": "execute_result"
    }
   ],
   "source": [
    "v.transform({'C' : 4, 'D' : 3})"
   ]
  },
  {
   "cell_type": "markdown",
   "metadata": {},
   "source": [
    "## 2) CountVectorizer\n",
    "<순서><br>\n",
    "1. tokenizing : token으로 쪼갠다. (list형태)\n",
    "2. counting : 개별 token을 센다.\n",
    "3. BoW vectorizing : BoW벡터를 생성.<br>\n",
    "<br>\n",
    "\n",
    "<인수><br>\n",
    "1. stop_words : 문자열{'english}, 리스트 또는 None(디폴트)\n",
    "2. analyzer : 문자열 {'word', 'char', 'char_wb'} 또는 함수\n",
    "3. token_pattern : string - 토큰 정의용 정규표현식\n",
    "4. tokenizer : 토큰 생성 함수\n",
    "5. ngram_range : (min_n, max_n) 튜플, ngram의 범위\n",
    "6. max_df : 정수 또는 [0,1]사이의 실수, 단어장에 포함되기 위한 최대 빈도\n",
    "7. min_df : 정수 또는 [0,1]사이의 실수, 단어장에 포함되기 위한 최소 빈도"
   ]
  },
  {
   "cell_type": "code",
   "execution_count": 5,
   "metadata": {},
   "outputs": [
    {
     "data": {
      "text/plain": [
       "{'and': 0,\n",
       " 'document': 1,\n",
       " 'first': 2,\n",
       " 'is': 3,\n",
       " 'last': 4,\n",
       " 'one': 5,\n",
       " 'second': 6,\n",
       " 'the': 7,\n",
       " 'third': 8,\n",
       " 'this': 9}"
      ]
     },
     "execution_count": 5,
     "metadata": {},
     "output_type": "execute_result"
    }
   ],
   "source": [
    "from sklearn.feature_extraction.text import CountVectorizer\n",
    "corpus = [\n",
    "    'This is the first document.',\n",
    "    'This is the second second document.',\n",
    "    'And the third one.',\n",
    "    'Is this the first document?',\n",
    "    'The last document?',    \n",
    "]\n",
    "vect = CountVectorizer()\n",
    "vect.fit(corpus)\n",
    "vect.vocabulary_ #문장을 token으로 찢어서 단어장 리턴"
   ]
  },
  {
   "cell_type": "markdown",
   "metadata": {},
   "source": [
    "### 2)-1. Stop Words : 단어장을 생성할 때 무시할 수 있는 단어들 (영어의 관사, 조사 등)"
   ]
  },
  {
   "cell_type": "code",
   "execution_count": 8,
   "metadata": {},
   "outputs": [
    {
     "data": {
      "text/plain": [
       "{'document': 0, 'first': 1, 'last': 2, 'one': 3, 'second': 4, 'third': 5}"
      ]
     },
     "execution_count": 8,
     "metadata": {},
     "output_type": "execute_result"
    }
   ],
   "source": [
    "vect = CountVectorizer(stop_words=[\"and\", \"is\", \"the\", \"this\"]).fit(corpus)\n",
    "vect.vocabulary_"
   ]
  },
  {
   "cell_type": "code",
   "execution_count": 10,
   "metadata": {},
   "outputs": [
    {
     "data": {
      "text/plain": [
       "{'document': 0, 'second': 1}"
      ]
     },
     "execution_count": 10,
     "metadata": {},
     "output_type": "execute_result"
    }
   ],
   "source": [
    "vect = CountVectorizer(stop_words='english').fit(corpus)\n",
    "vect.vocabulary_"
   ]
  },
  {
   "cell_type": "markdown",
   "metadata": {},
   "source": [
    "### 2)-2. 토큰  : analyzer / tokenizer / token_pattern 의 인수를 활용"
   ]
  },
  {
   "cell_type": "code",
   "execution_count": 11,
   "metadata": {},
   "outputs": [
    {
     "data": {
      "text/plain": [
       "{' ': 0,\n",
       " '.': 1,\n",
       " '?': 2,\n",
       " 'a': 3,\n",
       " 'c': 4,\n",
       " 'd': 5,\n",
       " 'e': 6,\n",
       " 'f': 7,\n",
       " 'h': 8,\n",
       " 'i': 9,\n",
       " 'l': 10,\n",
       " 'm': 11,\n",
       " 'n': 12,\n",
       " 'o': 13,\n",
       " 'r': 14,\n",
       " 's': 15,\n",
       " 't': 16,\n",
       " 'u': 17}"
      ]
     },
     "execution_count": 11,
     "metadata": {},
     "output_type": "execute_result"
    }
   ],
   "source": [
    "vect = CountVectorizer(analyzer=\"char\").fit(corpus)\n",
    "vect.vocabulary_"
   ]
  },
  {
   "cell_type": "code",
   "execution_count": 13,
   "metadata": {},
   "outputs": [
    {
     "data": {
      "text/plain": [
       "{'the': 0, 'third': 1, 'this': 2}"
      ]
     },
     "execution_count": 13,
     "metadata": {},
     "output_type": "execute_result"
    }
   ],
   "source": [
    "vect = CountVectorizer(token_pattern=\"t\\w+\").fit(corpus)\n",
    "vect.vocabulary_"
   ]
  },
  {
   "cell_type": "code",
   "execution_count": 15,
   "metadata": {},
   "outputs": [
    {
     "data": {
      "text/plain": [
       "{'.': 0,\n",
       " '?': 1,\n",
       " 'and': 2,\n",
       " 'document': 3,\n",
       " 'first': 4,\n",
       " 'is': 5,\n",
       " 'last': 6,\n",
       " 'one': 7,\n",
       " 'second': 8,\n",
       " 'the': 9,\n",
       " 'third': 10,\n",
       " 'this': 11}"
      ]
     },
     "execution_count": 15,
     "metadata": {},
     "output_type": "execute_result"
    }
   ],
   "source": [
    "# tokenizer : 외부의 token단어장을 사용할 수 있음.\n",
    "import nltk\n",
    "\n",
    "vect = CountVectorizer(tokenizer=nltk.word_tokenize).fit(corpus)\n",
    "vect.vocabulary_"
   ]
  },
  {
   "cell_type": "markdown",
   "metadata": {},
   "source": [
    "### 2)-3. n-그램 : 단어장 생성에 사용한 토큰의 크기를 결정 - 복합어를 인정할 것인가?"
   ]
  },
  {
   "cell_type": "code",
   "execution_count": 16,
   "metadata": {},
   "outputs": [
    {
     "data": {
      "text/plain": [
       "{'and the': 0,\n",
       " 'first document': 1,\n",
       " 'is the': 2,\n",
       " 'is this': 3,\n",
       " 'last document': 4,\n",
       " 'second document': 5,\n",
       " 'second second': 6,\n",
       " 'the first': 7,\n",
       " 'the last': 8,\n",
       " 'the second': 9,\n",
       " 'the third': 10,\n",
       " 'third one': 11,\n",
       " 'this is': 12,\n",
       " 'this the': 13}"
      ]
     },
     "execution_count": 16,
     "metadata": {},
     "output_type": "execute_result"
    }
   ],
   "source": [
    "vect = CountVectorizer(ngram_range=(2,2)).fit(corpus)\n",
    "vect.vocabulary_"
   ]
  },
  {
   "cell_type": "code",
   "execution_count": 17,
   "metadata": {},
   "outputs": [
    {
     "data": {
      "text/plain": [
       "{'the': 0, 'the third': 1, 'third': 2, 'this': 3, 'this the': 4}"
      ]
     },
     "execution_count": 17,
     "metadata": {},
     "output_type": "execute_result"
    }
   ],
   "source": [
    "#다른 조건과 같이 쓸 수 있음.\n",
    "vect = CountVectorizer(ngram_range=(1, 2), token_pattern=\"t\\w+\").fit(corpus)\n",
    "vect.vocabulary_"
   ]
  },
  {
   "cell_type": "markdown",
   "metadata": {},
   "source": [
    "### 2)-4. 빈도수 : max_df, min_df인수를 사용, 문서 내 토큰의 빈도수로 사용여부 결정\n"
   ]
  },
  {
   "cell_type": "code",
   "execution_count": 18,
   "metadata": {},
   "outputs": [
    {
     "data": {
      "text/plain": [
       "({'document': 0, 'first': 1, 'is': 2, 'this': 3},\n",
       " {'and', 'last', 'one', 'second', 'the', 'third'})"
      ]
     },
     "execution_count": 18,
     "metadata": {},
     "output_type": "execute_result"
    }
   ],
   "source": [
    "vect = CountVectorizer(max_df=4, min_df=2).fit(corpus)\n",
    "vect.vocabulary_, vect.stop_words_"
   ]
  },
  {
   "cell_type": "code",
   "execution_count": 19,
   "metadata": {},
   "outputs": [
    {
     "data": {
      "text/plain": [
       "array([4, 2, 3, 3])"
      ]
     },
     "execution_count": 19,
     "metadata": {},
     "output_type": "execute_result"
    }
   ],
   "source": [
    "vect.transform(corpus).toarray().sum(axis=0)"
   ]
  },
  {
   "cell_type": "markdown",
   "metadata": {},
   "source": [
    "## 3) TfidfVectorizer\n",
    "- TF-IDF (Term Frequency - Inverse Document Frequency)\n",
    "- 모든 문서에 공통으로 들어 있을 경우, \"가중치 축소\"(Inverse) <br>\n",
    "$\\text{tf-idf}(d, t) = \\text{tf}(d, t) \\cdot \\text{idf}(t)$ <br>\n",
    "$\\text{tf}(d, t)$ : 단어의 빈도수 (1 document, how many term),   $\\text{idf}(t)$ : inverse document frequency (가중치 축소) <br>\n",
    "$\\text{idf}(d, t) = \\log \\dfrac{n}{1 + \\text{df}(t)}$\n"
   ]
  },
  {
   "cell_type": "code",
   "execution_count": 20,
   "metadata": {},
   "outputs": [
    {
     "data": {
      "text/plain": [
       "array([[0.        , 0.38947624, 0.55775063, 0.4629834 , 0.        ,\n",
       "        0.        , 0.        , 0.32941651, 0.        , 0.4629834 ],\n",
       "       [0.        , 0.24151532, 0.        , 0.28709733, 0.        ,\n",
       "        0.        , 0.85737594, 0.20427211, 0.        , 0.28709733],\n",
       "       [0.55666851, 0.        , 0.        , 0.        , 0.        ,\n",
       "        0.55666851, 0.        , 0.26525553, 0.55666851, 0.        ],\n",
       "       [0.        , 0.38947624, 0.55775063, 0.4629834 , 0.        ,\n",
       "        0.        , 0.        , 0.32941651, 0.        , 0.4629834 ],\n",
       "       [0.        , 0.45333103, 0.        , 0.        , 0.80465933,\n",
       "        0.        , 0.        , 0.38342448, 0.        , 0.        ]])"
      ]
     },
     "execution_count": 20,
     "metadata": {},
     "output_type": "execute_result"
    }
   ],
   "source": [
    "from sklearn.feature_extraction.text import TfidfVectorizer\n",
    "tfidv = TfidfVectorizer().fit(corpus)\n",
    "tfidv.transform(corpus).toarray()"
   ]
  },
  {
   "cell_type": "code",
   "execution_count": null,
   "metadata": {},
   "outputs": [],
   "source": []
  },
  {
   "cell_type": "markdown",
   "metadata": {},
   "source": [
    "# 3. 사용 예\n",
    "- 문자열 분석기를 사용하여 웹사이트에 특정 단어가 얼마나 사용되었는지 빈도 측정하는 코드"
   ]
  },
  {
   "cell_type": "code",
   "execution_count": 21,
   "metadata": {},
   "outputs": [],
   "source": [
    "from urllib.request import urlopen\n",
    "import json\n",
    "import string\n",
    "from konlpy.utils import pprint\n",
    "from konlpy.tag import Hannanum\n",
    "hannanum = Hannanum()\n",
    "\n",
    "f = urlopen(\"https://www.datascienceschool.net/download-notebook/708e711429a646818b9dcbb581e0c10a/\")\n",
    "json = json.loads(f.read())\n",
    "cell = [\"\\n\".join(c[\"source\"]) for c in json[\"cells\"] if c[\"cell_type\"] == \"markdown\"]\n",
    "docs = [w for w in hannanum.nouns(\" \".join(cell)) if ((not w[0].isnumeric()) and (w[0] not in string.punctuation))]"
   ]
  },
  {
   "cell_type": "code",
   "execution_count": 42,
   "metadata": {},
   "outputs": [
    {
     "data": {
      "image/png": "[encoded data removed]",
      "text/plain": [
       "<matplotlib.figure.Figure at 0x1338ae470>"
      ]
     },
     "metadata": {},
     "output_type": "display_data"
    }
   ],
   "source": [
    "vect = CountVectorizer().fit(docs)\n",
    "count = vect.transform(docs).toarray().sum(axis=0) #각 단어별로 나온 횟수를 표시 (앞서 docs는 하나의 단어씩으로 이루어져있음 : sum)\n",
    "idx = np.argsort(-count) #count를 내림차순했을때 각 성분의 idx\n",
    "count = count[idx] #나온 횟수 기준으로 내림차순 정렬 상태로 만듬.\n",
    "\n",
    "feature_name = np.array(vect.get_feature_names())[idx] #idx의 순서대로 햇을때 단어장 속 단어들을 표시\n",
    "plt.bar(range(len(count)), count)\n",
    "plt.show()"
   ]
  },
  {
   "cell_type": "code",
   "execution_count": 43,
   "metadata": {},
   "outputs": [
    {
     "name": "stdout",
     "output_type": "stream",
     "text": [
      "[('컨테이너', 81),\n",
      " ('도커', 41),\n",
      " ('명령', 34),\n",
      " ('이미지', 33),\n",
      " ('사용', 26),\n",
      " ('가동', 14),\n",
      " ('중지', 13),\n",
      " ('mingw64', 13),\n",
      " ('삭제', 12),\n",
      " ('이름', 11),\n",
      " ('아이디', 11),\n",
      " ('다음', 10),\n",
      " ('시작', 9),\n",
      " ('목록', 8),\n",
      " ('옵션', 6),\n",
      " ('a181562ac4d8', 6),\n",
      " ('입력', 6),\n",
      " ('외부', 5),\n",
      " ('출력', 5),\n",
      " ('해당', 5),\n",
      " ('호스트', 5),\n",
      " ('명령어', 5),\n",
      " ('확인', 5),\n",
      " ('경우', 5),\n",
      " ('재시작', 4),\n",
      " ('존재', 4),\n",
      " ('컴퓨터', 4),\n",
      " ('터미널', 4),\n",
      " ('프롬프트', 4),\n",
      " ('포트', 4),\n",
      " ('377ad03459bf', 3),\n",
      " ('가상', 3),\n",
      " ('수행', 3),\n",
      " ('문자열', 3),\n",
      " ('dockeruser', 3),\n",
      " ('항목', 3),\n",
      " ('마찬가지', 3),\n",
      " ('대화형', 3),\n",
      " ('종료', 2),\n",
      " ('상태', 2),\n",
      " ('저장', 2),\n",
      " ('호스트간', 2),\n",
      " ('작업', 2),\n",
      " ('지정', 2),\n",
      " ('생각', 2),\n",
      " ('문헌', 2),\n",
      " ('동작', 2),\n",
      " ('시스템', 2),\n",
      " ('명시해', 2),\n",
      " ('특정', 2),\n",
      " ('관련하', 2),\n",
      " ('이때', 2),\n",
      " ('의미', 2),\n",
      " ('추가', 2),\n",
      " ('조합', 1),\n",
      " ('container', 1),\n",
      " ('폴더', 1),\n",
      " ('a1e4ed2ac65b', 1),\n",
      " ('작동', 1),\n",
      " ('자체', 1),\n",
      " ('자동', 1),\n",
      " ('image', 1),\n",
      " ('정지', 1),\n",
      " ('핵심', 1),\n",
      " ('초간단', 1),\n",
      " ('중복', 1),\n",
      " ('id', 1),\n",
      " ('최소한', 1),\n",
      " ('일부분', 1),\n",
      " ('컨테이', 1),\n",
      " ('daemon', 1),\n",
      " ('컨테이너상', 1),\n",
      " ('한다', 1),\n",
      " ('콜론', 1),\n",
      " ('태그', 1),\n",
      " ('하나', 1),\n",
      " ('툴박스', 1),\n",
      " ('파일', 1),\n",
      " ('포워딩', 1),\n",
      " ('주의해', 1),\n",
      " ('이해', 1),\n",
      " ('누른다', 1),\n",
      " ('이미지는', 1),\n",
      " ('공유', 1),\n",
      " ('브라우저', 1),\n",
      " ('복사', 1),\n",
      " ('문제', 1),\n",
      " ('문자', 1),\n",
      " ('관련', 1),\n",
      " ('명시', 1),\n",
      " ('길벗', 1),\n",
      " ('사용법', 1),\n",
      " ('메시지', 1),\n",
      " ('마지막', 1),\n",
      " ('리눅스', 1),\n",
      " ('나오기', 1),\n",
      " ('도서출판', 1),\n",
      " ('데몬', 1),\n",
      " ('대화적', 1),\n",
      " ('대표적', 1),\n",
      " ('내부', 1),\n",
      " ('머신', 1),\n",
      " ('이재홍', 1),\n",
      " ('사용자', 1),\n",
      " ('생략', 1),\n",
      " ('tag', 1),\n",
      " ('가능', 1),\n",
      " ('의존', 1),\n",
      " ('으로', 1),\n",
      " ('내용', 1),\n",
      " ('원본', 1),\n",
      " ('요약', 1),\n",
      " ('가지', 1),\n",
      " ('사용해', 1),\n",
      " ('오류', 1),\n",
      " ('연결', 1),\n",
      " ('여기', 1),\n",
      " ('개념', 1),\n",
      " ('실행', 1),\n",
      " ('시스템상', 1),\n",
      " ('소개', 1),\n",
      " ('설명', 1),\n",
      " ('생성', 1),\n",
      " ('연습', 1),\n",
      " ('윈도우즈', 1)]\n"
     ]
    }
   ],
   "source": [
    "pprint(list(zip(feature_name, count))) #많이 나온 순서대로 단어장 표시"
   ]
  },
  {
   "cell_type": "code",
   "execution_count": null,
   "metadata": {},
   "outputs": [],
   "source": []
  }
 ],
 "metadata": {
  "kernelspec": {
   "display_name": "Python 3",
   "language": "python",
   "name": "python3"
  },
  "language_info": {
   "codemirror_mode": {
    "name": "ipython",
    "version": 3
   },
   "file_extension": ".py",
   "mimetype": "text/x-python",
   "name": "python",
   "nbconvert_exporter": "python",
   "pygments_lexer": "ipython3",
   "version": "3.6.3"
  }
 },
 "nbformat": 4,
 "nbformat_minor": 2
}
