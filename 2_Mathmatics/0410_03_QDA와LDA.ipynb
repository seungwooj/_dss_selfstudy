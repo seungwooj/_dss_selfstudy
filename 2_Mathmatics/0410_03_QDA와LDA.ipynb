{
 "cells": [
  {
   "cell_type": "code",
   "execution_count": 1,
   "metadata": {},
   "outputs": [],
   "source": [
    "import scipy as sp"
   ]
  },
  {
   "cell_type": "markdown",
   "metadata": {},
   "source": [
    "# 1. 확률론적 생성모형\n",
    "- \"생성 모형\" : 클래스를 지정하면 그에 맞는 값을 생성 할 수 있다. (모형을 알기 때문에) -> 새로운 데이터에 대한 값을 구할 수 있다.\n",
    "- 베이즈 정리를 활용, Likelihood를 통해 조건부 확률을 구한다. <br>\n",
    "$ P(y = C_k \\mid x) \\;\\; \\propto \\;\\; P(x \\mid y = C_k) \\; P(y = C_k) $\n",
    "- 각 클래스 k에 대한 확률을 비교, 가장 확률이 큰 클래스 k를 선택한다.\n",
    "- P(x)의 경우, 모든 P(y)를 구할 때 들어가므로 생략하기도 한다. <br>\n",
    "<br>\n",
    "Likelihood를 구하는 방법\n",
    "    -   $ P(x \\mid y = C_k) $  의 확률 분포모형을 가정\n",
    "    - K번째 클래스의 트레이닝데이터 (독립변수) 활용하여 확률 분포 모형의 모수를 구한다. = $ P(x \\mid y = C_k) $ 를 구한다.\n",
    "    - 새로운 x에 대해 $ P(x \\mid y = C_k) $ 계산하고 베이즈 정리를 활용하여 $ P(y = C_k \\mid x) $ 를 구한다."
   ]
  },
  {
   "cell_type": "markdown",
   "metadata": {},
   "source": [
    "# 2. QDA\n",
    "- 가장 단순한 확률론적 생성모형 : $ P(x \\mid y = C_k) $  의 확률 분포모형을 \"Gaussian Normal distribution\"으로 가정\n",
    "- $ p(x \\mid y = k) = \\dfrac{1}{(2\\pi)^{D/2} |\\Sigma_k|^{1/2}} \\exp \\left( -\\dfrac{1}{2} (x-\\mu_k)^T \\Sigma_k^{-1} (x-\\mu_k) \\right) $\n",
    "- $ P(y=k \\mid x) = \\dfrac{p(x \\mid y = k)P(y=k)}{p(x)} = \\dfrac{p(x \\mid y = k)P(y=k)}{\\sum_l p(x \\mid y = l)P(y=l) } $\n",
    "<br>\n",
    "- 위의 식과 같이 독립변수 x에 대한 y의 조건부 확률을 1)베이즈정리, 2)전체확률의법칙 을 활용하여 구할 수 있다.\n",
    "- QDA모형에서는 1)각각의 클래스에 대한 2) mu, 공분산 행렬을 구한다.\n"
   ]
  },
  {
   "cell_type": "code",
   "execution_count": null,
   "metadata": {},
   "outputs": [],
   "source": [
    "### Scikit-Learn실습\n",
    "\n",
    "N = 100\n",
    "np.random.seed(0)\n",
    "X1 = sp.stats.multivariate_normal"
   ]
  }
 ],
 "metadata": {
  "kernelspec": {
   "display_name": "Python 3",
   "language": "python",
   "name": "python3"
  },
  "language_info": {
   "codemirror_mode": {
    "name": "ipython",
    "version": 3
   },
   "file_extension": ".py",
   "mimetype": "text/x-python",
   "name": "python",
   "nbconvert_exporter": "python",
   "pygments_lexer": "ipython3",
   "version": "3.6.3"
  }
 },
 "nbformat": 4,
 "nbformat_minor": 2
}
