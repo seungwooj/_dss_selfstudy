{
 "cells": [
  {
   "cell_type": "markdown",
   "metadata": {},
   "source": [
    "##### quiz\n",
    "```\n",
    "local city_info 데이터베이스의 popular 테이블의 데이터를 가져와\n",
    "ubuntu test 데이터베이스의 popular 테이블로 마이그레이션하는 코드를 작성\n",
    "```"
   ]
  },
  {
   "cell_type": "code",
   "execution_count": 1,
   "metadata": {},
   "outputs": [
    {
     "data": {
      "text/html": [
       "<div>\n",
       "<style scoped>\n",
       "    .dataframe tbody tr th:only-of-type {\n",
       "        vertical-align: middle;\n",
       "    }\n",
       "\n",
       "    .dataframe tbody tr th {\n",
       "        vertical-align: top;\n",
       "    }\n",
       "\n",
       "    .dataframe thead th {\n",
       "        text-align: right;\n",
       "    }\n",
       "</style>\n",
       "<table border=\"1\" class=\"dataframe\">\n",
       "  <thead>\n",
       "    <tr style=\"text-align: right;\">\n",
       "      <th></th>\n",
       "      <th>rank</th>\n",
       "      <th>city_name</th>\n",
       "      <th>popular</th>\n",
       "    </tr>\n",
       "  </thead>\n",
       "  <tbody>\n",
       "    <tr>\n",
       "      <th>0</th>\n",
       "      <td>1</td>\n",
       "      <td>seoul</td>\n",
       "      <td>9904312</td>\n",
       "    </tr>\n",
       "    <tr>\n",
       "      <th>1</th>\n",
       "      <td>2</td>\n",
       "      <td>busan</td>\n",
       "      <td>3448737</td>\n",
       "    </tr>\n",
       "    <tr>\n",
       "      <th>2</th>\n",
       "      <td>3</td>\n",
       "      <td>incheon</td>\n",
       "      <td>2890451</td>\n",
       "    </tr>\n",
       "    <tr>\n",
       "      <th>3</th>\n",
       "      <td>4</td>\n",
       "      <td>daegu</td>\n",
       "      <td>2466052</td>\n",
       "    </tr>\n",
       "    <tr>\n",
       "      <th>4</th>\n",
       "      <td>5</td>\n",
       "      <td>daejeon</td>\n",
       "      <td>1538394</td>\n",
       "    </tr>\n",
       "    <tr>\n",
       "      <th>5</th>\n",
       "      <td>6</td>\n",
       "      <td>gwanggju</td>\n",
       "      <td>1502881</td>\n",
       "    </tr>\n",
       "  </tbody>\n",
       "</table>\n",
       "</div>"
      ],
      "text/plain": [
       "   rank city_name  popular\n",
       "0     1     seoul  9904312\n",
       "1     2     busan  3448737\n",
       "2     3   incheon  2890451\n",
       "3     4     daegu  2466052\n",
       "4     5   daejeon  1538394\n",
       "5     6  gwanggju  1502881"
      ]
     },
     "execution_count": 1,
     "metadata": {},
     "output_type": "execute_result"
    }
   ],
   "source": [
    "# read local city_info popular \n",
    "\n",
    "import MySQLdb, pickle\n",
    "import pandas as pd\n",
    "from sqlalchemy import create_engine\n",
    "\n",
    "pw = pickle.load(open('pw.p','rb'))\n",
    "\n",
    "db = MySQLdb.connect(\n",
    "    \"127.0.0.1\",\n",
    "    \"root\",\n",
    "    pw,\n",
    "    \"city_info\",\n",
    "    charset='utf8',\n",
    ")\n",
    "\n",
    "SQL_QUERY = \"\"\"\n",
    "    SELECT *\n",
    "    FROM popular;\n",
    "\"\"\"\n",
    "\n",
    "popular_df = pd.read_sql(SQL_QUERY, db)\n",
    "popular_df"
   ]
  },
  {
   "cell_type": "code",
   "execution_count": 2,
   "metadata": {},
   "outputs": [],
   "source": [
    "# write ubuntu test popular\n",
    "engine = create_engine(\"mysql+mysqldb://root:\" + pw + \"@13.125.105.201/test\")\n",
    "popular_df.to_sql(name=\"popular\", con=engine, if_exists='replace')"
   ]
  },
  {
   "cell_type": "code",
   "execution_count": null,
   "metadata": {},
   "outputs": [],
   "source": []
  }
 ],
 "metadata": {
  "kernelspec": {
   "display_name": "Python 3",
   "language": "python",
   "name": "python3"
  },
  "language_info": {
   "codemirror_mode": {
    "name": "ipython",
    "version": 3
   },
   "file_extension": ".py",
   "mimetype": "text/x-python",
   "name": "python",
   "nbconvert_exporter": "python",
   "pygments_lexer": "ipython3",
   "version": "3.6.3"
  }
 },
 "nbformat": 4,
 "nbformat_minor": 2
}
