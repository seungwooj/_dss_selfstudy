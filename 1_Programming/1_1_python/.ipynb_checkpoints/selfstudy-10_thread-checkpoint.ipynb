{
 "cells": [
  {
   "cell_type": "markdown",
   "metadata": {},
   "source": [
    "# Thread\n",
    "- import threading"
   ]
  },
  {
   "cell_type": "markdown",
   "metadata": {},
   "source": [
    "Thread , Multi Thread의 개념은?\n",
    "\n",
    "프로그램을 실행하면서 시간이 걸린다면 대부분 아래 두가지중 한가지의 이유이다\n",
    "- I/O 바운드 : 대부분의 경우 (data Input/Output)\n",
    "- CPU 바운드 : 계산량이 굉장히 많을 경우     > GPU를 활용할 수 있다 (alu가 높기 때문에)\n"
   ]
  },
  {
   "cell_type": "markdown",
   "metadata": {},
   "source": [
    "Synchronous (동기)\n",
    "- 한가지가 끝나야 다음 작업을 수행한다. -> 한가지 작업의 결과를 확인한 이후 다음 작업 수행\n",
    "\n",
    "Asynchronous (비동기)  -> Thread작업은 비동기 방식\n",
    "\n",
    "- 작업이 독립적으로 수행된다. -> 여러 작업의 결과가 나오는 것과 상관 없이 진행"
   ]
  },
  {
   "cell_type": "markdown",
   "metadata": {},
   "source": [
    "- I/O 바운드 문제 : thread 사용\n",
    "- CPU 바운드 문제 : process 사용"
   ]
  },
  {
   "cell_type": "code",
   "execution_count": null,
   "metadata": {},
   "outputs": [],
   "source": []
  }
 ],
 "metadata": {
  "kernelspec": {
   "display_name": "Python 3",
   "language": "python",
   "name": "python3"
  },
  "language_info": {
   "codemirror_mode": {
    "name": "ipython",
    "version": 3
   },
   "file_extension": ".py",
   "mimetype": "text/x-python",
   "name": "python",
   "nbconvert_exporter": "python",
   "pygments_lexer": "ipython3",
   "version": "3.6.4"
  }
 },
 "nbformat": 4,
 "nbformat_minor": 2
}
