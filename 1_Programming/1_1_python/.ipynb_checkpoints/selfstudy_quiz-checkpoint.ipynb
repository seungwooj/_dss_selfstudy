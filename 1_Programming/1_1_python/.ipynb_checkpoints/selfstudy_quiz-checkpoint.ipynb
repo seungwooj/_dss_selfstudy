{
 "cells": [
  {
   "cell_type": "code",
   "execution_count": 2,
   "metadata": {},
   "outputs": [
    {
     "name": "stdout",
     "output_type": "stream",
     "text": [
      "[8, 6, 5, 4, 3, 2, 1]\n"
     ]
    }
   ],
   "source": [
    "# 아래의 리스트를 중복을 제거하고 내림차순으로 정렬하세요\n",
    "ls = [1,5,2,8,6,4,3,6,4]\n",
    "k = list(set(ls))\n",
    "k.reverse()\n",
    "print(k)"
   ]
  },
  {
   "cell_type": "code",
   "execution_count": 3,
   "metadata": {},
   "outputs": [
    {
     "name": "stdout",
     "output_type": "stream",
     "text": [
      "[1, 2, 3, 4, 5]\n"
     ]
    }
   ],
   "source": [
    "# for문 -> comprehension (훨씬 직관적)\n",
    "ls = []\n",
    "ls = [num for num in range(1,6)]\n",
    "print(ls)"
   ]
  },
  {
   "cell_type": "code",
   "execution_count": 4,
   "metadata": {},
   "outputs": [
    {
     "name": "stdout",
     "output_type": "stream",
     "text": [
      "[1, 2, 3, 4, 5]\n"
     ]
    }
   ],
   "source": [
    "ls = []\n",
    "for num in range(1,6):\n",
    "    ls.append(num)\n",
    "print(ls)"
   ]
  },
  {
   "cell_type": "code",
   "execution_count": null,
   "metadata": {},
   "outputs": [],
   "source": []
  },
  {
   "cell_type": "code",
   "execution_count": null,
   "metadata": {},
   "outputs": [],
   "source": [
    "#parameter : 데이터 넘길때 (pass)\n",
    "#argument : 데이터 받을때 (주장한다=받는다)"
   ]
  },
  {
   "cell_type": "code",
   "execution_count": 22,
   "metadata": {},
   "outputs": [
    {
     "name": "stdout",
     "output_type": "stream",
     "text": [
      "8*9=72\n",
      "8*8=64\n",
      "8*7=56\n",
      "8*6=48\n",
      "8*5=40\n",
      "8*4=32\n",
      "8*3=24\n",
      "8*2=16\n",
      "8*1=8\n"
     ]
    }
   ],
   "source": [
    "#구구단 8단 거꾸로 출력\n",
    "a = 8\n",
    "for b in range(9,0,-1):\n",
    "    print(\"{}*{}={}\".format(a,b,a*b))"
   ]
  },
  {
   "cell_type": "code",
   "execution_count": 23,
   "metadata": {},
   "outputs": [],
   "source": [
    "#함수로 구현하고 마지막값을 출력\n",
    "def rules_of_mul(i):\n",
    "    for i in range(i,9+1):\n",
    "        print(\"{}*{}={}\".format(8,10-i,(8*(10-i))))\n",
    "    if i ==9:\n",
    "        last = 8*(10-i)\n",
    "    return last\n",
    "              "
   ]
  },
  {
   "cell_type": "code",
   "execution_count": 24,
   "metadata": {},
   "outputs": [
    {
     "name": "stdout",
     "output_type": "stream",
     "text": [
      "8*9=72\n",
      "8*8=64\n",
      "8*7=56\n",
      "8*6=48\n",
      "8*5=40\n",
      "8*4=32\n",
      "8*3=24\n",
      "8*2=16\n",
      "8*1=8\n"
     ]
    },
    {
     "data": {
      "text/plain": [
       "8"
      ]
     },
     "execution_count": 24,
     "metadata": {},
     "output_type": "execute_result"
    }
   ],
   "source": [
    "rules_of_mul(1)"
   ]
  },
  {
   "cell_type": "code",
   "execution_count": 21,
   "metadata": {},
   "outputs": [
    {
     "data": {
      "text/plain": [
       "[1, 2, 'Fizz', 4, 5, 'Fizz', 7, 8, 'Fizz', 10]"
      ]
     },
     "execution_count": 21,
     "metadata": {},
     "output_type": "execute_result"
    }
   ],
   "source": [
    "[i if i%3>0 else \"Fizz\" for i in range(1,10+1)]"
   ]
  },
  {
   "cell_type": "code",
   "execution_count": null,
   "metadata": {},
   "outputs": [],
   "source": []
  }
 ],
 "metadata": {
  "kernelspec": {
   "display_name": "Python 3",
   "language": "python",
   "name": "python3"
  },
  "language_info": {
   "codemirror_mode": {
    "name": "ipython",
    "version": 3
   },
   "file_extension": ".py",
   "mimetype": "text/x-python",
   "name": "python",
   "nbconvert_exporter": "python",
   "pygments_lexer": "ipython3",
   "version": "3.6.4"
  }
 },
 "nbformat": 4,
 "nbformat_minor": 2
}
