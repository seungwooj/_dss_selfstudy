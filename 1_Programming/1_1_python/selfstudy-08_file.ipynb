{
 "cells": [
  {
   "cell_type": "markdown",
   "metadata": {},
   "source": [
    "### File - file  열기(open), 읽기(read), 쓰기(write), 닫기(close)\n",
    "- 파일 쓰기 (w) : 파일이 존재하면 덮어씀\n",
    "- 파일 쓰기 (x) : 파일이 존재하지 않을때만 생성\n",
    "- 파일 읽기 (r)\n",
    "- 파일 추가 (a)\n",
    "- 텍스트 타입 (t)\n",
    "- 이진 타입 (b)\n",
    "\n",
    "##### Pickle을 활용하여 정보 저장하고 불러오기 및 사용하기"
   ]
  },
  {
   "cell_type": "markdown",
   "metadata": {},
   "source": [
    "##### 파일 쓰기\n",
    "- 텍스트"
   ]
  },
  {
   "cell_type": "code",
   "execution_count": 1,
   "metadata": {},
   "outputs": [],
   "source": [
    "# write\n",
    "s = \"\"\"datascicence\n",
    "fast campus write\"\"\"\n",
    "f = open(\"test1.txt\", 'wt')     #<--첫번째 parameter : open옆에 파일의 디렉토리/파\n",
    "#일명 입력 (\"../\" : \"상위폴더\" 의미)\n",
    "                                     #<--두번째 parameter : '옵션' 적기 ('wt' = write)\n",
    "f.write(s)\n",
    "f.close()                            #<--open한 다음에는 항상 close할 것."
   ]
  },
  {
   "cell_type": "code",
   "execution_count": 2,
   "metadata": {},
   "outputs": [],
   "source": [
    "# print\n",
    "s = \"\"\"datascicence\n",
    "fast campus print\"\"\"\n",
    "\n",
    "f = open(\"test2.txt\", 'wt')\n",
    "print(s, file=f, end=\"\")\n",
    "f.close()"
   ]
  },
  {
   "cell_type": "code",
   "execution_count": 3,
   "metadata": {},
   "outputs": [],
   "source": [
    "# write\n",
    "s = \"\"\"datascicence\n",
    "fast campus write x\"\"\"\n",
    "f = open(\"test3.txt\", 'xt')\n",
    "f.write(s)\n",
    "f.close()"
   ]
  },
  {
   "cell_type": "markdown",
   "metadata": {},
   "source": [
    "- 이진\n",
    " - bytes : 이진데이터로 형변환 시켜줌"
   ]
  },
  {
   "cell_type": "code",
   "execution_count": 4,
   "metadata": {},
   "outputs": [],
   "source": [
    "data = bytes(range(0, 10))\n",
    "f = open(\"b_range\", 'wb')\n",
    "f.write(data)\n",
    "f.close()"
   ]
  },
  {
   "cell_type": "code",
   "execution_count": 5,
   "metadata": {},
   "outputs": [
    {
     "data": {
      "text/plain": [
       "b'\\x00\\x01\\x02\\x03\\x04\\x05\\x06\\x07\\x08\\t'"
      ]
     },
     "execution_count": 5,
     "metadata": {},
     "output_type": "execute_result"
    }
   ],
   "source": [
    "data"
   ]
  },
  {
   "cell_type": "markdown",
   "metadata": {},
   "source": [
    "##### 파일 읽기"
   ]
  },
  {
   "cell_type": "markdown",
   "metadata": {},
   "source": [
    "- 텍스트"
   ]
  },
  {
   "cell_type": "code",
   "execution_count": 6,
   "metadata": {},
   "outputs": [
    {
     "name": "stdout",
     "output_type": "stream",
     "text": [
      "datascicence\n",
      "fast campus write\n"
     ]
    }
   ],
   "source": [
    "# 모두 읽기\n",
    "f = open(\"test1.txt\", 'rt') #rt\n",
    "s = f.read()\n",
    "print(s)\n",
    "f.close()"
   ]
  },
  {
   "cell_type": "code",
   "execution_count": 7,
   "metadata": {},
   "outputs": [
    {
     "name": "stdout",
     "output_type": "stream",
     "text": [
      "datascicence\n",
      "fast campus print\n"
     ]
    }
   ],
   "source": [
    "f = open(\"test2.txt\", 'rt') #rt\n",
    "s = f.read()\n",
    "print(s)\n",
    "f.close()"
   ]
  },
  {
   "cell_type": "code",
   "execution_count": 9,
   "metadata": {},
   "outputs": [
    {
     "name": "stdout",
     "output_type": "stream",
     "text": [
      "datascicen\n"
     ]
    }
   ],
   "source": [
    "# 일부만 읽기\n",
    "f = open(\"test1.txt\", 'rt')\n",
    "s = f.read(10) # 10자만 읽어옴\n",
    "print(s)\n",
    "f.close()"
   ]
  },
  {
   "cell_type": "code",
   "execution_count": 10,
   "metadata": {},
   "outputs": [
    {
     "name": "stdout",
     "output_type": "stream",
     "text": [
      "datascicence\n",
      "\n"
     ]
    }
   ],
   "source": [
    "# 한줄만 읽기 (readline함수) -> 위에서부터 한 줄 씩\n",
    "f = open(\"test1.txt\", 'rt')\n",
    "s = f.readline()\n",
    "print(s)\n",
    "f.close()"
   ]
  },
  {
   "cell_type": "code",
   "execution_count": 11,
   "metadata": {},
   "outputs": [
    {
     "name": "stdout",
     "output_type": "stream",
     "text": [
      "datascicence\n",
      "fast campus write"
     ]
    }
   ],
   "source": [
    "# 2줄 읽기\n",
    "f = open(\"test1.txt\", 'rt')\n",
    "for idx in range(2):\n",
    "    s = f.readline()\n",
    "    print(s, end=\"\")                   #<--- 원래는 end=\"\\n\" 이 생략되어 있음 (한줄 띄어쓰기), 이거  없애려고 end=\"\" 한다\n",
    "f.close()"
   ]
  },
  {
   "cell_type": "code",
   "execution_count": 12,
   "metadata": {
    "scrolled": true
   },
   "outputs": [
    {
     "name": "stdout",
     "output_type": "stream",
     "text": [
      "datascicence\n",
      "fast campus write"
     ]
    }
   ],
   "source": [
    "# 끝까지 읽기\n",
    "f = open(\"test1.txt\", 'rt')\n",
    "while True:\n",
    "    s = f.readline()                        #<-----끝까지 읽고\n",
    "    if not s:                               #<-----다읽으면 break\n",
    "        break\n",
    "    print(s, end=\"\")\n",
    "f.close()"
   ]
  },
  {
   "cell_type": "code",
   "execution_count": 13,
   "metadata": {},
   "outputs": [
    {
     "name": "stdout",
     "output_type": "stream",
     "text": [
      "['datascicence\\n', 'fast campus write']\n"
     ]
    }
   ],
   "source": [
    "# 여러줄을 리스트로 읽어오기\n",
    "f = open(\"test1.txt\", 'rt')\n",
    "s = f.readlines()\n",
    "print(s)\n",
    "\n",
    "f.close()"
   ]
  },
  {
   "cell_type": "markdown",
   "metadata": {},
   "source": [
    "- 이진"
   ]
  },
  {
   "cell_type": "code",
   "execution_count": 14,
   "metadata": {},
   "outputs": [
    {
     "name": "stdout",
     "output_type": "stream",
     "text": [
      "[0, 1, 2, 3, 4, 5, 6, 7, 8, 9]\n"
     ]
    }
   ],
   "source": [
    "f = open(\"b_range\", 'rb')\n",
    "data = f.read()\n",
    "print(list(data))\n",
    "f.close()"
   ]
  },
  {
   "cell_type": "markdown",
   "metadata": {},
   "source": [
    "##### 파일 추가"
   ]
  },
  {
   "cell_type": "code",
   "execution_count": 15,
   "metadata": {},
   "outputs": [],
   "source": [
    "s = \"\\nschool\"                          # <-- \\n 을 해서 줄바꿈\n",
    "f = open(\"test1.txt\", 'at')     # <--'at' : attach (파일을 추가한다)\n",
    "f.write(s)\n",
    "f.close()"
   ]
  },
  {
   "cell_type": "markdown",
   "metadata": {},
   "source": [
    "##### with\n",
    "- 자동으로 파일 닫기"
   ]
  },
  {
   "cell_type": "code",
   "execution_count": 16,
   "metadata": {},
   "outputs": [
    {
     "name": "stdout",
     "output_type": "stream",
     "text": [
      "datascicence\n",
      "fast campus write\n",
      "school\n"
     ]
    }
   ],
   "source": [
    "# close를 안써도 된다.\n",
    "with open(\"test1.txt\", 'rt') as f: \n",
    "    s = f.read()\n",
    "    print(s)"
   ]
  },
  {
   "cell_type": "markdown",
   "metadata": {},
   "source": [
    "### Pickle\n",
    "- 객체를 파일로 저장하는것을 직렬화(serialization) 이라고 함\n",
    "- 파이썬에서 직렬화를 통해 바이너리 형태의 데이터를 저장하고 복원하는 모듈"
   ]
  },
  {
   "cell_type": "code",
   "execution_count": 17,
   "metadata": {},
   "outputs": [],
   "source": [
    "import pickle"
   ]
  },
  {
   "cell_type": "code",
   "execution_count": 18,
   "metadata": {},
   "outputs": [],
   "source": [
    "class A():\n",
    "    def __init__(self, data):\n",
    "        self.data = data\n",
    "    def disp(self):\n",
    "        print(self.data)"
   ]
  },
  {
   "cell_type": "code",
   "execution_count": 19,
   "metadata": {},
   "outputs": [
    {
     "name": "stdout",
     "output_type": "stream",
     "text": [
      "pickle test\n"
     ]
    }
   ],
   "source": [
    "a = A(\"pickle test\")\n",
    "a.disp()"
   ]
  },
  {
   "cell_type": "code",
   "execution_count": 20,
   "metadata": {},
   "outputs": [],
   "source": [
    "# 저장\n",
    "f = open(\"obj.p\", \"wb\")\n",
    "pickle.dump(a, f)                          #pickle.dump(저장할객체, 파일명)\n",
    "f.close()"
   ]
  },
  {
   "cell_type": "code",
   "execution_count": 21,
   "metadata": {},
   "outputs": [],
   "source": [
    "f = open(\"obj.p\", \"rb\")\n",
    "load_a = pickle.load(f)"
   ]
  },
  {
   "cell_type": "code",
   "execution_count": 22,
   "metadata": {},
   "outputs": [
    {
     "name": "stdout",
     "output_type": "stream",
     "text": [
      "pickle test\n"
     ]
    }
   ],
   "source": [
    "load_a.disp()"
   ]
  },
  {
   "cell_type": "code",
   "execution_count": 23,
   "metadata": {},
   "outputs": [
    {
     "data": {
      "text/plain": [
       "'pickle test'"
      ]
     },
     "execution_count": 23,
     "metadata": {},
     "output_type": "execute_result"
    }
   ],
   "source": [
    "load_a.data"
   ]
  }
 ],
 "metadata": {
  "kernelspec": {
   "display_name": "Python 3",
   "language": "python",
   "name": "python3"
  },
  "language_info": {
   "codemirror_mode": {
    "name": "ipython",
    "version": 3
   },
   "file_extension": ".py",
   "mimetype": "text/x-python",
   "name": "python",
   "nbconvert_exporter": "python",
   "pygments_lexer": "ipython3",
   "version": "3.6.4"
  }
 },
 "nbformat": 4,
 "nbformat_minor": 2
}
