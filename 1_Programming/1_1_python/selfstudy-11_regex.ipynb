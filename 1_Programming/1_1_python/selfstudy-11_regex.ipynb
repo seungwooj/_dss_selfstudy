{
 "cells": [
  {
   "cell_type": "code",
   "execution_count": 1,
   "metadata": {},
   "outputs": [],
   "source": [
    "import re"
   ]
  },
  {
   "cell_type": "markdown",
   "metadata": {},
   "source": [
    "##### example따라해보기"
   ]
  },
  {
   "cell_type": "code",
   "execution_count": 3,
   "metadata": {},
   "outputs": [],
   "source": [
    "### 주민등록번호 : group으로 나눠서 변경하기"
   ]
  },
  {
   "cell_type": "code",
   "execution_count": 4,
   "metadata": {},
   "outputs": [
    {
     "data": {
      "text/plain": [
       "'저의 전화번호는 010-1111-2222이고 주민등록번호는 871211-******* 입니다'"
      ]
     },
     "execution_count": 4,
     "metadata": {},
     "output_type": "execute_result"
    }
   ],
   "source": [
    "s = \"저의 전화번호는 010-1111-2222이고 주민등록번호는 871211-4029348 입니다\"\n",
    "p = \"([0-9]{6})-([0-9]{7})\"\n",
    "re.sub(p, \"\\g<1>-*******\", s)"
   ]
  },
  {
   "cell_type": "code",
   "execution_count": 5,
   "metadata": {},
   "outputs": [],
   "source": [
    "# 전화번호 추출해서 바꾸기\n",
    "s = \"안녕하세요. 저의 전화번호는 영일공-48구삼삼7이사 입니다. 또한 010사팔구삼삼구삼일 입니다.\""
   ]
  },
  {
   "cell_type": "code",
   "execution_count": 6,
   "metadata": {},
   "outputs": [
    {
     "data": {
      "text/plain": [
       "['영일공-48구삼삼7이사', '010사팔구삼삼구삼일']"
      ]
     },
     "execution_count": 6,
     "metadata": {},
     "output_type": "execute_result"
    }
   ],
   "source": [
    "\n",
    "#문자열 패턴 짜기\n",
    "p = '[0-9영공일이둘삼사오육칠팔구빵]{3}[-]?[0-9영공일이둘삼사오육칠팔구빵]{3,4}[-]?[0-9영공일이둘삼사오육칠팔구빵]{4}'\n",
    "\n",
    "# 찾아놓은 패턴 numbers에 저장\n",
    "numbers = re.findall(p,s)\n",
    "numbers"
   ]
  },
  {
   "cell_type": "code",
   "execution_count": 22,
   "metadata": {},
   "outputs": [],
   "source": [
    "p = '[0-9영공일이둘삼사오육칠팔구빵]{3}[-]?[0-9영공일이둘삼사오육칠팔구빵]{3,4}[-]?[0-9영공일이둘삼사오육칠팔구빵]{4}'\n",
    "numbers = re.findall(p,s)\n",
    "\n",
    "def change_phone_str(s):\n",
    "    p = '[0-9영공일이둘삼사오육칠팔구빵]{3}[-]?[0-9영공일이둘삼사오육칠팔구빵]{3,4}[-]?[0-9영공일이둘삼사오육칠팔구빵]{4}'\n",
    "    numbers = re.findall(p,s)\n",
    "    \n",
    "    \n",
    "    result = []\n",
    "    preprocess_dict = {\n",
    "            \"공\": 0,\n",
    "            \"영\": 0,\n",
    "            \"일\": 1,\n",
    "            \"둘\": 2,\n",
    "            \"이\": 2,\n",
    "            \"삼\": 3,\n",
    "            \"사\": 4,\n",
    "            \"오\": 5,\n",
    "            \"육\": 6,\n",
    "            \"칠\": 7,\n",
    "            \"팔\": 8,\n",
    "            \"구\": 9,\n",
    "            \"-\": \"\"\n",
    "    }\n",
    "    \n",
    "    for number in numbers:\n",
    "        refined_numbers = number\n",
    "        for key, value in preprocess_dict.items():\n",
    "            refined_numbers = refined_numbers.replace(key, str(value))\n",
    "        result.append(refined_numbers)\n",
    "    \n",
    "    result_str = s\n",
    "    for idx, number in enumerate(numbers):\n",
    "        result_str = result_str.replace(number, result[idx])\n",
    "    return result_str\n",
    "        "
   ]
  },
  {
   "cell_type": "code",
   "execution_count": 23,
   "metadata": {},
   "outputs": [
    {
     "data": {
      "text/plain": [
       "('안녕하세요. 저의 전화번호는 영일공-48구삼삼7이사 입니다. 또한 010사팔구삼삼구삼일 입니다.',\n",
       " '안녕하세요. 저의 전화번호는 01048933724 입니다. 또한 01048933931 입니다.')"
      ]
     },
     "execution_count": 23,
     "metadata": {},
     "output_type": "execute_result"
    }
   ],
   "source": [
    "s, change_phone_str(s)"
   ]
  },
  {
   "cell_type": "code",
   "execution_count": null,
   "metadata": {},
   "outputs": [],
   "source": []
  }
 ],
 "metadata": {
  "kernelspec": {
   "display_name": "Python 3",
   "language": "python",
   "name": "python3"
  },
  "language_info": {
   "codemirror_mode": {
    "name": "ipython",
    "version": 3
   },
   "file_extension": ".py",
   "mimetype": "text/x-python",
   "name": "python",
   "nbconvert_exporter": "python",
   "pygments_lexer": "ipython3",
   "version": "3.6.3"
  }
 },
 "nbformat": 4,
 "nbformat_minor": 2
}
