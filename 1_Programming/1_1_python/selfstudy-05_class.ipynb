{
 "cells": [
  {
   "cell_type": "code",
   "execution_count": 4,
   "metadata": {},
   "outputs": [],
   "source": [
    "class HousePark:\n",
    "    lastname = \"박\"\n",
    "    def __init__(self, name):\n",
    "        self.fullname = self.lastname + name\n",
    "    def travel(self, where):\n",
    "        print(\"%s, %s여행을 가다.\" %(self.fullname, where))\n",
    "        \n"
   ]
  },
  {
   "cell_type": "code",
   "execution_count": 5,
   "metadata": {},
   "outputs": [
    {
     "name": "stdout",
     "output_type": "stream",
     "text": [
      "박응용, 태국여행을 가다.\n"
     ]
    }
   ],
   "source": [
    "pey = HousePark(\"응용\")\n",
    "pey.travel(\"태국\")"
   ]
  },
  {
   "cell_type": "code",
   "execution_count": null,
   "metadata": {},
   "outputs": [],
   "source": []
  },
  {
   "cell_type": "markdown",
   "metadata": {},
   "source": [
    "### Class Overiding, Overloading\n",
    "- 오버로딩 vs 연산자 오버로딩?"
   ]
  },
  {
   "cell_type": "code",
   "execution_count": 12,
   "metadata": {},
   "outputs": [
    {
     "name": "stdout",
     "output_type": "stream",
     "text": [
      "장승우, LA여행 14일 가네.\n",
      "신혜원, LA여행을 가네.\n",
      "장승우, 신혜원과 사랑에 빠지다.\n",
      "장승우, 신혜원과 결혼했네.\n",
      "장승우, 신혜원과 싸우네.\n",
      "장승우, 신혜원과 이혼했네.\n"
     ]
    }
   ],
   "source": [
    "class HouseShin:\n",
    "    lastname = \"신\"\n",
    "    def __init__(self, name):\n",
    "        self.fullname = self.lastname + name\n",
    "    def travel(self, where):\n",
    "        print(\"%s, %s여행을 가네.\" % (self.fullname, where))\n",
    "    def love(self, other):\n",
    "        print(\"%s, %s과 사랑에 빠지다.\" % (self.fullname, other.fullname))\n",
    "    def fight(self, other):\n",
    "        print(\"%s, %s과 싸우네.\" % (self.fullname, other.fullname))\n",
    "    def __add__(self, other):\n",
    "        print(\"%s, %s과 결혼했네.\" % (self.fullname, other.fullname))\n",
    "    def __sub__(self, other):\n",
    "        print(\"%s, %s과 이혼했네.\" % (self.fullname, other.fullname))\n",
    "\n",
    "class HouseJang(HouseShin):\n",
    "    lastname = \"장\"\n",
    "    def travel(self, where, day):\n",
    "        print(\"%s, %s여행 %d일 가네.\" % (self.fullname, where, day))\n",
    "        \n",
    "sw = HouseJang(\"승우\")\n",
    "hw = HouseShin(\"혜원\")\n",
    "sw.travel(\"LA\", 14)\n",
    "hw.travel(\"LA\")\n",
    "sw.love(hw)\n",
    "sw + hw\n",
    "sw.fight(hw)\n",
    "sw - hw\n",
    "        "
   ]
  },
  {
   "cell_type": "code",
   "execution_count": null,
   "metadata": {},
   "outputs": [],
   "source": []
  },
  {
   "cell_type": "markdown",
   "metadata": {},
   "source": [
    "### 깐깐하게 배우는 파이썬 - 모듈/클래스/객체"
   ]
  },
  {
   "cell_type": "code",
   "execution_count": 27,
   "metadata": {},
   "outputs": [
    {
     "name": "stdout",
     "output_type": "stream",
     "text": [
      "나는 사과다!\n",
      "<class 'dict'>\n"
     ]
    }
   ],
   "source": [
    "mystuff = {\"사과\" : \"나는 사과다!\"}\n",
    "print (mystuff['사과'])\n",
    "print(type(mystuff))"
   ]
  },
  {
   "cell_type": "code",
   "execution_count": 28,
   "metadata": {},
   "outputs": [
    {
     "name": "stdout",
     "output_type": "stream",
     "text": [
      "Overwriting mystuff.py\n"
     ]
    }
   ],
   "source": [
    "%%writefile mystuff.py\n",
    "def apple():\n",
    "    print (\"나는 사과다!\")"
   ]
  },
  {
   "cell_type": "code",
   "execution_count": 29,
   "metadata": {},
   "outputs": [
    {
     "name": "stdout",
     "output_type": "stream",
     "text": [
      "나는 사과다!\n"
     ]
    }
   ],
   "source": [
    "import mystuff\n",
    "mystuff.apple()"
   ]
  },
  {
   "cell_type": "code",
   "execution_count": 35,
   "metadata": {},
   "outputs": [],
   "source": [
    "import mystuff\n",
    "def apple():\n",
    "    print (\"나는 사과다!\")\n",
    "tangerine = \"꿈의 살아 있는 거울상\""
   ]
  },
  {
   "cell_type": "code",
   "execution_count": 38,
   "metadata": {},
   "outputs": [
    {
     "name": "stdout",
     "output_type": "stream",
     "text": [
      "나는 사과다!\n"
     ]
    },
    {
     "ename": "AttributeError",
     "evalue": "module 'mystuff' has no attribute 'tangerine'",
     "output_type": "error",
     "traceback": [
      "\u001b[0;31m---------------------------------------------------------------------------\u001b[0m",
      "\u001b[0;31mAttributeError\u001b[0m                            Traceback (most recent call last)",
      "\u001b[0;32m<ipython-input-38-2e8bf511c3db>\u001b[0m in \u001b[0;36m<module>\u001b[0;34m()\u001b[0m\n\u001b[1;32m      1\u001b[0m \u001b[0mmystuff\u001b[0m\u001b[0;34m.\u001b[0m\u001b[0mapple\u001b[0m\u001b[0;34m(\u001b[0m\u001b[0;34m)\u001b[0m\u001b[0;34m\u001b[0m\u001b[0m\n\u001b[0;32m----> 2\u001b[0;31m \u001b[0mprint\u001b[0m \u001b[0;34m(\u001b[0m\u001b[0mmystuff\u001b[0m\u001b[0;34m.\u001b[0m\u001b[0mtangerine\u001b[0m\u001b[0;34m)\u001b[0m \u001b[0;31m##<---뭔가 이상하다\u001b[0m\u001b[0;34m\u001b[0m\u001b[0m\n\u001b[0m\u001b[1;32m      3\u001b[0m \u001b[0;34m\u001b[0m\u001b[0m\n",
      "\u001b[0;31mAttributeError\u001b[0m: module 'mystuff' has no attribute 'tangerine'"
     ]
    }
   ],
   "source": [
    "mystuff.apple()\n",
    "print (mystuff.tangerine) ##<---뭔가 이상하다\n",
    "       "
   ]
  },
  {
   "cell_type": "code",
   "execution_count": null,
   "metadata": {},
   "outputs": [],
   "source": []
  }
 ],
 "metadata": {
  "kernelspec": {
   "display_name": "Python 3",
   "language": "python",
   "name": "python3"
  },
  "language_info": {
   "codemirror_mode": {
    "name": "ipython",
    "version": 3
   },
   "file_extension": ".py",
   "mimetype": "text/x-python",
   "name": "python",
   "nbconvert_exporter": "python",
   "pygments_lexer": "ipython3",
   "version": "3.6.3"
  }
 },
 "nbformat": 4,
 "nbformat_minor": 2
}
