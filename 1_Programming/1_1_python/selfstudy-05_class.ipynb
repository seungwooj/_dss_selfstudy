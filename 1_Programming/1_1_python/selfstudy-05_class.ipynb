{
 "cells": [
  {
   "cell_type": "markdown",
   "metadata": {},
   "source": [
    "# 5. class\n",
    "- 클래스는 변수들과 함수를 묶은 사용자 정의 데이터 타입이라고 할수 있다.\n",
    "- 클래스는 청사진, 설계도 라고 할수 있고, 객체가 실제 설계도 대로 만들어진 물건이라고 할수 있다.\n",
    "- 클래스를 이용하여 객체를 만든다고 할수 있고 객체가 선언이 되어야 메모리에 자원이 할당된다.\n",
    "- 객체 지향\n",
    "    - 실제세계를 모델링하여 공통적인 기능을 묶어서 개발\n",
    "    - 다형성 : 같은 이름으로 파라미터에 따라 다른 코드를 수행 하거나 객체에 따라서 다른 함수를 수행 -  override관련\n",
    "    - 캡슐화 : 외부에 변수나 함수를 감춤으로 정보 은닉의 효과가 있는 개념 \n",
    "    - 추상화 : 여러가지 요소를 하나로 통합하여 사용자가 코드을 몰라도 간단하게 사용할수 있는 개념\n",
    "    - 상속 : 기존에 있던 클래스의 기능을 수정하거나 추가\n",
    "- structure <- 클래스의 구조\n",
    "- constructor <- 클래스를 생성할때\n",
    "- inheritance : 기존의 객체에 새로운 기능을 추가하여 새로운 객체를 만든다. (부모객체의 기능 + @)\n",
    "- super : override(상속시 자식객체에서 부모객채의 특정 매서드의 변형이 필요할 때, 자식객체에 부모객체 매서드와 동일 이름으로 재정의)\n",
    "- get,set\n",
    "- private\n",
    "- is a / has a\n",
    "- magic method <- 잘 사용하면 유용할 것.\n",
    "- namedtuple"
   ]
  },
  {
   "cell_type": "markdown",
   "metadata": {},
   "source": [
    "### Structure\n",
    "- class 내부에 self를 이용하여 변수를 할당하고, def를 이용하여 함수를 선언한다.\n",
    "- self는 객체 자신을 의미 한다.\n",
    "- 함수선언시에는 항상 argument로 self를 넣어주어야 한다."
   ]
  },
  {
   "cell_type": "code",
   "execution_count": 1,
   "metadata": {},
   "outputs": [],
   "source": [
    "class calculator:\n",
    "    \n",
    "    def setData(self, num1, num2):\n",
    "        self.num1 = num1\n",
    "        self.num2 = num2\n",
    "        \n",
    "    def add(self):\n",
    "        return self.num1 + self.num2\n",
    "    \n",
    "    def sub(self):\n",
    "        return self.num1 - self.num2\n",
    "    \n",
    "    def mul(self):\n",
    "        return self.num1 * self.num2\n",
    "    \n",
    "    def div(self):\n",
    "        return self.num1 / self.num2\n"
   ]
  },
  {
   "cell_type": "code",
   "execution_count": 2,
   "metadata": {},
   "outputs": [
    {
     "name": "stdout",
     "output_type": "stream",
     "text": [
      "12\n",
      "-2\n"
     ]
    }
   ],
   "source": [
    "c1 = calculator()\n",
    "# c1 : 인스턴스\n",
    "c1.setData(5,7) # .을 이용하여 해당 객체의 함수에 접근한다.(클래스가 함수에 접근하는 방법)  -> 5와 7을 self라는 객체 안에 num1, num2로 할당한다\n",
    "result = c1.add()\n",
    "print(result)\n",
    "result = c1.sub()\n",
    "print(result)"
   ]
  },
  {
   "cell_type": "code",
   "execution_count": 3,
   "metadata": {},
   "outputs": [
    {
     "name": "stdout",
     "output_type": "stream",
     "text": [
      "15\n",
      "0.875\n",
      "22\n"
     ]
    }
   ],
   "source": [
    "# self는 객체를 의미한다.\n",
    "# 클래스의 함수에 self 파라미터로 객체를 넘겨 해당 객체의 변수를 변경할수 있다. - c2를 넘기는것만으로도 변수가 전달됨.\n",
    "c2 = calculator()\n",
    "calculator.setData(c2, 7, 8)     # = c2.setData(7,8)\n",
    "result = calculator.add(c2)\n",
    "print(result)\n",
    "result = calculator.div(c2)\n",
    "print(result)\n",
    "calculator.setData(c2, 10, 12)\n",
    "result = calculator.add(c2)\n",
    "print(result)"
   ]
  },
  {
   "cell_type": "markdown",
   "metadata": {},
   "source": [
    "### Constructor   (생성자) : __init__ (def __init__ (self, 변수1, 변수2)\n",
    "- 생성자는 함수가 객체가 될때 초기 값을 설정하는 역할을 함\n",
    "- `__init__` 으로 함수명을 작성하여 초기값을 넣어줌\n",
    "- 생성자에 들어갈 초기 데이터가 없으면 에러 발생 (초기값이 없으면 객체 생성이 안됨)\n",
    "- 생성자를 사용하는 이유\n",
    "    - 생성자는 초기 데이터가 없으면 아얘 객체를 만들수 없도록 함으로 객체가 만들어진 상태에서 작동이 안되는것 보다 메모리 절약"
   ]
  },
  {
   "cell_type": "code",
   "execution_count": 4,
   "metadata": {},
   "outputs": [
    {
     "ename": "AttributeError",
     "evalue": "'calculator' object has no attribute 'num1'",
     "output_type": "error",
     "traceback": [
      "\u001b[0;31m---------------------------------------------------------------------------\u001b[0m",
      "\u001b[0;31mAttributeError\u001b[0m                            Traceback (most recent call last)",
      "\u001b[0;32m<ipython-input-4-a3b064f0ff58>\u001b[0m in \u001b[0;36m<module>\u001b[0;34m()\u001b[0m\n\u001b[1;32m      1\u001b[0m \u001b[0;31m# 클래스에서 사용하는 변수값이 설정되지 않아 에러가 발생\u001b[0m\u001b[0;34m\u001b[0m\u001b[0;34m\u001b[0m\u001b[0m\n\u001b[1;32m      2\u001b[0m \u001b[0mc3\u001b[0m \u001b[0;34m=\u001b[0m \u001b[0mcalculator\u001b[0m\u001b[0;34m(\u001b[0m\u001b[0;34m)\u001b[0m\u001b[0;34m\u001b[0m\u001b[0m\n\u001b[0;32m----> 3\u001b[0;31m \u001b[0mresult\u001b[0m \u001b[0;34m=\u001b[0m \u001b[0mc3\u001b[0m\u001b[0;34m.\u001b[0m\u001b[0madd\u001b[0m\u001b[0;34m(\u001b[0m\u001b[0;34m)\u001b[0m\u001b[0;34m\u001b[0m\u001b[0m\n\u001b[0m\u001b[1;32m      4\u001b[0m \u001b[0mprint\u001b[0m\u001b[0;34m(\u001b[0m\u001b[0mresult\u001b[0m\u001b[0;34m)\u001b[0m\u001b[0;34m\u001b[0m\u001b[0m\n",
      "\u001b[0;32m<ipython-input-1-a44accb87df3>\u001b[0m in \u001b[0;36madd\u001b[0;34m(self)\u001b[0m\n\u001b[1;32m      6\u001b[0m \u001b[0;34m\u001b[0m\u001b[0m\n\u001b[1;32m      7\u001b[0m     \u001b[0;32mdef\u001b[0m \u001b[0madd\u001b[0m\u001b[0;34m(\u001b[0m\u001b[0mself\u001b[0m\u001b[0;34m)\u001b[0m\u001b[0;34m:\u001b[0m\u001b[0;34m\u001b[0m\u001b[0m\n\u001b[0;32m----> 8\u001b[0;31m         \u001b[0;32mreturn\u001b[0m \u001b[0mself\u001b[0m\u001b[0;34m.\u001b[0m\u001b[0mnum1\u001b[0m \u001b[0;34m+\u001b[0m \u001b[0mself\u001b[0m\u001b[0;34m.\u001b[0m\u001b[0mnum2\u001b[0m\u001b[0;34m\u001b[0m\u001b[0m\n\u001b[0m\u001b[1;32m      9\u001b[0m \u001b[0;34m\u001b[0m\u001b[0m\n\u001b[1;32m     10\u001b[0m     \u001b[0;32mdef\u001b[0m \u001b[0msub\u001b[0m\u001b[0;34m(\u001b[0m\u001b[0mself\u001b[0m\u001b[0;34m)\u001b[0m\u001b[0;34m:\u001b[0m\u001b[0;34m\u001b[0m\u001b[0m\n",
      "\u001b[0;31mAttributeError\u001b[0m: 'calculator' object has no attribute 'num1'"
     ]
    }
   ],
   "source": [
    "# 클래스에서 사용하는 변수값이 설정되지 않아 에러가 발생\n",
    "c3 = calculator()\n",
    "result = c3.add()\n",
    "print(result)"
   ]
  },
  {
   "cell_type": "code",
   "execution_count": 5,
   "metadata": {},
   "outputs": [],
   "source": [
    "# need constructor\n",
    "# when make object, need numbers\n",
    "# save memory (한번 __init__ 으로 클래스 정의한 이후에는 함수 인수로 self만 넣어주면 됨.)\n",
    "class calculator:\n",
    "    \n",
    "    def __init__(self, num1, num2):\n",
    "        self.num1 = num1\n",
    "        self.num2 = num2\n",
    "    \n",
    "    def setData(self, num1, num2):\n",
    "        self.num1 = num1\n",
    "        self.num2 = num2\n",
    "        \n",
    "    def add(self):\n",
    "        return self.num1 + self.num2\n",
    "    \n",
    "    def sub(self):\n",
    "        return self.num1 - self.num2\n",
    "    \n",
    "    def mul(self):\n",
    "        return self.num1 * self.num2\n",
    "    \n",
    "    def div(self):\n",
    "        return self.num1 / self.num2"
   ]
  },
  {
   "cell_type": "code",
   "execution_count": 6,
   "metadata": {},
   "outputs": [
    {
     "name": "stdout",
     "output_type": "stream",
     "text": [
      "12\n",
      "7\n"
     ]
    }
   ],
   "source": [
    "c3 = calculator(5, 7) #앞서 __init__을 했기 때문에, 그다음에는 객체를 class에 넣어주지 않아도 됨.\n",
    "result = c3.add()\n",
    "print(result)\n",
    "\n",
    "c3.setData(3,4)\n",
    "result = c3.add()\n",
    "print(result)"
   ]
  },
  {
   "cell_type": "markdown",
   "metadata": {},
   "source": [
    "### Inheritance (상속)\n",
    "- 상속은 기존의 클래스에 새로운 변수나 함수를 추가하거나 변경하는것을 의미한다.\n",
    "- overiding & overloading 차이점 : 다형성의 특징\n",
    "    - overiding : 상위 클래스가 가지고 있는 함수를 하위 클래스가 함수를 재정의 해서 사용\n",
    "    - overloading : 함수 이름은 같으나 arguments의 갯수 차이로 함수를 구분해주는 방법 - 파이썬에서는 default argument로 조건문을 사용하여 구현"
   ]
  },
  {
   "cell_type": "code",
   "execution_count": 7,
   "metadata": {},
   "outputs": [],
   "source": [
    "# calculator 클래스를 상속 받아 제곱근 기능을 추가 : 기존 클래스의 기능도 함께 지니고 있음\n",
    "class improvedCalculator(calculator):\n",
    "    def pow(self):\n",
    "        return self.num1 ** self.num2"
   ]
  },
  {
   "cell_type": "code",
   "execution_count": 8,
   "metadata": {},
   "outputs": [
    {
     "name": "stdout",
     "output_type": "stream",
     "text": [
      "243\n",
      "8\n"
     ]
    }
   ],
   "source": [
    "ic = improvedCalculator(3,5)\n",
    "result = ic.pow()\n",
    "print(result)\n",
    "\n",
    "result = ic.add()\n",
    "print(result)"
   ]
  },
  {
   "cell_type": "markdown",
   "metadata": {},
   "source": [
    "##### 다중상속"
   ]
  },
  {
   "cell_type": "code",
   "execution_count": 9,
   "metadata": {},
   "outputs": [],
   "source": [
    "# multiful inheritance\n",
    "class human():\n",
    "    def walk(self):\n",
    "        print(\"walking\")\n",
    "            \n",
    "class korean():\n",
    "    def eat(self):\n",
    "        print(\"eat kimchi\")\n",
    "    \n",
    "class indian():\n",
    "    def eat(self):\n",
    "        print(\"eat curry\")"
   ]
  },
  {
   "cell_type": "code",
   "execution_count": 10,
   "metadata": {},
   "outputs": [],
   "source": [
    "# jin은 사람과 한국인을 상속받음 -> walk함수 / eat함수 상속\n",
    "# coding 스킬이있음 - 함수 추가\n",
    "class jin(human, korean):\n",
    "    \n",
    "    def skill(self):\n",
    "        print(\"coding\")\n",
    "        \n",
    "    def eat(self): # 오버라이딩 : 상위 클래스의 함수를 \"새롭게 정의\" - eat함수 변형 (같은 이름, parameter개수 동일)\n",
    "        print(\"eat noodle\")"
   ]
  },
  {
   "cell_type": "code",
   "execution_count": 11,
   "metadata": {},
   "outputs": [],
   "source": [
    "# anchal은 사람과 인도인을 상속받음 -> walk함수 / eat함수 상속\n",
    "# speaking english 스킬이 있음 - 함수 추가\n",
    "class anchal(human, indian):\n",
    "    \n",
    "    def skill(self):\n",
    "        print(\"speak english\")\n",
    "        \n",
    "    def eat(self, place=None): # 오버로딩 : parameter의 갯수 차이로 다르게 코드 실행 <--place=None일때, None이 아닐때, \n",
    "                                          \n",
    "        if place is None:      # <- None 쓸때는 is None으로 꼭 써줄 것.\n",
    "            print(\"eat noodle\")\n",
    "        else:\n",
    "            print(\"eat noodle in {}\".format(place))"
   ]
  },
  {
   "cell_type": "code",
   "execution_count": 12,
   "metadata": {},
   "outputs": [],
   "source": [
    "j = jin()\n",
    "a = anchal()"
   ]
  },
  {
   "cell_type": "code",
   "execution_count": 13,
   "metadata": {},
   "outputs": [
    {
     "name": "stdout",
     "output_type": "stream",
     "text": [
      "walking\n",
      "eat noodle\n",
      "coding\n"
     ]
    }
   ],
   "source": [
    "j.walk()\n",
    "j.eat()\n",
    "j.skill()"
   ]
  },
  {
   "cell_type": "code",
   "execution_count": 14,
   "metadata": {},
   "outputs": [
    {
     "name": "stdout",
     "output_type": "stream",
     "text": [
      "walking\n",
      "eat noodle\n",
      "speak english\n",
      "eat noodle in Delhi\n"
     ]
    }
   ],
   "source": [
    "a.walk()\n",
    "a.eat()\n",
    "a.skill()\n",
    "a.eat(\"Delhi\")"
   ]
  },
  {
   "cell_type": "markdown",
   "metadata": {},
   "source": [
    "### super\n",
    "- 상위 클래스의 생성자를 받아옴 : 상속하는 것을 함수에 표현\n",
    "- starcraft 예제"
   ]
  },
  {
   "cell_type": "code",
   "execution_count": 15,
   "metadata": {},
   "outputs": [],
   "source": [
    "class human():\n",
    "    \n",
    "    def __init__(self):\n",
    "        self.health = 40\n",
    "\n",
    "    def set_health(self, var):\n",
    "        self.health += var"
   ]
  },
  {
   "cell_type": "code",
   "execution_count": 16,
   "metadata": {},
   "outputs": [],
   "source": [
    "class marin(human):     # human클래스를 받아옴 : health 40 상속\n",
    "    \n",
    "    def __init__(self):\n",
    "        super(marin, self).__init__()   # <- super를 선언하게 되면, 상위 클래스에서 선언한 클래스의 변수들을 가져오게 됨.\n",
    "  #      self.health = 40\n",
    "        self.attack_power = 5\n",
    "        self.kill = 0\n",
    "        \n",
    "    def attack(self, obj): #marin클래스에 attack함수 추가\n",
    "        \n",
    "        obj.set_health(-self.attack_power)\n",
    "        \n",
    "        if obj.health <= 0:\n",
    "            obj.health = 0\n",
    "            self.kill += 1\n",
    "            return \"die\" # killed\n",
    "        \n",
    "        return \"alive [health:{}]\".format(obj.health) # alive"
   ]
  },
  {
   "cell_type": "code",
   "execution_count": 17,
   "metadata": {},
   "outputs": [],
   "source": [
    "class medic(human):     # human클래스를 받아옴 : health 40 상속 \n",
    "    \n",
    "    def __init__(self): #health,heal_power변수 할당\n",
    "        self.health = 20\n",
    "        self.heal_power = 6\n",
    "    \n",
    "    def heal(self, obj): #heal함수 정의\n",
    "        \n",
    "        if obj.health == 0:\n",
    "            print(\"aleady die!\")\n",
    "            return\n",
    "        \n",
    "        obj.set_health(+self.heal_power)\n",
    "        \n",
    "        if obj.health > 40:\n",
    "            obj.health = 40\n",
    "    "
   ]
  },
  {
   "cell_type": "code",
   "execution_count": 18,
   "metadata": {},
   "outputs": [
    {
     "name": "stdout",
     "output_type": "stream",
     "text": [
      "Variable             Type                  Data/Info\n",
      "----------------------------------------------------\n",
      "a                    anchal                <__main__.anchal object at 0x113f57748>\n",
      "anchal               type                  <class '__main__.anchal'>\n",
      "c1                   calculator            <__main__.calculator object at 0x113eb6940>\n",
      "c2                   calculator            <__main__.calculator object at 0x113eb6e10>\n",
      "c3                   calculator            <__main__.calculator object at 0x113f572e8>\n",
      "calculator           type                  <class '__main__.calculator'>\n",
      "human                type                  <class '__main__.human'>\n",
      "ic                   improvedCalculator    <__main__.improvedCalcula<...>or object at 0x113f57358>\n",
      "improvedCalculator   type                  <class '__main__.improvedCalculator'>\n",
      "indian               type                  <class '__main__.indian'>\n",
      "j                    jin                   <__main__.jin object at 0x113f577f0>\n",
      "jin                  type                  <class '__main__.jin'>\n",
      "korean               type                  <class '__main__.korean'>\n",
      "marin                type                  <class '__main__.marin'>\n",
      "marin1               marin                 <__main__.marin object at 0x113f57d68>\n",
      "marin2               marin                 <__main__.marin object at 0x113f57f28>\n",
      "medic                type                  <class '__main__.medic'>\n",
      "result               int                   8\n"
     ]
    }
   ],
   "source": [
    "# make marin objects\n",
    "marin1 = marin()\n",
    "marin2 = marin()\n",
    "%whos"
   ]
  },
  {
   "cell_type": "code",
   "execution_count": 19,
   "metadata": {},
   "outputs": [
    {
     "data": {
      "text/plain": [
       "'alive [health:35]'"
      ]
     },
     "execution_count": 19,
     "metadata": {},
     "output_type": "execute_result"
    }
   ],
   "source": [
    "# attack marin1 to marin2\n",
    "marin1.attack(marin2)"
   ]
  },
  {
   "cell_type": "code",
   "execution_count": 20,
   "metadata": {},
   "outputs": [],
   "source": [
    "marin3 = marin()"
   ]
  },
  {
   "cell_type": "code",
   "execution_count": 21,
   "metadata": {},
   "outputs": [
    {
     "data": {
      "text/plain": [
       "'alive [health:35]'"
      ]
     },
     "execution_count": 21,
     "metadata": {},
     "output_type": "execute_result"
    }
   ],
   "source": [
    "marin1.attack(marin3)"
   ]
  },
  {
   "cell_type": "code",
   "execution_count": 22,
   "metadata": {},
   "outputs": [
    {
     "data": {
      "text/plain": [
       "(40, 35, 0, 0)"
      ]
     },
     "execution_count": 22,
     "metadata": {},
     "output_type": "execute_result"
    }
   ],
   "source": [
    "# check status\n",
    "marin1.health, marin2.health, marin1.kill, marin2.kill"
   ]
  },
  {
   "cell_type": "code",
   "execution_count": 23,
   "metadata": {},
   "outputs": [
    {
     "data": {
      "text/plain": [
       "(40, 35)"
      ]
     },
     "execution_count": 23,
     "metadata": {},
     "output_type": "execute_result"
    }
   ],
   "source": [
    "marin1.health, marin2.health"
   ]
  },
  {
   "cell_type": "code",
   "execution_count": 24,
   "metadata": {},
   "outputs": [],
   "source": [
    "# make medic object\n",
    "medic1 = medic()"
   ]
  },
  {
   "cell_type": "code",
   "execution_count": 25,
   "metadata": {},
   "outputs": [],
   "source": [
    "medic1.heal(marin2)"
   ]
  },
  {
   "cell_type": "code",
   "execution_count": 26,
   "metadata": {},
   "outputs": [],
   "source": [
    "medic1.heal(marin3)"
   ]
  },
  {
   "cell_type": "code",
   "execution_count": 27,
   "metadata": {},
   "outputs": [
    {
     "data": {
      "text/plain": [
       "'alive [health:35]'"
      ]
     },
     "execution_count": 27,
     "metadata": {},
     "output_type": "execute_result"
    }
   ],
   "source": [
    "marin1.attack(marin3)"
   ]
  },
  {
   "cell_type": "code",
   "execution_count": 28,
   "metadata": {},
   "outputs": [],
   "source": [
    "medic1.heal(marin3)"
   ]
  },
  {
   "cell_type": "code",
   "execution_count": 29,
   "metadata": {},
   "outputs": [
    {
     "data": {
      "text/plain": [
       "40"
      ]
     },
     "execution_count": 29,
     "metadata": {},
     "output_type": "execute_result"
    }
   ],
   "source": [
    "marin3.health"
   ]
  },
  {
   "cell_type": "code",
   "execution_count": 30,
   "metadata": {},
   "outputs": [],
   "source": [
    "# 문제 \n",
    "# 아래의 데이터를 리스트, 딕셔너리, 클래스로 나타내어라.\n",
    "# 클래스에서는 타율(안타/타석) 정보를 볼수 있는 기능 추가\n",
    "# 김선빈 - 타석:476, 안타:176\n",
    "# 박건우 - 타석:483, 안타:177\n",
    "# 박민우 - 타석:388, 안타:141\n",
    "# 나성범 - 타석:498, 안타:173\n",
    "# 박용택 - 타석:509, 안타:175"
   ]
  },
  {
   "cell_type": "code",
   "execution_count": 31,
   "metadata": {},
   "outputs": [],
   "source": [
    "# list\n",
    "ksb = [476, 176]\n",
    "pgw = [483, 177]\n",
    "pmw = [388, 141]\n",
    "nsb = [498, 173]\n",
    "pyt = [509, 175]\n",
    "\n",
    "#Dictionary\n",
    "ksb = {\"타석\": 476, \"안타\": 176}\n",
    "pgw = {\"타석\": 483, \"안타\": 177}\n",
    "pmw = {\"타석\": 388, \"안타\": 141}\n",
    "nsb = {\"타석\": 498, \"안타\": 173}\n",
    "pyt = {\"타석\": 509, \"안타\": 175}\n",
    "\n",
    "#class, object\n",
    "class baseball_player:\n",
    "    \n",
    "    def __init__(self, ts, at):\n",
    "        self.ts = ts\n",
    "        self.at = at\n",
    "        \n",
    "    def avg(self):                 #타율\n",
    "        return round(self.at / self.ts, 2)"
   ]
  },
  {
   "cell_type": "code",
   "execution_count": null,
   "metadata": {},
   "outputs": [],
   "source": []
  },
  {
   "cell_type": "code",
   "execution_count": 32,
   "metadata": {},
   "outputs": [],
   "source": [
    "ksb = baseball_player(476, 176)"
   ]
  },
  {
   "cell_type": "code",
   "execution_count": 33,
   "metadata": {},
   "outputs": [
    {
     "data": {
      "text/plain": [
       "(476, 176, 0.37)"
      ]
     },
     "execution_count": 33,
     "metadata": {},
     "output_type": "execute_result"
    }
   ],
   "source": [
    "ksb.ts, ksb.at, ksb.avg()"
   ]
  },
  {
   "cell_type": "code",
   "execution_count": 34,
   "metadata": {},
   "outputs": [
    {
     "data": {
      "text/plain": [
       "(388, 141, 0.36)"
      ]
     },
     "execution_count": 34,
     "metadata": {},
     "output_type": "execute_result"
    }
   ],
   "source": [
    "pmw = baseball_player(388, 141)\n",
    "pmw.ts, pmw.at, pmw.avg()"
   ]
  },
  {
   "cell_type": "markdown",
   "metadata": {},
   "source": [
    "##### get,set\n",
    "- 함수가 아니라 `.`을 통해 클래스 객체의 내부 변수에 접근할수 있도록 한다.\n",
    "- property를 이용한 get, set\n",
    "- decorlator를 이용한 get, set"
   ]
  },
  {
   "cell_type": "code",
   "execution_count": 35,
   "metadata": {},
   "outputs": [],
   "source": [
    "# property를 이용\n",
    "\n",
    "class Person1():\n",
    "    \n",
    "    def __init__(self, input_name):\n",
    "        self.hidden_name = input_name\n",
    "    \n",
    "    def get_name(self):\n",
    "        print(\"inside the getter\")\n",
    " #       return \"타석:{}, 안타:{}\".format(self.hidden_name[0],self.hidden_name[0])\n",
    "        return self.hidden_name\n",
    "    \n",
    "    def setter(self, input_name):\n",
    "        print(\"inside the setter\")\n",
    "        self.hidden_name = str(input_name)\n",
    "        \n",
    "    name = property(get_name, setter)"
   ]
  },
  {
   "cell_type": "code",
   "execution_count": 36,
   "metadata": {},
   "outputs": [],
   "source": [
    "p1 = Person1([476, 176])"
   ]
  },
  {
   "cell_type": "code",
   "execution_count": 37,
   "metadata": {},
   "outputs": [
    {
     "name": "stdout",
     "output_type": "stream",
     "text": [
      "[476, 176]\n"
     ]
    }
   ],
   "source": [
    "print (p1.hidden_name)"
   ]
  },
  {
   "cell_type": "code",
   "execution_count": 38,
   "metadata": {},
   "outputs": [
    {
     "name": "stdout",
     "output_type": "stream",
     "text": [
      "inside the getter\n",
      "doojin\n",
      "inside the getter\n",
      "doojin\n",
      "inside the setter\n",
      "inside the getter\n",
      "inside the getter\n",
      "shin1\n",
      "inside the getter\n",
      "shin1\n"
     ]
    }
   ],
   "source": [
    "p1 = Person1(\"doojin\")\n",
    "\n",
    "# get\n",
    "print(p1.name) # property를 이용하여 . 을 통해 객체의 변수를 가져올수 있다. (get)\n",
    "print(p1.get_name())\n",
    "\n",
    "# set\n",
    "# property를 이용하여 . 을 통해 객체의 변수를 설정할수 있다. \n",
    "# property가 설정되어 있지 않으면 클래스 내부 변수가 아니라 그냥 변수로 설정된다.\n",
    "p1.name = 'shin1' \n",
    "p1.get_name()\n",
    "\n",
    "# get\n",
    "print(p1.name)\n",
    "print(p1.get_name())"
   ]
  },
  {
   "cell_type": "code",
   "execution_count": 39,
   "metadata": {},
   "outputs": [],
   "source": [
    "#decorlator\n",
    "class Person2():\n",
    "    \n",
    "    def __init__(self, input_name):\n",
    "        self.hidden_name = input_name\n",
    "        \n",
    "    @property \n",
    "    def name(self):\n",
    "        print(\"inside the getter\")\n",
    "        return self.hidden_name\n",
    "    \n",
    "    @name.setter\n",
    "    def name(self, input_name):\n",
    "        print(\"inside the setter\")\n",
    "        self.hidden_name = input_name\n",
    "        "
   ]
  },
  {
   "cell_type": "code",
   "execution_count": 40,
   "metadata": {},
   "outputs": [
    {
     "name": "stdout",
     "output_type": "stream",
     "text": [
      "inside the getter\n",
      "doojin\n",
      "inside the setter\n",
      "inside the getter\n",
      "shin\n"
     ]
    }
   ],
   "source": [
    "p2 = Person2(\"doojin\")\n",
    "\n",
    "# get\n",
    "print(p2.name)\n",
    "\n",
    "# set\n",
    "p2.name = 'shin'\n",
    "\n",
    "# get\n",
    "print(p2.name)"
   ]
  },
  {
   "cell_type": "markdown",
   "metadata": {},
   "source": [
    "### private\n",
    "- mangling : 캡슐화\n",
    "- class 내부변수를 다이렉트로 접근하지 못하게 함\n",
    "- 변수명 앞에 `__`를 붙이면 다이렉트로 접근하지 못함\n",
    "- 완벽한 방법은 아니고 변수명 앞에 `_`(클래스명)을 붙이면 접근이 가능"
   ]
  },
  {
   "cell_type": "code",
   "execution_count": 41,
   "metadata": {},
   "outputs": [
    {
     "data": {
      "text/plain": [
       "'shin'"
      ]
     },
     "execution_count": 41,
     "metadata": {},
     "output_type": "execute_result"
    }
   ],
   "source": [
    "# 클래스 내부 변수에 .을 이용한 접근이 가능\n",
    "p2.hidden_name"
   ]
  },
  {
   "cell_type": "code",
   "execution_count": 42,
   "metadata": {},
   "outputs": [],
   "source": [
    "class Person3():\n",
    "    \n",
    "    def __init__(self, input_name):\n",
    "        self.__hidden_name = input_name   # <- self.__  : private / self.~~~ : public\n",
    "        \n",
    "    @property \n",
    "    def name(self):\n",
    "        print(\"inside the getter\")\n",
    "        return self.__hidden_name\n",
    "    \n",
    "    @name.setter\n",
    "    def name(self, input_name):\n",
    "        print(\"inside the setter\")\n",
    "        self.__hidden_name = input_name #private으로 지정시, getter, setter에 모두 __ 를 변수 앞에 추가해준다."
   ]
  },
  {
   "cell_type": "code",
   "execution_count": 43,
   "metadata": {},
   "outputs": [
    {
     "name": "stdout",
     "output_type": "stream",
     "text": [
      "inside the getter\n",
      "doojin\n",
      "inside the setter\n",
      "inside the getter\n",
      "shin\n"
     ]
    }
   ],
   "source": [
    "p3 = Person3(\"doojin\")\n",
    "\n",
    "# get\n",
    "print(p3.name)\n",
    "\n",
    "# set\n",
    "p3.name = 'shin'\n",
    "\n",
    "# get\n",
    "print(p3.name)"
   ]
  },
  {
   "cell_type": "code",
   "execution_count": 44,
   "metadata": {},
   "outputs": [
    {
     "ename": "AttributeError",
     "evalue": "'Person3' object has no attribute '__hidden_name'",
     "output_type": "error",
     "traceback": [
      "\u001b[0;31m---------------------------------------------------------------------------\u001b[0m",
      "\u001b[0;31mAttributeError\u001b[0m                            Traceback (most recent call last)",
      "\u001b[0;32m<ipython-input-44-6b8965db465e>\u001b[0m in \u001b[0;36m<module>\u001b[0;34m()\u001b[0m\n\u001b[1;32m      1\u001b[0m \u001b[0;31m# mangling을 통해 접근이 불가능\u001b[0m\u001b[0;34m\u001b[0m\u001b[0;34m\u001b[0m\u001b[0m\n\u001b[0;32m----> 2\u001b[0;31m \u001b[0mp3\u001b[0m\u001b[0;34m.\u001b[0m\u001b[0m__hidden_name\u001b[0m\u001b[0;34m\u001b[0m\u001b[0m\n\u001b[0m",
      "\u001b[0;31mAttributeError\u001b[0m: 'Person3' object has no attribute '__hidden_name'"
     ]
    }
   ],
   "source": [
    "# mangling을 통해 접근이 불가능\n",
    "p3.__hidden_name"
   ]
  },
  {
   "cell_type": "code",
   "execution_count": 45,
   "metadata": {},
   "outputs": [
    {
     "data": {
      "text/plain": [
       "'shin'"
      ]
     },
     "execution_count": 45,
     "metadata": {},
     "output_type": "execute_result"
    }
   ],
   "source": [
    "# _class 명을 앞에 추가시켜 접근이 가능\n",
    "# 완벽한 private는 아님, 하지만 접근을 어렵게 만든다.\n",
    "p3._Person3__hidden_name"
   ]
  },
  {
   "cell_type": "markdown",
   "metadata": {},
   "source": [
    "### is a / has a - 굳이 구분해야 하는가?\n",
    "- has a : composition, aggregation"
   ]
  },
  {
   "cell_type": "code",
   "execution_count": 46,
   "metadata": {},
   "outputs": [
    {
     "name": "stdout",
     "output_type": "stream",
     "text": [
      "Doojin pdj1224@gmail.com\n"
     ]
    }
   ],
   "source": [
    "# is a\n",
    "# person5 is a person4\n",
    "# person5는 Persion4 이다. ( person5가 person4의 객체를 상속받음) \n",
    "class Person4():\n",
    "    \n",
    "    def __init__(self, name, email):\n",
    "        self.name = name\n",
    "        self.email = email\n",
    "\n",
    "class Person5(Person4):\n",
    "    \n",
    "    def about(self):\n",
    "        print(self.name, self.email)\n",
    "        \n",
    "p5 = Person5(\"Doojin\", \"pdj1224@gmail.com\")\n",
    "p5.about()"
   ]
  },
  {
   "cell_type": "code",
   "execution_count": 47,
   "metadata": {},
   "outputs": [
    {
     "name": "stdout",
     "output_type": "stream",
     "text": [
      "Doojin pdj1224@gmail.com\n"
     ]
    }
   ],
   "source": [
    "# has a\n",
    "# 클래스의 변수를 객체로 받아서 클래스를 선언하는 개념 (클래스는 객체를 가지고 있다.)\n",
    "# 사람은 이름과 이메일을 가지고 있다\n",
    "# person has a name,email\n",
    "# 이 사람의 이름은 Doojin, 메일은 pdj1224@gmail.com을 가지고 있다.\n",
    "class Name():\n",
    "    def __init__(self, name):\n",
    "        self.name_str = name\n",
    "    \n",
    "class Email():\n",
    "    def __init__(self, email):\n",
    "        self.email_str = email\n",
    "    \n",
    "class Person6():\n",
    "    \n",
    "    def __init__(self, name, email): #has a 할때, __init__ 하면서 클래스의 변수를 객체로 지정\n",
    "        self.name = name\n",
    "        self.email = email\n",
    "     \n",
    "    def about(self):\n",
    "        print(self.name.name_str, self.email.email_str)\n",
    "\n",
    "name = Name(\"Doojin\")\n",
    "email = Email(\"pdj1224@gmail.com\")\n",
    "p6 = Person6(name, email)\n",
    "p6.about()"
   ]
  },
  {
   "cell_type": "markdown",
   "metadata": {},
   "source": [
    "### magic method\n",
    "- https://docs.python.org/3/reference/datamodel.html#specialnames\n",
    "- compare\n",
    "    - `__eq__` : ==\n",
    "    - `__ne__` : !=\n",
    "    - `__lt__` : <\n",
    "    - `__gt__` : >\n",
    "    - `__le__` : <=\n",
    "    - `__ge__` : >=\n",
    "- calculate\n",
    "    - `__add__` : +\n",
    "    - `__sub__` : -\n",
    "    - `__mul__` : *\n",
    "    - `__floordiv__` : //\n",
    "    - `__truediv__` : /\n",
    "    - `__mod__` : %\n",
    "    - `__pow__` : **\n",
    "- `__repr__`\n",
    "- `__str__`\n",
    "- `__len__`"
   ]
  },
  {
   "cell_type": "code",
   "execution_count": 48,
   "metadata": {},
   "outputs": [
    {
     "name": "stdout",
     "output_type": "stream",
     "text": [
      "True\n",
      "False\n",
      "True\n",
      "True\n"
     ]
    }
   ],
   "source": [
    "class Txt():\n",
    "    def __init__(self, txt):\n",
    "        self.txt = txt\n",
    "    def equals(self, txt_obj):\n",
    "        return self.txt.lower() == txt_obj.txt.lower()\n",
    "\n",
    "txt1 = Txt(\"fastcampus\")\n",
    "txt2 = Txt(\"FastCampus\")\n",
    "txt3 = Txt(\"dataScience\")\n",
    "txt4 = Txt(\"fastcampus\")\n",
    "txt5 = txt1\n",
    "\n",
    "print( txt1.equals(txt2) )\n",
    "print( txt1.equals(txt3) )\n",
    "print( txt1.equals(txt4) )\n",
    "print( txt1.equals(txt5) )"
   ]
  },
  {
   "cell_type": "code",
   "execution_count": 49,
   "metadata": {
    "scrolled": true
   },
   "outputs": [
    {
     "data": {
      "text/plain": [
       "(False, False, False, True)"
      ]
     },
     "execution_count": 49,
     "metadata": {},
     "output_type": "execute_result"
    }
   ],
   "source": [
    "# object는 비교연산에서 주소값을 비교한다. #<---txt1과 txt4는 문자값은 같지만 메모리가 다르게 저장, False\n",
    "txt1 == txt2, txt1 == txt3, txt1 == txt4, txt1 == txt5"
   ]
  },
  {
   "cell_type": "code",
   "execution_count": 50,
   "metadata": {},
   "outputs": [
    {
     "data": {
      "text/plain": [
       "(<__main__.Txt at 0x113f85278>,\n",
       " <__main__.Txt at 0x113f852b0>,\n",
       " <__main__.Txt at 0x113f85278>)"
      ]
     },
     "execution_count": 50,
     "metadata": {},
     "output_type": "execute_result"
    }
   ],
   "source": [
    "# txt1과 txt5는 주소값이 같지만 txt4는 주소값이 다르다.\n",
    "txt1, txt4, txt5"
   ]
  },
  {
   "cell_type": "code",
   "execution_count": 51,
   "metadata": {},
   "outputs": [
    {
     "data": {
      "text/plain": [
       "(True, False, True, True)"
      ]
     },
     "execution_count": 51,
     "metadata": {},
     "output_type": "execute_result"
    }
   ],
   "source": [
    "# __eq__를 정의\n",
    "# __eq__를 정의하면 클래스 비교연산에서 __eq__를 수행한다.\n",
    "class Txt():\n",
    "    def __init__(self, txt):\n",
    "        self.txt = txt\n",
    "    def __eq__(self, txt_obj):\n",
    "        \"\"\"\n",
    "            return self.txt.lower() == txt_obj.txt.lower()  \n",
    "        \"\"\"\n",
    "        return self.txt.lower() == txt_obj.txt.lower()     #<----오버라이딩\n",
    "\n",
    "txt1 = Txt(\"fastcampus\")\n",
    "txt2 = Txt(\"FastCampus\")\n",
    "txt3 = Txt(\"dataScience\")\n",
    "txt4 = Txt(\"fastcampus\")\n",
    "txt5 = txt1\n",
    "\n",
    "txt1 == txt2, txt1 == txt3, txt1 == txt4, txt1 == txt5"
   ]
  },
  {
   "cell_type": "code",
   "execution_count": 52,
   "metadata": {},
   "outputs": [],
   "source": [
    "Txt.__eq__??"
   ]
  },
  {
   "cell_type": "markdown",
   "metadata": {},
   "source": [
    "- 리스트에 있는 값 여러개 삭제하는 방법"
   ]
  },
  {
   "cell_type": "code",
   "execution_count": 53,
   "metadata": {},
   "outputs": [
    {
     "name": "stdout",
     "output_type": "stream",
     "text": [
      "['Hello', 'Hello', 'Python', 'Hello', 'Python']\n"
     ]
    }
   ],
   "source": [
    "value = [\"Hello\",\"Python\",\"Hello\",\"Python\",\"Hello\",\"Python\"]\n",
    "value.remove(\"Python\")\n",
    "print(value)"
   ]
  },
  {
   "cell_type": "markdown",
   "metadata": {},
   "source": [
    "##### quiz\n",
    "- 리스트에 있는 특정 값을 모두 삭제하는 방법 (여러가지 for, comprehention)\n"
   ]
  },
  {
   "cell_type": "code",
   "execution_count": 54,
   "metadata": {},
   "outputs": [
    {
     "data": {
      "text/plain": [
       "['Hello', 'Hello', 'Hello']"
      ]
     },
     "execution_count": 54,
     "metadata": {},
     "output_type": "execute_result"
    }
   ],
   "source": [
    "def del_all(ls, string):\n",
    "    # TODO - comprehension문을 활용하여 풀기\n",
    "    return [data for data in ls if data != string]\n",
    "\n",
    "ls = [\"Hello\",\"Python\",\"Hello\",\"Python\",\"Hello\",\"Python\"]\n",
    "string = \"Python\"\n",
    "del_all(ls, string)"
   ]
  },
  {
   "cell_type": "code",
   "execution_count": 55,
   "metadata": {},
   "outputs": [
    {
     "data": {
      "text/plain": [
       "['Hello', 'Hello', 'Hello']"
      ]
     },
     "execution_count": 55,
     "metadata": {},
     "output_type": "execute_result"
    }
   ],
   "source": [
    "# for문을 활용하여 풀기\n",
    "\n",
    "def del_all(ls, string):\n",
    "    result = []\n",
    "    for data in ls:\n",
    "        if data != string:                #<- 같지 않다면\n",
    "            result.append(data)\n",
    "    return result\n",
    "    \n",
    "ls = [\"Hello\",\"Python\",\"Hello\",\"Python\",\"Hello\",\"Python\"]\n",
    "string = \"Python\"\n",
    "del_all(ls, string)\n",
    "           "
   ]
  },
  {
   "cell_type": "code",
   "execution_count": 56,
   "metadata": {},
   "outputs": [],
   "source": [
    "string.__ne__??"
   ]
  },
  {
   "cell_type": "code",
   "execution_count": 57,
   "metadata": {},
   "outputs": [
    {
     "name": "stdout",
     "output_type": "stream",
     "text": [
      "['Hello', 'Hello', 'Hello']\n"
     ]
    }
   ],
   "source": [
    "# __ne__ : 같으면 False, 다르면 True를 리턴\n",
    "ls = [\"Hello\",\"Python\",\"Hello\",\"Python\",\"Hello\",\"Python\"]\n",
    "print(list(filter((\"Python\").__ne__, ls)))"
   ]
  },
  {
   "cell_type": "code",
   "execution_count": 58,
   "metadata": {},
   "outputs": [],
   "source": [
    "int.__lt__??"
   ]
  },
  {
   "cell_type": "code",
   "execution_count": 59,
   "metadata": {},
   "outputs": [
    {
     "name": "stdout",
     "output_type": "stream",
     "text": [
      "[4, 5]\n"
     ]
    }
   ],
   "source": [
    "ls = [1,2,3,4,5]\n",
    "print(list(filter((3).__lt__, ls))) #3과 3보다 작은 애들 filter함"
   ]
  },
  {
   "cell_type": "markdown",
   "metadata": {},
   "source": [
    "- `__add__`"
   ]
  },
  {
   "cell_type": "code",
   "execution_count": 60,
   "metadata": {},
   "outputs": [],
   "source": [
    "int.__add__??"
   ]
  },
  {
   "cell_type": "code",
   "execution_count": 61,
   "metadata": {},
   "outputs": [
    {
     "data": {
      "text/plain": [
       "5"
      ]
     },
     "execution_count": 61,
     "metadata": {},
     "output_type": "execute_result"
    }
   ],
   "source": [
    "(2).__add__(3)"
   ]
  },
  {
   "cell_type": "code",
   "execution_count": 62,
   "metadata": {},
   "outputs": [],
   "source": [
    "# add를 정의 해서 객체간의 덧셈을 정의 할수 있다.(뺄셈으로 변경)\n",
    "class number:\n",
    "    \n",
    "    def __init__(self, num):\n",
    "        self.num = num\n",
    "    def __add__(self, other):\n",
    "        return self.num - other.num                   #<---add를 오버라이딩\n",
    "        "
   ]
  },
  {
   "cell_type": "code",
   "execution_count": 63,
   "metadata": {},
   "outputs": [
    {
     "data": {
      "text/plain": [
       "-2"
      ]
     },
     "execution_count": 63,
     "metadata": {},
     "output_type": "execute_result"
    }
   ],
   "source": [
    "n1 = number(5)\n",
    "n2 = number(7)\n",
    "n1 + n2"
   ]
  },
  {
   "cell_type": "code",
   "execution_count": 64,
   "metadata": {},
   "outputs": [],
   "source": [
    "# 앞에 있는 클래스의 함수를 따른다.\n",
    "class number2:\n",
    "    def __init__(self, num):\n",
    "        self.num = num\n",
    "    def __add__(self, other):\n",
    "        return self.num * other.num"
   ]
  },
  {
   "cell_type": "code",
   "execution_count": 65,
   "metadata": {},
   "outputs": [
    {
     "data": {
      "text/plain": [
       "-2"
      ]
     },
     "execution_count": 65,
     "metadata": {},
     "output_type": "execute_result"
    }
   ],
   "source": [
    "n1 = number(5)\n",
    "n2 = number2(7)\n",
    "n1 + n2"
   ]
  },
  {
   "cell_type": "code",
   "execution_count": null,
   "metadata": {},
   "outputs": [],
   "source": []
  },
  {
   "cell_type": "markdown",
   "metadata": {},
   "source": [
    "- `__repr__` : 클래스를 정의\n",
    "- `__str__` : 클래스명으로 print 출력시 나오는 문자열"
   ]
  },
  {
   "cell_type": "code",
   "execution_count": 66,
   "metadata": {},
   "outputs": [],
   "source": [
    "# __repr__, __str__\n",
    "class Txt():\n",
    "    def __init__(self, txt):\n",
    "        self.txt = txt\n",
    "t1 = Txt(\"Python\")"
   ]
  },
  {
   "cell_type": "code",
   "execution_count": 67,
   "metadata": {},
   "outputs": [
    {
     "data": {
      "text/plain": [
       "<__main__.Txt at 0x113f75e80>"
      ]
     },
     "execution_count": 67,
     "metadata": {},
     "output_type": "execute_result"
    }
   ],
   "source": [
    "t1 # call __repr__"
   ]
  },
  {
   "cell_type": "code",
   "execution_count": 68,
   "metadata": {},
   "outputs": [
    {
     "name": "stdout",
     "output_type": "stream",
     "text": [
      "<__main__.Txt object at 0x113f75e80>\n"
     ]
    }
   ],
   "source": [
    "print(t1) # call __str__"
   ]
  },
  {
   "cell_type": "code",
   "execution_count": 69,
   "metadata": {},
   "outputs": [],
   "source": [
    "# __repr__, __str__\n",
    "class Txt2():\n",
    "    def __init__(self, txt):\n",
    "        self.txt = txt\n",
    "  \n",
    "    def __str__(self):\n",
    "        print(\"call '__str__'\")\n",
    "        return self.txt\n",
    "t2 = Txt2(\"Python\")"
   ]
  },
  {
   "cell_type": "code",
   "execution_count": 70,
   "metadata": {},
   "outputs": [
    {
     "data": {
      "text/plain": [
       "<__main__.Txt2 at 0x113f75b38>"
      ]
     },
     "execution_count": 70,
     "metadata": {},
     "output_type": "execute_result"
    }
   ],
   "source": [
    "t2"
   ]
  },
  {
   "cell_type": "code",
   "execution_count": 71,
   "metadata": {},
   "outputs": [
    {
     "name": "stdout",
     "output_type": "stream",
     "text": [
      "call '__str__'\n",
      "Python\n"
     ]
    }
   ],
   "source": [
    "print(t2)"
   ]
  },
  {
   "cell_type": "markdown",
   "metadata": {},
   "source": [
    "- `__len__`"
   ]
  },
  {
   "cell_type": "code",
   "execution_count": 72,
   "metadata": {},
   "outputs": [],
   "source": [
    "list.__len__??"
   ]
  },
  {
   "cell_type": "code",
   "execution_count": 73,
   "metadata": {},
   "outputs": [],
   "source": [
    "def len(x):\n",
    "    return x.__len__()"
   ]
  },
  {
   "cell_type": "code",
   "execution_count": 74,
   "metadata": {},
   "outputs": [
    {
     "data": {
      "text/plain": [
       "[1, 2, 4]"
      ]
     },
     "execution_count": 74,
     "metadata": {},
     "output_type": "execute_result"
    }
   ],
   "source": [
    "somelist = [[1], [2, 3], [4, 5, 6,7]]\n",
    "list(map(len, somelist))                       #<--------map함수가 뭐엿더라..."
   ]
  },
  {
   "cell_type": "code",
   "execution_count": 75,
   "metadata": {},
   "outputs": [
    {
     "data": {
      "text/plain": [
       "[1, 2, 4]"
      ]
     },
     "execution_count": 75,
     "metadata": {},
     "output_type": "execute_result"
    }
   ],
   "source": [
    "list(map(list.__len__, somelist))"
   ]
  },
  {
   "cell_type": "code",
   "execution_count": 76,
   "metadata": {
    "scrolled": true
   },
   "outputs": [
    {
     "data": {
      "text/plain": [
       "3"
      ]
     },
     "execution_count": 76,
     "metadata": {},
     "output_type": "execute_result"
    }
   ],
   "source": [
    "somelist.__len__()"
   ]
  },
  {
   "cell_type": "code",
   "execution_count": 77,
   "metadata": {},
   "outputs": [
    {
     "data": {
      "text/plain": [
       "3"
      ]
     },
     "execution_count": 77,
     "metadata": {},
     "output_type": "execute_result"
    }
   ],
   "source": [
    "len(somelist)"
   ]
  },
  {
   "cell_type": "markdown",
   "metadata": {},
   "source": [
    "### namedtuple     <-데이터 변경은 불가능\n",
    "- 튜플의 서브 클래스\n",
    "- 튜플에 key 값을 추가한 데이터 타입\n",
    "- .과 offset으로 접근이 가능 (key값, value값 둘다 있으니까)\n",
    "- 불변하는 객체로 사용가능\n",
    "- 객체보다 공간과 시간효율성이 좋음\n",
    "- 키값과 인덱스를 함께 사용이 가능\n",
    "- 딕셔너리 형식의 []가 아닌 .으로 접근이 가능"
   ]
  },
  {
   "cell_type": "code",
   "execution_count": 78,
   "metadata": {},
   "outputs": [],
   "source": [
    "from collections import namedtuple"
   ]
  },
  {
   "cell_type": "code",
   "execution_count": 79,
   "metadata": {},
   "outputs": [
    {
     "data": {
      "text/plain": [
       "Car(wheel='white', door='black')"
      ]
     },
     "execution_count": 79,
     "metadata": {},
     "output_type": "execute_result"
    }
   ],
   "source": [
    "class Car():\n",
    "    \n",
    "    def __init__(self, wheel, door):\n",
    "        self.wheel = wheel\n",
    "        self.door = door\n",
    "    \n",
    "    def __str__(self):\n",
    "        return self.wheel + \" \" + self.door\n",
    "    \n",
    "    def __repr__(self):\n",
    "        return \"Car(wheel='\" + self.wheel + \"', door='\" + self.door + \"')\"\n",
    "\n",
    "car = Car(\"white\", \"black\")\n",
    "car"
   ]
  },
  {
   "cell_type": "code",
   "execution_count": 80,
   "metadata": {},
   "outputs": [
    {
     "data": {
      "text/plain": [
       "__main__.Car"
      ]
     },
     "execution_count": 80,
     "metadata": {},
     "output_type": "execute_result"
    }
   ],
   "source": [
    "# namedtuple class\n",
    "Car = namedtuple(\"Car\", \"wheel door\")\n",
    "type(car)"
   ]
  },
  {
   "cell_type": "code",
   "execution_count": 81,
   "metadata": {},
   "outputs": [
    {
     "data": {
      "text/plain": [
       "Car(wheel='white', door='black')"
      ]
     },
     "execution_count": 81,
     "metadata": {},
     "output_type": "execute_result"
    }
   ],
   "source": [
    "# namedtuple object\n",
    "car_obj = Car(\"white\", \"black\")\n",
    "car_obj"
   ]
  },
  {
   "cell_type": "code",
   "execution_count": 82,
   "metadata": {},
   "outputs": [
    {
     "data": {
      "text/plain": [
       "('white', 'black', __main__.Car)"
      ]
     },
     "execution_count": 82,
     "metadata": {},
     "output_type": "execute_result"
    }
   ],
   "source": [
    "car.wheel, car.door, type(car)"
   ]
  },
  {
   "cell_type": "code",
   "execution_count": 83,
   "metadata": {},
   "outputs": [
    {
     "data": {
      "text/plain": [
       "('white', 'black', 'white', 'black')"
      ]
     },
     "execution_count": 83,
     "metadata": {},
     "output_type": "execute_result"
    }
   ],
   "source": [
    "car_obj.wheel, car_obj.door, car_obj[0], car_obj[1] #<--offset, key값 모두 사용 가능"
   ]
  },
  {
   "cell_type": "code",
   "execution_count": null,
   "metadata": {},
   "outputs": [],
   "source": []
  },
  {
   "cell_type": "code",
   "execution_count": 84,
   "metadata": {},
   "outputs": [
    {
     "name": "stdout",
     "output_type": "stream",
     "text": [
      "56\n"
     ]
    }
   ],
   "source": [
    "import sys\n",
    "print(sys.getsizeof(car))"
   ]
  },
  {
   "cell_type": "code",
   "execution_count": 85,
   "metadata": {},
   "outputs": [
    {
     "data": {
      "text/plain": [
       "Car(wheel='white', door='black')"
      ]
     },
     "execution_count": 85,
     "metadata": {},
     "output_type": "execute_result"
    }
   ],
   "source": [
    "Car = namedtuple(\"Car\", \"wheel door\")\n",
    "car  = Car(\"white\", \"black\")\n",
    "car"
   ]
  },
  {
   "cell_type": "code",
   "execution_count": 86,
   "metadata": {},
   "outputs": [
    {
     "data": {
      "text/plain": [
       "('white', 'black', 'white', 'black')"
      ]
     },
     "execution_count": 86,
     "metadata": {},
     "output_type": "execute_result"
    }
   ],
   "source": [
    "car.wheel, car.door, car[0], car[1]"
   ]
  },
  {
   "cell_type": "code",
   "execution_count": 87,
   "metadata": {},
   "outputs": [
    {
     "name": "stdout",
     "output_type": "stream",
     "text": [
      "64\n"
     ]
    }
   ],
   "source": [
    "print(sys.getsizeof(car))"
   ]
  },
  {
   "cell_type": "code",
   "execution_count": 88,
   "metadata": {},
   "outputs": [
    {
     "data": {
      "text/plain": [
       "Car(wheel='pink', door='red')"
      ]
     },
     "execution_count": 88,
     "metadata": {},
     "output_type": "execute_result"
    }
   ],
   "source": [
    "# 딕셔너리를 네임드 튜플로 만들기\n",
    "dic = {\"wheel\":\"pink\", \"door\":\"red\"}\n",
    "dic_car = Car(**dic)                    #<---키워드/밸류값 모두를 parameter로 넘길 때에는 ** 꼭 붙여야 함\n",
    "dic_car"
   ]
  },
  {
   "cell_type": "code",
   "execution_count": 89,
   "metadata": {},
   "outputs": [
    {
     "data": {
      "text/plain": [
       "'pink'"
      ]
     },
     "execution_count": 89,
     "metadata": {},
     "output_type": "execute_result"
    }
   ],
   "source": [
    "dic_car.wheel"
   ]
  },
  {
   "cell_type": "code",
   "execution_count": 90,
   "metadata": {},
   "outputs": [
    {
     "data": {
      "text/plain": [
       "'red'"
      ]
     },
     "execution_count": 90,
     "metadata": {},
     "output_type": "execute_result"
    }
   ],
   "source": [
    "dic_car[1]"
   ]
  },
  {
   "cell_type": "code",
   "execution_count": 91,
   "metadata": {},
   "outputs": [
    {
     "data": {
      "text/plain": [
       "Car(wheel='pink', door='red')"
      ]
     },
     "execution_count": 91,
     "metadata": {},
     "output_type": "execute_result"
    }
   ],
   "source": [
    "# 리스트를 네임드 튜플 만들기\n",
    "ls = [\"pink\",\"red\"]\n",
    "ls_car = Car._make(ls)\n",
    "ls_car"
   ]
  },
  {
   "cell_type": "code",
   "execution_count": null,
   "metadata": {},
   "outputs": [],
   "source": []
  }
 ],
 "metadata": {
  "kernelspec": {
   "display_name": "Python 3",
   "language": "python",
   "name": "python3"
  },
  "language_info": {
   "codemirror_mode": {
    "name": "ipython",
    "version": 3
   },
   "file_extension": ".py",
   "mimetype": "text/x-python",
   "name": "python",
   "nbconvert_exporter": "python",
   "pygments_lexer": "ipython3",
   "version": "3.6.4"
  }
 },
 "nbformat": 4,
 "nbformat_minor": 2
}
