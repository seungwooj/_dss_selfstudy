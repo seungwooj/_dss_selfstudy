{
 "cells": [
  {
   "cell_type": "markdown",
   "metadata": {},
   "source": [
    "### OS\n",
    "\n",
    "- 실행 : import os\n",
    "\n",
    "#### OS 관련 매써드\n",
    "\n",
    "#####  1. makedirs\n",
    "- os_dir 이라는 디렉토리를 만든다. : os.makedirs(\"os_dir\")\n",
    "\n",
    "##### 2. write\n",
    "- 파일 쓰기\n",
    "\n",
    "##### 3. listdir\n",
    "- 파일 리스트 읽기 : file_list = os.listdir(\"os_dir\")\n",
    "- 특정 확장자를 가진 파일을 뽑아낸다. : result_1 = [ file_name for file_name in file_list if file_name.endswith(\".txt\") ]\n",
    "\n",
    "##### 4. remove\n",
    "- 파일 삭제\n",
    "- os.remove(\"os_dir/\" + file_name)\n",
    "\n",
    "##### 5. removedirs\n",
    "- 디렉토리 삭제\n",
    "- os.removedirs(\"os_dir\")\n",
    "\n",
    "##### 6. exists\n",
    "- 존재여부 확인하기\n",
    "- os.path.exists(\"os_dir/test.txt\")\n",
    "\n",
    "##### 7. copy\n",
    "- 복사하기\n",
    "- import shutil, shutil.copy(\"os_dir/test.txt\", \"os_dir/copy.txt\")\n",
    "\n",
    "##### 8. rename\n",
    "- 이름바꾸기 : os.rename(\"os_dir/copy.txt\", \"os_dir/rename.txt\")\n",
    "\n",
    "##### 9. isfile\n",
    "- 타입이 파일인지 확인하기\n",
    "- os.path.isfile(\"os_dir/test.txt\")\n",
    "\n",
    "##### 10. isdir\n",
    "- 타입이 디렉토리인지 확인하기  <-파일일경우 True, 파일 아닐경우 False\n",
    "- os.path.isdir(\"os_dir/test.txt\")\n",
    "\n",
    "##### 11. chmod\n",
    "- 권한 설정 (3자리 각각 r(read),w(write),x(excute) - 총\n",
    "- 타입[:1], 소유자[1:4] 그룹[4:7] 공개[7:] : d / rwx : 소유자권한 / rwx : 그룹권한 / rwx : 공개된 파일에 대한 권한 <br>\n",
    "  소유자 / 그룹 / 공개파일 의 권한 여부를 000~777로 표현 가능\n",
    "- 8진수 octet : rwx = 111(2) -> 7(8), r-- = 100(2) -> 4(8)\n",
    "\n",
    "\n",
    "- ex>1: os.chmod(\"os_dir/rename.txt\", 0o444) # 모든 사용자 read 권한만 갖도록 (-rw-r--r--) -> (-r--r--r--)\n",
    "- ex>2 : os.chmod(\"os_dir/rename.txt\", 0o644) # 파일 소유자는 작성권한을 갖도록  (-r--r--r--) -> (-rw-r--r--)\n",
    "- ex>3 : os.chmod(\"os_dir/rename.txt\", 0o000) # 모든권한제거  (-rw-r--r--) -> (----------)"
   ]
  },
  {
   "cell_type": "code",
   "execution_count": 57,
   "metadata": {},
   "outputs": [],
   "source": []
  }
 ],
 "metadata": {
  "kernelspec": {
   "display_name": "Python 3",
   "language": "python",
   "name": "python3"
  },
  "language_info": {
   "codemirror_mode": {
    "name": "ipython",
    "version": 3
   },
   "file_extension": ".py",
   "mimetype": "text/x-python",
   "name": "python",
   "nbconvert_exporter": "python",
   "pygments_lexer": "ipython3",
   "version": "3.6.4"
  }
 },
 "nbformat": 4,
 "nbformat_minor": 2
}
