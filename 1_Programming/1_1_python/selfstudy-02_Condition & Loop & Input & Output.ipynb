{
 "cells": [
  {
   "cell_type": "code",
   "execution_count": 1,
   "metadata": {},
   "outputs": [
    {
     "name": "stdout",
     "output_type": "stream",
     "text": [
      "누가제일잘생겼을까요? : 장승우\n",
      "<class 'str'> 장승우\n"
     ]
    }
   ],
   "source": [
    "a = input(\"누가제일잘생겼을까요? : \")\n",
    "print(type(a), a)"
   ]
  },
  {
   "cell_type": "code",
   "execution_count": 2,
   "metadata": {},
   "outputs": [
    {
     "name": "stdout",
     "output_type": "stream",
     "text": [
      "승우는 몇살? : 31\n",
      "<class 'int'> 31\n"
     ]
    }
   ],
   "source": [
    "a = int(input(\"승우는 몇살? : \"))\n",
    "print(type(a), a)"
   ]
  },
  {
   "cell_type": "code",
   "execution_count": 3,
   "metadata": {},
   "outputs": [
    {
     "name": "stdout",
     "output_type": "stream",
     "text": [
      "fast\n",
      "campus\n"
     ]
    }
   ],
   "source": [
    "print(\"fast\", end=\"\\n\")\n",
    "print(\"campus\")"
   ]
  },
  {
   "cell_type": "code",
   "execution_count": 4,
   "metadata": {},
   "outputs": [
    {
     "name": "stdout",
     "output_type": "stream",
     "text": [
      "fast\tcampus\n"
     ]
    }
   ],
   "source": [
    "print(\"fast\", end=\"\\t\")\n",
    "print(\"campus\")"
   ]
  },
  {
   "cell_type": "code",
   "execution_count": 5,
   "metadata": {},
   "outputs": [
    {
     "name": "stdout",
     "output_type": "stream",
     "text": [
      "number = 12, string = win\n"
     ]
    }
   ],
   "source": [
    "a,b = 12, \"win\"\n",
    "print(\"number = {}, string = {}\".format(a,b))"
   ]
  },
  {
   "cell_type": "code",
   "execution_count": 6,
   "metadata": {},
   "outputs": [
    {
     "name": "stdout",
     "output_type": "stream",
     "text": [
      "number : win, string : 12\n"
     ]
    }
   ],
   "source": [
    "a,b = 12, \"win\"\n",
    "print(\"number : {num}, string : {str}\".format(num=b, str=a))"
   ]
  },
  {
   "cell_type": "code",
   "execution_count": 7,
   "metadata": {},
   "outputs": [
    {
     "name": "stdout",
     "output_type": "stream",
     "text": [
      "['life', 'is', 'too', 'short']\n",
      "life is too short\n"
     ]
    }
   ],
   "source": [
    "a = [\"life\", \"is\", \"too\", \"short\"]\n",
    "print(a)\n",
    "print(\" \".join(a))"
   ]
  },
  {
   "cell_type": "code",
   "execution_count": 8,
   "metadata": {},
   "outputs": [
    {
     "name": "stdout",
     "output_type": "stream",
     "text": [
      "else\n"
     ]
    }
   ],
   "source": [
    "flag = False\n",
    "if flag:\n",
    "    print(\"if\")\n",
    "else:\n",
    "    print(\"else\")"
   ]
  },
  {
   "cell_type": "code",
   "execution_count": 9,
   "metadata": {},
   "outputs": [
    {
     "name": "stdout",
     "output_type": "stream",
     "text": [
      "구라\n"
     ]
    }
   ],
   "source": [
    "a, b = 10, 20\n",
    "if a <10 and b <30:\n",
    "    print(\"진실\")\n",
    "else:\n",
    "    print(\"구라\")"
   ]
  },
  {
   "cell_type": "code",
   "execution_count": 11,
   "metadata": {},
   "outputs": [
    {
     "name": "stdout",
     "output_type": "stream",
     "text": [
      "숫자를 넣으세용 :5\n",
      "even\n"
     ]
    }
   ],
   "source": [
    "숫자 = int(input(\"숫자를 넣으세용 :\"))\n",
    "if 숫자 % 2 ==0:\n",
    "    print(\"odd\")\n",
    "else:\n",
    "    print(\"even\")"
   ]
  },
  {
   "cell_type": "code",
   "execution_count": 14,
   "metadata": {},
   "outputs": [
    {
     "name": "stdout",
     "output_type": "stream",
     "text": [
      "not 3multiple\n"
     ]
    }
   ],
   "source": [
    "a, result = 10, \"\"\n",
    "if a % 3 == 0:\n",
    "    result = \"3multiple\"\n",
    "else:\n",
    "    result = \"not 3multiple\"\n",
    "print(result)"
   ]
  },
  {
   "cell_type": "code",
   "execution_count": 15,
   "metadata": {},
   "outputs": [
    {
     "name": "stdout",
     "output_type": "stream",
     "text": [
      "not 3multiple\n"
     ]
    }
   ],
   "source": [
    "a = 10\n",
    "result = \"3multiple\" if a % 3 ==0 else \"not 3multiple\"\n",
    "print(result)"
   ]
  },
  {
   "cell_type": "code",
   "execution_count": null,
   "metadata": {},
   "outputs": [],
   "source": []
  }
 ],
 "metadata": {
  "kernelspec": {
   "display_name": "Python 3",
   "language": "python",
   "name": "python3"
  },
  "language_info": {
   "codemirror_mode": {
    "name": "ipython",
    "version": 3
   },
   "file_extension": ".py",
   "mimetype": "text/x-python",
   "name": "python",
   "nbconvert_exporter": "python",
   "pygments_lexer": "ipython3",
   "version": "3.6.3"
  }
 },
 "nbformat": 4,
 "nbformat_minor": 2
}
