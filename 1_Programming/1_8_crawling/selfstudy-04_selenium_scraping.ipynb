{
 "cells": [
  {
   "cell_type": "markdown",
   "metadata": {},
   "source": [
    "##### Gmarket 베스트 셀러 데이터 스크래핑 \n",
    "- 전체 200개중 상위 10개 출력\n",
    "- pandas 데이터를 분석할수 있는 python 라이브러리\n",
    "    - pip3 install pandas\n",
    "    - 데이터 프레임 생성 : df = pd.DataFrame(columns=[\"A\",\"B\"])\n",
    "    - 데이터 추가 : df.loc[len(df)] = [{\"A\":1,\"B\":2}, {\"A\":3,\"B\":4}]m"
   ]
  },
  {
   "cell_type": "code",
   "execution_count": 1,
   "metadata": {},
   "outputs": [],
   "source": [
    "from selenium import webdriver\n",
    "import pandas as pd"
   ]
  },
  {
   "cell_type": "code",
   "execution_count": 2,
   "metadata": {},
   "outputs": [],
   "source": [
    "def get_gmarket_bestsellers(number=10):\n",
    "    \n",
    "    def to_int(price):\n",
    "        return int(price.replace(\",\",\"\").replace(\"원\",\"\"))\n",
    "    \n",
    "    driver =  webdriver.Chrome()\n",
    "    driver.get('http://corners.gmarket.co.kr/Bestsellers')\n",
    "\n",
    "    bestlist_selector = driver.find_elements_by_css_selector(\"#gBestWrap .best-list\")[1]\n",
    "#<- selector안에  id, class값을 나란히 넣어준다.    \n",
    "    items = bestlist_selector.find_elements_by_css_selector(\"li\")[:number]\n",
    "    \n",
    "    df = pd.DataFrame(columns=[\"상품명\",\"원가\",\"판매가\",\"이미지\",\"상품링크\"])\n",
    "    \n",
    "    for item in items:\n",
    "\n",
    "        idx = item.find_element_by_css_selector(\"p\").text # element 순번\n",
    "        img_link = item.find_element_by_css_selector(\"img\").get_attribute(\"src\") # 이미지 URL\n",
    "        item_link = item.find_element_by_css_selector(\".itemname\").get_attribute(\"href\") # 아이템 URL\n",
    "        content = item.find_element_by_css_selector(\".itemname\").text # 아이템 텍스트\n",
    "        o_price = item.find_element_by_css_selector(\".item_price .o-price\").text # 오리지날 가격\n",
    "        s_price = item.find_element_by_css_selector(\".item_price .s-price\").text.split(\" \")[0] # 판매 가격\n",
    "        o_price = o_price if o_price else s_price # 원가 데이터가 없는경우 판매가를 대입\n",
    "        \n",
    "        data = {\"상품명\": content,\n",
    "                \"원가\": to_int(o_price), \n",
    "                \"판매가\": to_int(s_price),\n",
    "                \"이미지\": img_link, \n",
    "                \"상품링크\": item_link, }\n",
    "        \n",
    "        # Pandas 데이터 입력\n",
    "        df.loc[len(df)] = data\n",
    "        \n",
    "    driver.close()\n",
    "    return df"
   ]
  },
  {
   "cell_type": "code",
   "execution_count": 3,
   "metadata": {},
   "outputs": [
    {
     "name": "stdout",
     "output_type": "stream",
     "text": [
      "CPU times: user 176 ms, sys: 16.4 ms, total: 192 ms\n",
      "Wall time: 6.14 s\n"
     ]
    }
   ],
   "source": [
    "%%time\n",
    "result = get_gmarket_bestsellers(20)\n",
    "result.tail()"
   ]
  },
  {
   "cell_type": "code",
   "execution_count": 4,
   "metadata": {},
   "outputs": [
    {
     "data": {
      "text/html": [
       "<div>\n",
       "<style scoped>\n",
       "    .dataframe tbody tr th:only-of-type {\n",
       "        vertical-align: middle;\n",
       "    }\n",
       "\n",
       "    .dataframe tbody tr th {\n",
       "        vertical-align: top;\n",
       "    }\n",
       "\n",
       "    .dataframe thead th {\n",
       "        text-align: right;\n",
       "    }\n",
       "</style>\n",
       "<table border=\"1\" class=\"dataframe\">\n",
       "  <thead>\n",
       "    <tr style=\"text-align: right;\">\n",
       "      <th></th>\n",
       "      <th>상품명</th>\n",
       "      <th>원가</th>\n",
       "      <th>판매가</th>\n",
       "      <th>이미지</th>\n",
       "      <th>상품링크</th>\n",
       "    </tr>\n",
       "  </thead>\n",
       "  <tbody>\n",
       "    <tr>\n",
       "      <th>15</th>\n",
       "      <td>[아벤느](본사 공식)오떼르말 1+1 외 BEST ITEM 단독특가</td>\n",
       "      <td>34000</td>\n",
       "      <td>15300</td>\n",
       "      <td>http://image.gmarket.co.kr/challenge/neo_image...</td>\n",
       "      <td>http://item2.gmarket.co.kr/Item/DetailView/Ite...</td>\n",
       "    </tr>\n",
       "    <tr>\n",
       "      <th>16</th>\n",
       "      <td>블랙앵거스 탑초이스 냉장 소갈비살 350g</td>\n",
       "      <td>22900</td>\n",
       "      <td>9900</td>\n",
       "      <td>http://image.gmarket.co.kr/challenge/neo_image...</td>\n",
       "      <td>http://item2.gmarket.co.kr/Item/DetailView/Ite...</td>\n",
       "    </tr>\n",
       "    <tr>\n",
       "      <th>17</th>\n",
       "      <td>[세타필]-역대급 초특가- 세타필 2+1 초대박 프로모션</td>\n",
       "      <td>58500</td>\n",
       "      <td>27900</td>\n",
       "      <td>http://image.gmarket.co.kr/challenge/neo_image...</td>\n",
       "      <td>http://item2.gmarket.co.kr/Item/DetailView/Ite...</td>\n",
       "    </tr>\n",
       "    <tr>\n",
       "      <th>18</th>\n",
       "      <td>[몽드드]아기물티슈 오리지널 엠보싱 12팩+키친타올 증정</td>\n",
       "      <td>25900</td>\n",
       "      <td>10900</td>\n",
       "      <td>http://image.gmarket.co.kr/challenge/neo_image...</td>\n",
       "      <td>http://item2.gmarket.co.kr/Item/DetailView/Ite...</td>\n",
       "    </tr>\n",
       "    <tr>\n",
       "      <th>19</th>\n",
       "      <td>츄아 데님남방 체크 스트라이프블라우스 루즈핏롱셔츠</td>\n",
       "      <td>19600</td>\n",
       "      <td>5900</td>\n",
       "      <td>http://image.gmarket.co.kr/challenge/neo_image...</td>\n",
       "      <td>http://item2.gmarket.co.kr/Item/DetailView/Ite...</td>\n",
       "    </tr>\n",
       "  </tbody>\n",
       "</table>\n",
       "</div>"
      ],
      "text/plain": [
       "                                      상품명     원가    판매가  \\\n",
       "15  [아벤느](본사 공식)오떼르말 1+1 외 BEST ITEM 단독특가  34000  15300   \n",
       "16                블랙앵거스 탑초이스 냉장 소갈비살 350g  22900   9900   \n",
       "17        [세타필]-역대급 초특가- 세타필 2+1 초대박 프로모션  58500  27900   \n",
       "18        [몽드드]아기물티슈 오리지널 엠보싱 12팩+키친타올 증정  25900  10900   \n",
       "19            츄아 데님남방 체크 스트라이프블라우스 루즈핏롱셔츠  19600   5900   \n",
       "\n",
       "                                                  이미지  \\\n",
       "15  http://image.gmarket.co.kr/challenge/neo_image...   \n",
       "16  http://image.gmarket.co.kr/challenge/neo_image...   \n",
       "17  http://image.gmarket.co.kr/challenge/neo_image...   \n",
       "18  http://image.gmarket.co.kr/challenge/neo_image...   \n",
       "19  http://image.gmarket.co.kr/challenge/neo_image...   \n",
       "\n",
       "                                                 상품링크  \n",
       "15  http://item2.gmarket.co.kr/Item/DetailView/Ite...  \n",
       "16  http://item2.gmarket.co.kr/Item/DetailView/Ite...  \n",
       "17  http://item2.gmarket.co.kr/Item/DetailView/Ite...  \n",
       "18  http://item2.gmarket.co.kr/Item/DetailView/Ite...  \n",
       "19  http://item2.gmarket.co.kr/Item/DetailView/Ite...  "
      ]
     },
     "execution_count": 4,
     "metadata": {},
     "output_type": "execute_result"
    }
   ],
   "source": [
    "result.tail()"
   ]
  },
  {
   "cell_type": "code",
   "execution_count": 5,
   "metadata": {},
   "outputs": [
    {
     "data": {
      "text/html": [
       "<div>\n",
       "<style scoped>\n",
       "    .dataframe tbody tr th:only-of-type {\n",
       "        vertical-align: middle;\n",
       "    }\n",
       "\n",
       "    .dataframe tbody tr th {\n",
       "        vertical-align: top;\n",
       "    }\n",
       "\n",
       "    .dataframe thead th {\n",
       "        text-align: right;\n",
       "    }\n",
       "</style>\n",
       "<table border=\"1\" class=\"dataframe\">\n",
       "  <thead>\n",
       "    <tr style=\"text-align: right;\">\n",
       "      <th></th>\n",
       "      <th>rank</th>\n",
       "      <th>상품명</th>\n",
       "      <th>원가</th>\n",
       "      <th>판매가</th>\n",
       "      <th>이미지</th>\n",
       "      <th>상품링크</th>\n",
       "      <th>할인율</th>\n",
       "    </tr>\n",
       "  </thead>\n",
       "  <tbody>\n",
       "    <tr>\n",
       "      <th>0</th>\n",
       "      <td>14</td>\n",
       "      <td>힐슈빌 신상 슬립온 통굽 키높이 스니커즈 운동화커플</td>\n",
       "      <td>32600</td>\n",
       "      <td>9800</td>\n",
       "      <td>http://image.gmarket.co.kr/challenge/neo_image...</td>\n",
       "      <td>http://item2.gmarket.co.kr/Item/DetailView/Ite...</td>\n",
       "      <td>69.94</td>\n",
       "    </tr>\n",
       "    <tr>\n",
       "      <th>1</th>\n",
       "      <td>5</td>\n",
       "      <td>[에코룸]특가 핸드스핀 회전걸레 밀대걸레 물걸레청소기 밀대</td>\n",
       "      <td>32900</td>\n",
       "      <td>9900</td>\n",
       "      <td>http://gdimg.gmarket.co.kr/1153444861/still/300</td>\n",
       "      <td>http://item2.gmarket.co.kr/Item/DetailView/Ite...</td>\n",
       "      <td>69.91</td>\n",
       "    </tr>\n",
       "    <tr>\n",
       "      <th>2</th>\n",
       "      <td>13</td>\n",
       "      <td>유스타일팜/봄신상추가/밴딩팬츠/기모/본딩/청바지</td>\n",
       "      <td>32900</td>\n",
       "      <td>9900</td>\n",
       "      <td>http://image.gmarket.co.kr/challenge/neo_image...</td>\n",
       "      <td>http://item2.gmarket.co.kr/Item/DetailView/Ite...</td>\n",
       "      <td>69.91</td>\n",
       "    </tr>\n",
       "    <tr>\n",
       "      <th>3</th>\n",
       "      <td>19</td>\n",
       "      <td>츄아 데님남방 체크 스트라이프블라우스 루즈핏롱셔츠</td>\n",
       "      <td>19600</td>\n",
       "      <td>5900</td>\n",
       "      <td>http://image.gmarket.co.kr/challenge/neo_image...</td>\n",
       "      <td>http://item2.gmarket.co.kr/Item/DetailView/Ite...</td>\n",
       "      <td>69.90</td>\n",
       "    </tr>\n",
       "    <tr>\n",
       "      <th>4</th>\n",
       "      <td>11</td>\n",
       "      <td>바브키즈 봄신상 상하복 국내생산</td>\n",
       "      <td>26000</td>\n",
       "      <td>7900</td>\n",
       "      <td>http://image.gmarket.co.kr/challenge/neo_image...</td>\n",
       "      <td>http://item2.gmarket.co.kr/Item/DetailView/Ite...</td>\n",
       "      <td>69.62</td>\n",
       "    </tr>\n",
       "  </tbody>\n",
       "</table>\n",
       "</div>"
      ],
      "text/plain": [
       "   rank                               상품명     원가   판매가  \\\n",
       "0    14      힐슈빌 신상 슬립온 통굽 키높이 스니커즈 운동화커플  32600  9800   \n",
       "1     5  [에코룸]특가 핸드스핀 회전걸레 밀대걸레 물걸레청소기 밀대  32900  9900   \n",
       "2    13        유스타일팜/봄신상추가/밴딩팬츠/기모/본딩/청바지  32900  9900   \n",
       "3    19       츄아 데님남방 체크 스트라이프블라우스 루즈핏롱셔츠  19600  5900   \n",
       "4    11                 바브키즈 봄신상 상하복 국내생산  26000  7900   \n",
       "\n",
       "                                                 이미지  \\\n",
       "0  http://image.gmarket.co.kr/challenge/neo_image...   \n",
       "1    http://gdimg.gmarket.co.kr/1153444861/still/300   \n",
       "2  http://image.gmarket.co.kr/challenge/neo_image...   \n",
       "3  http://image.gmarket.co.kr/challenge/neo_image...   \n",
       "4  http://image.gmarket.co.kr/challenge/neo_image...   \n",
       "\n",
       "                                                상품링크    할인율  \n",
       "0  http://item2.gmarket.co.kr/Item/DetailView/Ite...  69.94  \n",
       "1  http://item2.gmarket.co.kr/Item/DetailView/Ite...  69.91  \n",
       "2  http://item2.gmarket.co.kr/Item/DetailView/Ite...  69.91  \n",
       "3  http://item2.gmarket.co.kr/Item/DetailView/Ite...  69.90  \n",
       "4  http://item2.gmarket.co.kr/Item/DetailView/Ite...  69.62  "
      ]
     },
     "execution_count": 5,
     "metadata": {},
     "output_type": "execute_result"
    }
   ],
   "source": [
    "# Pandas로 할인율 계산\n",
    "result[\"할인율\"] = 100 - (result[\"판매가\"] / result[\"원가\"]) * 100\n",
    "result[\"할인율\"] = result[\"할인율\"].astype(dtype=\"float64\")\n",
    "result[\"할인율\"] = round(result[\"할인율\"], 2)\n",
    "result = result.sort_values(\"할인율\", ascending=False).reset_index().rename(columns={\"index\": \"rank\"})\n",
    "result.head()"
   ]
  },
  {
   "cell_type": "code",
   "execution_count": 6,
   "metadata": {},
   "outputs": [],
   "source": [
    "# utf-8로 인코딩한 csv 파일로 저장\n",
    "result.to_csv(\"gmarket.csv\", encoding=\"utf-8\")"
   ]
  },
  {
   "cell_type": "markdown",
   "metadata": {},
   "source": [
    "##### Naver 메일 데이터 스크래핑\n",
    "- 네이버 메일에 로그인한후 데이터 가져오기 <- 로그인 해야 하므로 bc4로 크롤링 불가능"
   ]
  },
  {
   "cell_type": "code",
   "execution_count": 27,
   "metadata": {},
   "outputs": [],
   "source": [
    "from selenium import webdriver\n",
    "import pickle\n",
    "import time"
   ]
  },
  {
   "cell_type": "code",
   "execution_count": 28,
   "metadata": {},
   "outputs": [],
   "source": [
    "# 패스워드 저장하기\n",
    "pw = \"wndnjsgud\"\n",
    "file = open(\"pw.pickle\", \"wb\")\n",
    "pickle.dump(pw, file)"
   ]
  },
  {
   "cell_type": "code",
   "execution_count": 29,
   "metadata": {},
   "outputs": [],
   "source": [
    "main_url = \"http://www.naver.com\"\n",
    "mail_url = \"http://mail.naver.com\""
   ]
  },
  {
   "cell_type": "code",
   "execution_count": 30,
   "metadata": {},
   "outputs": [],
   "source": [
    "# 브라우져 오픈 및 메인 사이트 이동\n",
    "driver = webdriver.Chrome()\n",
    "driver.get(main_url)"
   ]
  },
  {
   "cell_type": "code",
   "execution_count": 31,
   "metadata": {},
   "outputs": [],
   "source": [
    "# 로그인 페이지 버튼 클릭\n",
    "driver.find_element_by_css_selector(\"#account\").click()"
   ]
  },
  {
   "cell_type": "code",
   "execution_count": 32,
   "metadata": {},
   "outputs": [],
   "source": [
    "# 아이디 패스워드 입력\n",
    "pw = pickle.load(open(\"pw.pickle\", \"rb\")) # pw 변수에 본인의 패스워드 입력\n",
    "driver.find_element_by_css_selector( \"#id\" ).send_keys( \"ckzksjsw\" )\n",
    "driver.find_element_by_css_selector( \"#pw\" ).send_keys( pw )"
   ]
  },
  {
   "cell_type": "code",
   "execution_count": 36,
   "metadata": {},
   "outputs": [],
   "source": [
    "# 로그인 버튼 클릭\n",
    "driver.find_element_by_css_selector(\"input[type=submit]\").click()"
   ]
  },
  {
   "cell_type": "code",
   "execution_count": 37,
   "metadata": {},
   "outputs": [],
   "source": [
    "# 메일 페이지로 이동\n",
    "driver.get(mail_url)"
   ]
  },
  {
   "cell_type": "code",
   "execution_count": 38,
   "metadata": {},
   "outputs": [
    {
     "data": {
      "text/plain": [
       "26673"
      ]
     },
     "execution_count": 38,
     "metadata": {},
     "output_type": "execute_result"
    }
   ],
   "source": [
    "# 메일 갯수\n",
    "total_mail = driver.find_element_by_css_selector(\"#headTotalNum\").text\n",
    "total_mail = int(total_mail)\n",
    "total_mail"
   ]
  },
  {
   "cell_type": "code",
   "execution_count": 39,
   "metadata": {},
   "outputs": [
    {
     "data": {
      "text/plain": [
       "26411"
      ]
     },
     "execution_count": 39,
     "metadata": {},
     "output_type": "execute_result"
    }
   ],
   "source": [
    "# 안읽은 메일 갯수\n",
    "not_read_mail = driver.find_element_by_css_selector(\"#headUnreadNum\").text\n",
    "not_read_mail = int(not_read_mail)\n",
    "not_read_mail"
   ]
  },
  {
   "cell_type": "code",
   "execution_count": 40,
   "metadata": {},
   "outputs": [
    {
     "name": "stdout",
     "output_type": "stream",
     "text": [
      "전체 메일수 :  15\n"
     ]
    },
    {
     "data": {
      "text/html": [
       "<div>\n",
       "<style scoped>\n",
       "    .dataframe tbody tr th:only-of-type {\n",
       "        vertical-align: middle;\n",
       "    }\n",
       "\n",
       "    .dataframe tbody tr th {\n",
       "        vertical-align: top;\n",
       "    }\n",
       "\n",
       "    .dataframe thead th {\n",
       "        text-align: right;\n",
       "    }\n",
       "</style>\n",
       "<table border=\"1\" class=\"dataframe\">\n",
       "  <thead>\n",
       "    <tr style=\"text-align: right;\">\n",
       "      <th></th>\n",
       "      <th>제목</th>\n",
       "      <th>보낸사람</th>\n",
       "      <th>메일링크</th>\n",
       "    </tr>\n",
       "  </thead>\n",
       "  <tbody>\n",
       "    <tr>\n",
       "      <th>10</th>\n",
       "      <td>(광고) 비뇨기과 수술!! 49.7% 대폭 할인 프로모션 진행중입니다. 확인해보세요...</td>\n",
       "      <td>하하월드</td>\n",
       "      <td>https://mail.naver.com/read/popup/?nMailId=38191</td>\n",
       "    </tr>\n",
       "    <tr>\n",
       "      <th>11</th>\n",
       "      <td>(광고) [CJ ONE] 앱 리뉴얼 기념! 숨은 원스터 찾고 아이폰X 행운을 잡자!</td>\n",
       "      <td>[CJ ONE]</td>\n",
       "      <td>https://mail.naver.com/read/popup/?nMailId=38190</td>\n",
       "    </tr>\n",
       "    <tr>\n",
       "      <th>12</th>\n",
       "      <td>(광고) 대출확률 업계최고!! 1억원 + 추가 금액. 신불자만 아니시면 즉시 가능하...</td>\n",
       "      <td>하하월드</td>\n",
       "      <td>https://mail.naver.com/read/popup/?nMailId=38189</td>\n",
       "    </tr>\n",
       "    <tr>\n",
       "      <th>13</th>\n",
       "      <td>(광고) 중고나라 회원들을 위한 라식/라섹 지원자 모집</td>\n",
       "      <td>중고나라</td>\n",
       "      <td>https://mail.naver.com/read/popup/?nMailId=38188</td>\n",
       "    </tr>\n",
       "    <tr>\n",
       "      <th>14</th>\n",
       "      <td>(광고) 아낌없이 팍팍! 상품권이 쏟아진다~ 최대 7천원 상품권+ 30% 할인혜택!</td>\n",
       "      <td>인터파크도서</td>\n",
       "      <td>https://mail.naver.com/read/popup/?nMailId=38187</td>\n",
       "    </tr>\n",
       "  </tbody>\n",
       "</table>\n",
       "</div>"
      ],
      "text/plain": [
       "                                                   제목      보낸사람  \\\n",
       "10  (광고) 비뇨기과 수술!! 49.7% 대폭 할인 프로모션 진행중입니다. 확인해보세요...      하하월드   \n",
       "11     (광고) [CJ ONE] 앱 리뉴얼 기념! 숨은 원스터 찾고 아이폰X 행운을 잡자!  [CJ ONE]   \n",
       "12  (광고) 대출확률 업계최고!! 1억원 + 추가 금액. 신불자만 아니시면 즉시 가능하...      하하월드   \n",
       "13                     (광고) 중고나라 회원들을 위한 라식/라섹 지원자 모집      중고나라   \n",
       "14     (광고) 아낌없이 팍팍! 상품권이 쏟아진다~ 최대 7천원 상품권+ 30% 할인혜택!    인터파크도서   \n",
       "\n",
       "                                                메일링크  \n",
       "10  https://mail.naver.com/read/popup/?nMailId=38191  \n",
       "11  https://mail.naver.com/read/popup/?nMailId=38190  \n",
       "12  https://mail.naver.com/read/popup/?nMailId=38189  \n",
       "13  https://mail.naver.com/read/popup/?nMailId=38188  \n",
       "14  https://mail.naver.com/read/popup/?nMailId=38187  "
      ]
     },
     "execution_count": 40,
     "metadata": {},
     "output_type": "execute_result"
    }
   ],
   "source": [
    "# 메일 제목, 보낸사람 이름 가져오기\n",
    "mails = driver.find_elements_by_css_selector(\".mailList.sender_context > li\")\n",
    "print(\"전체 메일수 : \", len(mails))\n",
    "df = pd.DataFrame(columns=[\"제목\",\"보낸사람\",\"메일링크\"])\n",
    "for idx, mail in enumerate(mails):\n",
    "    title = mail.find_element_by_css_selector(\".mail_title\").text\n",
    "    name = mail.find_element_by_css_selector(\".name\").text\n",
    "    link = mail.find_element_by_css_selector(\".subject > a\").get_attribute(\"href\")\n",
    "    df.loc[len(df)] = { \"제목\":title, \"보낸사람\":name, \"메일링크\":link }    \n",
    "df.tail()"
   ]
  },
  {
   "cell_type": "code",
   "execution_count": 42,
   "metadata": {},
   "outputs": [
    {
     "name": "stdout",
     "output_type": "stream",
     "text": [
      "전체 메일수 :  3\n"
     ]
    },
    {
     "data": {
      "text/html": [
       "<div>\n",
       "<style scoped>\n",
       "    .dataframe tbody tr th:only-of-type {\n",
       "        vertical-align: middle;\n",
       "    }\n",
       "\n",
       "    .dataframe tbody tr th {\n",
       "        vertical-align: top;\n",
       "    }\n",
       "\n",
       "    .dataframe thead th {\n",
       "        text-align: right;\n",
       "    }\n",
       "</style>\n",
       "<table border=\"1\" class=\"dataframe\">\n",
       "  <thead>\n",
       "    <tr style=\"text-align: right;\">\n",
       "      <th></th>\n",
       "      <th>제목</th>\n",
       "      <th>보낸사람</th>\n",
       "      <th>메일링크</th>\n",
       "    </tr>\n",
       "  </thead>\n",
       "  <tbody>\n",
       "    <tr>\n",
       "      <th>0</th>\n",
       "      <td>(광고) 시작은 절반의 성공. 성공창업을 위한 1인무점포창업과 창업특강 및 다양한 ...</td>\n",
       "      <td>창업신문</td>\n",
       "      <td>https://mail.naver.com/read/popup/?nMailId=38201</td>\n",
       "    </tr>\n",
       "    <tr>\n",
       "      <th>1</th>\n",
       "      <td>(광고) 주식반등^^ 월 1억씩 벌수 있는 급등주 3 정보 100% 무료로 보내드립...</td>\n",
       "      <td>하하월드</td>\n",
       "      <td>https://mail.naver.com/read/popup/?nMailId=38200</td>\n",
       "    </tr>\n",
       "    <tr>\n",
       "      <th>2</th>\n",
       "      <td>(광고) [스타벅스 신규매장] 한강진역점 오픈 안내드립니다.</td>\n",
       "      <td>스타벅스</td>\n",
       "      <td>https://mail.naver.com/read/popup/?nMailId=38199</td>\n",
       "    </tr>\n",
       "  </tbody>\n",
       "</table>\n",
       "</div>"
      ],
      "text/plain": [
       "                                                  제목  보낸사람  \\\n",
       "0  (광고) 시작은 절반의 성공. 성공창업을 위한 1인무점포창업과 창업특강 및 다양한 ...  창업신문   \n",
       "1  (광고) 주식반등^^ 월 1억씩 벌수 있는 급등주 3 정보 100% 무료로 보내드립...  하하월드   \n",
       "2                  (광고) [스타벅스 신규매장] 한강진역점 오픈 안내드립니다.  스타벅스   \n",
       "\n",
       "                                               메일링크  \n",
       "0  https://mail.naver.com/read/popup/?nMailId=38201  \n",
       "1  https://mail.naver.com/read/popup/?nMailId=38200  \n",
       "2  https://mail.naver.com/read/popup/?nMailId=38199  "
      ]
     },
     "execution_count": 42,
     "metadata": {},
     "output_type": "execute_result"
    }
   ],
   "source": [
    "# marked 메일\n",
    "mails = driver.find_elements_by_css_selector(\".mailList.sender_context > li.mark\")\n",
    "print(\"전체 메일수 : \", len(mails))\n",
    "df = pd.DataFrame(columns=[\"제목\",\"보낸사람\",\"메일링크\"])\n",
    "for idx, mail in enumerate(mails):\n",
    "    title = mail.find_element_by_css_selector(\".mail_title\").text\n",
    "    name = mail.find_element_by_css_selector(\".name\").text\n",
    "    link = mail.find_element_by_css_selector(\".subject > a\").get_attribute(\"href\")\n",
    "    df.loc[len(df)] = { \"제목\":title, \"보낸사람\":name, \"메일링크\":link }    \n",
    "df.tail()"
   ]
  },
  {
   "cell_type": "code",
   "execution_count": 45,
   "metadata": {},
   "outputs": [
    {
     "name": "stdout",
     "output_type": "stream",
     "text": [
      "total mails:  1\n"
     ]
    },
    {
     "data": {
      "text/html": [
       "<div>\n",
       "<style scoped>\n",
       "    .dataframe tbody tr th:only-of-type {\n",
       "        vertical-align: middle;\n",
       "    }\n",
       "\n",
       "    .dataframe tbody tr th {\n",
       "        vertical-align: top;\n",
       "    }\n",
       "\n",
       "    .dataframe thead th {\n",
       "        text-align: right;\n",
       "    }\n",
       "</style>\n",
       "<table border=\"1\" class=\"dataframe\">\n",
       "  <thead>\n",
       "    <tr style=\"text-align: right;\">\n",
       "      <th></th>\n",
       "      <th>제목</th>\n",
       "      <th>보낸사람</th>\n",
       "      <th>메일링크</th>\n",
       "    </tr>\n",
       "  </thead>\n",
       "  <tbody>\n",
       "    <tr>\n",
       "      <th>0</th>\n",
       "      <td></td>\n",
       "      <td></td>\n",
       "      <td>https://mail.naver.com/read/popup/?nMailId=38197</td>\n",
       "    </tr>\n",
       "  </tbody>\n",
       "</table>\n",
       "</div>"
      ],
      "text/plain": [
       "  제목 보낸사람                                              메일링크\n",
       "0          https://mail.naver.com/read/popup/?nMailId=38197"
      ]
     },
     "execution_count": 45,
     "metadata": {},
     "output_type": "execute_result"
    }
   ],
   "source": [
    "# 읽은 메일\n",
    "mails = driver.find_elements_by_css_selector(\".mailList.sender_context > li:not(.notRead)\")\n",
    "print(\"total mails: \", len(mails))\n",
    "df = pd.DataFrame(columns=[\"제목\",\"보낸사람\",\"메일링크\"])\n",
    "for idx, mail in enumerate(mails):\n",
    "    title = mail.find_element_by_css_selector(\".mail_title\").text\n",
    "    name = mail.find_element_by_css_selector(\".name\").text\n",
    "    link = mail.find_element_by_css_selector(\".subject > a\").get_attribute(\"href\")\n",
    "    df.loc[len(df)] = { \"제목\":title, \"보낸사람\":name, \"메일링크\":link }    \n",
    "df.tail()"
   ]
  },
  {
   "cell_type": "code",
   "execution_count": 46,
   "metadata": {},
   "outputs": [],
   "source": [
    "# 로그아웃\n",
    "logout_url = driver.find_element_by_css_selector(\".gnb_btn_login\").get_attribute(\"href\")\n",
    "driver.get(logout_url)"
   ]
  },
  {
   "cell_type": "code",
   "execution_count": 47,
   "metadata": {},
   "outputs": [],
   "source": [
    "# 브라우져 닫기\n",
    "driver.close()"
   ]
  },
  {
   "cell_type": "code",
   "execution_count": null,
   "metadata": {},
   "outputs": [],
   "source": []
  }
 ],
 "metadata": {
  "kernelspec": {
   "display_name": "Python 3",
   "language": "python",
   "name": "python3"
  },
  "language_info": {
   "codemirror_mode": {
    "name": "ipython",
    "version": 3
   },
   "file_extension": ".py",
   "mimetype": "text/x-python",
   "name": "python",
   "nbconvert_exporter": "python",
   "pygments_lexer": "ipython3",
   "version": "3.6.3"
  }
 },
 "nbformat": 4,
 "nbformat_minor": 2
}
