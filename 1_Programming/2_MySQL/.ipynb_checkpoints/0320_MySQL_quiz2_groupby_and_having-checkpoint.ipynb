{
 "cells": [
  {
   "cell_type": "code",
   "execution_count": null,
   "metadata": {},
   "outputs": [],
   "source": [
    "#1.country 테이블에서 몇개의 대륙이 있는지 조회하세요.\n",
    "mysql> SELECT COUNT(DISTINCT(Continent)) AS count\n",
    "    -> FROM country;\n",
    "+-------+\n",
    "| count |\n",
    "+-------+\n",
    "|     7 |\n",
    "+-------+\n",
    "1 row in set (0.00 sec)"
   ]
  },
  {
   "cell_type": "code",
   "execution_count": null,
   "metadata": {},
   "outputs": [],
   "source": [
    "#2.country 테이블에서 Continent(대륙)별 몇개의 나라가 있는지 조회하세요.\n",
    "mysql> SELECT Continent, COUNT(Continent) AS count\n",
    "    -> FROM country\n",
    "    -> GROUP BY Continent\n",
    "    -> ORDER BY count DESC;\n",
    "+---------------+-------+\n",
    "| Continent     | count |\n",
    "+---------------+-------+\n",
    "| Africa        |    58 |\n",
    "| Asia          |    51 |\n",
    "| Europe        |    46 |\n",
    "| North America |    37 |\n",
    "| Oceania       |    28 |\n",
    "| South America |    14 |\n",
    "| Antarctica    |     5 |\n",
    "+---------------+-------+\n",
    "7 rows in set (0.00 sec)"
   ]
  },
  {
   "cell_type": "code",
   "execution_count": null,
   "metadata": {},
   "outputs": [],
   "source": [
    "#3.city 테이블에서 국가코드(CountryCode) 별로 총인구가 몇명인지 조회하고 총인구 순으로 내림차순하세요.\n",
    "mysql> SELECT CountryCode, SUM(Population) AS Population\n",
    "    -> FROM city\n",
    "    -> GROUP BY CountryCode\n",
    "    -> ORDER BY Population DESC\n",
    "    -> LIMIT 0,7;\n",
    "+-------------+------------+\n",
    "| CountryCode | Population |\n",
    "+-------------+------------+\n",
    "| CHN         |  175953614 |\n",
    "| IND         |  123298526 |\n",
    "| BRA         |   85876862 |\n",
    "| USA         |   78625774 |\n",
    "| JPN         |   77965107 |\n",
    "| RUS         |   69150700 |\n",
    "| MEX         |   59752521 |\n",
    "+-------------+------------+\n",
    "7 rows in set (0.00 sec)"
   ]
  },
  {
   "cell_type": "code",
   "execution_count": null,
   "metadata": {},
   "outputs": [],
   "source": [
    "#4.countrylanguage 테이블에서 언어별 사용하는 국가수를 조회하고 많이 사용하는 언어를 5위에서 10위까지 조회하세요.\n",
    "mysql> SELECT Language, COUNT(Language) AS count\n",
    "    -> FROM countrylanguage\n",
    "    -> GROUP BY LANGUAGE\n",
    "    -> ORDER BY count DESC\n",
    "    -> LIMIT 4, 6;\n",
    "+----------------+-------+\n",
    "| Language       | count |\n",
    "+----------------+-------+\n",
    "| Chinese        |    19 |\n",
    "| German         |    19 |\n",
    "| Russian        |    17 |\n",
    "| Italian        |    15 |\n",
    "| Creole English |    14 |\n",
    "| Turkish        |    12 |\n",
    "+----------------+-------+\n",
    "6 rows in set (0.00 sec)"
   ]
  },
  {
   "cell_type": "code",
   "execution_count": null,
   "metadata": {},
   "outputs": [],
   "source": [
    "#5.countrylanguage 테이블에서 언어별 15개 국가 이상에서 사용되는 언어를 조회하고 언어별 국가수에 따라 내림차순하세요.\n",
    "mysql> SELECT Language, COUNT(Language) AS count\n",
    "    -> FROM countrylanguage\n",
    "    -> GROUP BY Language\n",
    "    -> HAVING count >= 15\n",
    "    -> ORDER BY count DESC;\n",
    "+----------+-------+\n",
    "| Language | count |\n",
    "+----------+-------+\n",
    "| English  |    60 |\n",
    "| Arabic   |    33 |\n",
    "| Spanish  |    28 |\n",
    "| French   |    25 |\n",
    "| Chinese  |    19 |\n",
    "| German   |    19 |\n",
    "| Russian  |    17 |\n",
    "| Italian  |    15 |\n",
    "+----------+-------+\n",
    "8 rows in set (0.00 sec)"
   ]
  },
  {
   "cell_type": "code",
   "execution_count": null,
   "metadata": {},
   "outputs": [],
   "source": [
    "#6.country 테이블에서 대륙별 전체 표면적크기를 구하고 표면적 크기 순으로 내림차순하세요.\n",
    "mysql> SELECT Continent, ROUND(SUM(SurfaceArea)) AS SurfaceArea\n",
    "    -> FROM country\n",
    "    -> GROUP BY Continent\n",
    "    -> ORDER BY SurfaceArea DESC;\n",
    "+---------------+-------------+\n",
    "| Continent     | SurfaceArea |\n",
    "+---------------+-------------+\n",
    "| Asia          |    31881005 |\n",
    "| Africa        |    30250377 |\n",
    "| North America |    24214470 |\n",
    "| Europe        |    23049134 |\n",
    "| South America |    17864926 |\n",
    "| Antarctica    |    13132101 |\n",
    "| Oceania       |     8564294 |\n",
    "+---------------+-------------+\n",
    "7 rows in set (0.00 sec)"
   ]
  }
 ],
 "metadata": {
  "kernelspec": {
   "display_name": "Python 3",
   "language": "python",
   "name": "python3"
  },
  "language_info": {
   "codemirror_mode": {
    "name": "ipython",
    "version": 3
   },
   "file_extension": ".py",
   "mimetype": "text/x-python",
   "name": "python",
   "nbconvert_exporter": "python",
   "pygments_lexer": "ipython3",
   "version": "3.6.3"
  }
 },
 "nbformat": 4,
 "nbformat_minor": 2
}
