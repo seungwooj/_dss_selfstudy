{
 "cells": [
  {
   "cell_type": "markdown",
   "metadata": {},
   "source": [
    "##### 1. System"
   ]
  },
  {
   "cell_type": "code",
   "execution_count": null,
   "metadata": {},
   "outputs": [],
   "source": [
    "# mysql 명령어 리스트를 확인\n",
    "mysql> help"
   ]
  },
  {
   "cell_type": "code",
   "execution_count": null,
   "metadata": {},
   "outputs": [],
   "source": [
    "# 현재상태보기\n",
    "mysql> status"
   ]
  },
  {
   "cell_type": "code",
   "execution_count": null,
   "metadata": {},
   "outputs": [],
   "source": [
    "# mysql 접속 종료\n",
    "mysql> exit\n",
    "mysql> quit"
   ]
  },
  {
   "cell_type": "markdown",
   "metadata": {},
   "source": [
    "##### 2. Database"
   ]
  },
  {
   "cell_type": "code",
   "execution_count": null,
   "metadata": {},
   "outputs": [],
   "source": [
    "# DB 목록 보기\n",
    "mysql> show databases;\n",
    "+--------------------+\n",
    "| Database           |\n",
    "+--------------------+\n",
    "| information_schema |\n",
    "| mysql              |\n",
    "| performance_schema |\n",
    "| sys                |\n",
    "| test               |\n",
    "| world              |\n",
    "+--------------------+\n",
    "6 rows in set (0.00 sec)"
   ]
  },
  {
   "cell_type": "code",
   "execution_count": null,
   "metadata": {},
   "outputs": [],
   "source": [
    "# DB 만들기\n",
    "mysql> create database JSW;\n",
    "mysql> show databases;\n",
    "+--------------------+\n",
    "| Database           |\n",
    "+--------------------+\n",
    "| information_schema |\n",
    "| JSW                |\n",
    "| mysql              |\n",
    "| performance_schema |\n",
    "| sys                |\n",
    "| test               |\n",
    "| world              |\n",
    "+--------------------+\n",
    "7 rows in set (0.01 sec)"
   ]
  },
  {
   "cell_type": "code",
   "execution_count": null,
   "metadata": {},
   "outputs": [],
   "source": [
    "# DB 접속하기\n",
    "mysql> use test;\n",
    "Database changed"
   ]
  },
  {
   "cell_type": "code",
   "execution_count": null,
   "metadata": {},
   "outputs": [],
   "source": [
    "# 현재 접속중인 DB 확인하기\n",
    "mysql> select database();\n",
    "+------------+\n",
    "| database() |\n",
    "+------------+\n",
    "| JSW        |\n",
    "+------------+\n",
    "1 row in set (0.00 sec)"
   ]
  },
  {
   "cell_type": "code",
   "execution_count": null,
   "metadata": {},
   "outputs": [],
   "source": [
    "# DB 지우기\n",
    "mysql> drop database test;\n",
    "Query OK, 0 rows affected (0.00 sec)"
   ]
  },
  {
   "cell_type": "code",
   "execution_count": null,
   "metadata": {},
   "outputs": [],
   "source": [
    "mysql> show databases: # DB삭제된 것 확인하기\n",
    "    +--------------------+\n",
    "| Database           |\n",
    "+--------------------+\n",
    "| information_schema |\n",
    "| mysql              |\n",
    "| performance_schema |\n",
    "| sys                |\n",
    "| test               |\n",
    "| world              |\n",
    "+--------------------+\n",
    "6 rows in set (0.00 sec)"
   ]
  },
  {
   "cell_type": "markdown",
   "metadata": {},
   "source": [
    "##### 3. Table"
   ]
  },
  {
   "cell_type": "code",
   "execution_count": null,
   "metadata": {},
   "outputs": [],
   "source": [
    "# 테이블 만들기\n",
    "# 문자열 name 20자, age 숫자 3자 칼럼 있는 테이블 생성\n",
    "mysql> create table user (name char(20), age int(3));\n",
    "Query OK, 0 rows affected (0.01 sec)\n",
    "\n",
    "mysql> show tables;\n",
    "+----------------+\n",
    "| Tables_in_test |\n",
    "+----------------+\n",
    "| user           |\n",
    "| user1          |\n",
    "| user2          |\n",
    "+----------------+\n",
    "3 rows in set (0.00 sec)"
   ]
  },
  {
   "cell_type": "code",
   "execution_count": null,
   "metadata": {},
   "outputs": [],
   "source": [
    "# 테이블 목록 확인\n",
    "mysql> show tables;\n",
    "+----------------+\n",
    "| Tables_in_test |\n",
    "+----------------+\n",
    "| user           |\n",
    "| user1          |\n",
    "| user2          |\n",
    "+----------------+\n",
    "3 rows in set (0.00 sec)"
   ]
  },
  {
   "cell_type": "code",
   "execution_count": null,
   "metadata": {},
   "outputs": [],
   "source": [
    "# 테이블 구조 확인\n",
    "mysql> desc user;\n",
    "mysql> describe user;\n",
    "mysql> explain user;\n",
    "+-------+----------+------+-----+---------+-------+\n",
    "| Field | Type     | Null | Key | Default | Extra |\n",
    "+-------+----------+------+-----+---------+-------+\n",
    "| name  | char(20) | YES  |     | NULL    |       |\n",
    "| age   | int(3)   | YES  |     | NULL    |       |\n",
    "+-------+----------+------+-----+---------+-------+\n",
    "2 rows in set (0.00 sec)"
   ]
  },
  {
   "cell_type": "code",
   "execution_count": null,
   "metadata": {},
   "outputs": [],
   "source": [
    "# 테이블 이름 바꾸기\n",
    "mysql> rename table user to dss;\n",
    "Query OK, 0 rows affected (0.01 sec)"
   ]
  },
  {
   "cell_type": "code",
   "execution_count": null,
   "metadata": {},
   "outputs": [],
   "source": [
    "mysql> show tables; # 테이블 이름 바뀐것 확인\n",
    "+----------------+\n",
    "| Tables_in_test |\n",
    "+----------------+\n",
    "| dss            |\n",
    "| user1          |\n",
    "| user2          |\n",
    "+----------------+\n",
    "3 rows in set (0.00 sec)"
   ]
  },
  {
   "cell_type": "code",
   "execution_count": null,
   "metadata": {},
   "outputs": [],
   "source": [
    "# 테이블에 데이터 추가하기\n",
    "mysql> insert into dss(name, age) values(\"alice\", 23);\n",
    "Query OK, 1 row affected (0.00 sec)\n",
    "mysql> insert into dss(name, age) values(\"Aaron\", 31);\n",
    "Query OK, 1 row affected (0.00 sec)"
   ]
  },
  {
   "cell_type": "code",
   "execution_count": null,
   "metadata": {},
   "outputs": [],
   "source": [
    "# 추가된 데이터 확인하기\n",
    "mysql> select * from dss;\n",
    "+-------+------+\n",
    "| name  | age  |\n",
    "+-------+------+\n",
    "| alice |   23 |\n",
    "| Aaron |   31 |\n",
    "+-------+------+\n",
    "2 rows in set (0.00 sec)"
   ]
  },
  {
   "cell_type": "code",
   "execution_count": null,
   "metadata": {},
   "outputs": [],
   "source": [
    "mysql> select name from dss; # 테이블에서 특정 컬럼만 확인하기\n",
    "+-------+\n",
    "| name  |\n",
    "+-------+\n",
    "| alice |\n",
    "| Aaron |\n",
    "+-------+\n",
    "2 rows in set (0.00 sec)"
   ]
  },
  {
   "cell_type": "code",
   "execution_count": null,
   "metadata": {},
   "outputs": [],
   "source": [
    "# 테이블 지우기\n",
    "mysql> drop table dss;\n",
    "Query OK, 0 rows affected (0.00 sec)"
   ]
  },
  {
   "cell_type": "code",
   "execution_count": null,
   "metadata": {},
   "outputs": [],
   "source": [
    "mysql> show tables; # 테이블 삭제된것 확인\n",
    "+----------------+\n",
    "| Tables_in_test |\n",
    "+----------------+\n",
    "| user1          |\n",
    "| user2          |\n",
    "+----------------+\n",
    "2 rows in set (0.00 sec)"
   ]
  },
  {
   "cell_type": "code",
   "execution_count": null,
   "metadata": {},
   "outputs": [],
   "source": []
  },
  {
   "cell_type": "markdown",
   "metadata": {},
   "source": [
    "##### 실습"
   ]
  },
  {
   "cell_type": "code",
   "execution_count": null,
   "metadata": {},
   "outputs": [],
   "source": [
    "# city_info 데이터베이스 만들기\n",
    "mysql> create database city_info;\n",
    "Query OK, 1 row affected (0.00 sec)"
   ]
  },
  {
   "cell_type": "code",
   "execution_count": null,
   "metadata": {},
   "outputs": [],
   "source": [
    "# city_info 데이터베이스 안에 popular 테이블 만들기\n",
    "mysql> create table popular (rank int(4), city_name char(20), popular int(10));\n",
    "Query OK, 0 rows affected (0.01 sec)"
   ]
  },
  {
   "cell_type": "code",
   "execution_count": null,
   "metadata": {},
   "outputs": [],
   "source": [
    "# popular 테이블 구조 확인\n",
    "mysql> desc popular;\n",
    "+-----------+----------+------+-----+---------+-------+\n",
    "| Field     | Type     | Null | Key | Default | Extra |\n",
    "+-----------+----------+------+-----+---------+-------+\n",
    "| rank      | int(4)   | YES  |     | NULL    |       |\n",
    "| city_name | char(20) | YES  |     | NULL    |       |\n",
    "| popular   | int(10)  | YES  |     | NULL    |       |\n",
    "+-----------+----------+------+-----+---------+-------+\n",
    "3 rows in set (0.00 sec)"
   ]
  },
  {
   "cell_type": "code",
   "execution_count": null,
   "metadata": {},
   "outputs": [],
   "source": [
    "# popular 테이블에 5개 도시 정보 입력\n",
    "mysql> insert into popular (rank, city_name, popular) values (1, \"seoul\", 9904312);\n",
    "Query OK, 1 row affected (0.01 sec)\n",
    "mysql> insert into popular (rank, city_name, popular) values (2, \"busan\", 3448737);\n",
    "Query OK, 1 row affected (0.00 sec)\n",
    "mysql> insert into popular (rank, city_name, popular) values (3, \"incheon\", 2890451);\n",
    "Query OK, 1 row affected (0.00 sec)\n",
    "mysql> insert into popular (rank, city_name, popular) values (4, \"daegu\", 2466052);\n",
    "Query OK, 1 row affected (0.01 sec)\n",
    "mysql> insert into popular (rank, city_name, popular) values (5, \"daejeon\", 1538394);\n",
    "Query OK, 1 row affected (0.00 sec)"
   ]
  },
  {
   "cell_type": "code",
   "execution_count": null,
   "metadata": {},
   "outputs": [],
   "source": [
    "# popular 테이블에 입력한 내용 확인\n",
    "mysql> select * from popular;\n",
    "+------+-----------+---------+\n",
    "| rank | city_name | popular |\n",
    "+------+-----------+---------+\n",
    "|    1 | seoul     | 9904312 |\n",
    "|    2 | busan     | 3448737 |\n",
    "|    3 | incheon   | 2890451 |\n",
    "|    4 | daegu     | 2466052 |\n",
    "|    5 | daejeon   | 1538394 |\n",
    "+------+-----------+---------+\n",
    "5 rows in set (0.00 sec)"
   ]
  }
 ],
 "metadata": {
  "kernelspec": {
   "display_name": "Python 3",
   "language": "python",
   "name": "python3"
  },
  "language_info": {
   "codemirror_mode": {
    "name": "ipython",
    "version": 3
   },
   "file_extension": ".py",
   "mimetype": "text/x-python",
   "name": "python",
   "nbconvert_exporter": "python",
   "pygments_lexer": "ipython3",
   "version": "3.6.3"
  }
 },
 "nbformat": 4,
 "nbformat_minor": 2
}
