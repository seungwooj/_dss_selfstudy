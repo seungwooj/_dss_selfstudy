{
 "cells": [
  {
   "cell_type": "code",
   "execution_count": null,
   "metadata": {},
   "outputs": [],
   "source": [
    "#1. 멕시코(Mexico)보다 인구가 많은 나라 이름과 인구수를 조회하시고 인구수 순으로 내림차순 하세요.\n",
    "mysql> SELECT Name, Population\n",
    "    -> FROM country\n",
    "    -> WHERE Population > \"98881000\"\n",
    "    -> ORDER BY Population DESC;\n",
    "+--------------------+------------+\n",
    "| Name               | Population |\n",
    "+--------------------+------------+\n",
    "| China              | 1277558000 |\n",
    "| India              | 1013662000 |\n",
    "| United States      |  278357000 |\n",
    "| Indonesia          |  212107000 |\n",
    "| Brazil             |  170115000 |\n",
    "| Pakistan           |  156483000 |\n",
    "| Russian Federation |  146934000 |\n",
    "| Bangladesh         |  129155000 |\n",
    "| Japan              |  126714000 |\n",
    "| Nigeria            |  111506000 |\n",
    "+--------------------+------------+\n",
    "10 rows in set (0.00 sec)"
   ]
  },
  {
   "cell_type": "code",
   "execution_count": null,
   "metadata": {},
   "outputs": [],
   "source": [
    "#2.국가별 몇개의 도시가 있는지 조회하고 도시수 순으로 10위까지 내림차순 하세요.\n",
    "mysql> SELECT CountryCode, COUNT(CountryCode) AS count\n",
    "    -> FROM city\n",
    "    -> GROUP BY CountryCode\n",
    "    -> ORDER BY count DESC\n",
    "    -> LIMIT 0,10;\n",
    "+-------------+-------+\n",
    "| CountryCode | count |\n",
    "+-------------+-------+\n",
    "| CHN         |   363 |\n",
    "| IND         |   341 |\n",
    "| USA         |   274 |\n",
    "| BRA         |   250 |\n",
    "| JPN         |   248 |\n",
    "| RUS         |   189 |\n",
    "| MEX         |   173 |\n",
    "| PHL         |   136 |\n",
    "| DEU         |    93 |\n",
    "| IDN         |    85 |\n",
    "+-------------+-------+\n",
    "10 rows in set (0.00 sec)"
   ]
  }
 ],
 "metadata": {
  "kernelspec": {
   "display_name": "Python 3",
   "language": "python",
   "name": "python3"
  },
  "language_info": {
   "codemirror_mode": {
    "name": "ipython",
    "version": 3
   },
   "file_extension": ".py",
   "mimetype": "text/x-python",
   "name": "python",
   "nbconvert_exporter": "python",
   "pygments_lexer": "ipython3",
   "version": "3.6.3"
  }
 },
 "nbformat": 4,
 "nbformat_minor": 2
}
