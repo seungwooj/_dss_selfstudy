{
 "cells": [
  {
   "cell_type": "code",
   "execution_count": null,
   "metadata": {},
   "outputs": [],
   "source": [
    "#1. country 테이블에서 중복을 제거한 Continent를 조회하세요.\n",
    "\n",
    "mysql> SELECT DISTINCT(Continent) AS Continent\n",
    "    -> FROM country;\n",
    "+---------------+\n",
    "| Continent     |\n",
    "+---------------+\n",
    "| North America |\n",
    "| Asia          |\n",
    "| Africa        |\n",
    "| Europe        |\n",
    "| South America |\n",
    "| Oceania       |\n",
    "| Antarctica    |\n",
    "+---------------+\n",
    "7 rows in set (0.00 sec)"
   ]
  },
  {
   "cell_type": "code",
   "execution_count": null,
   "metadata": {},
   "outputs": [],
   "source": [
    "#2. 한국 도시중에 인구가 100만이 넘는 도시를 조회하여 인구순으로 내림차순하세요.\n",
    "mysql> SELECT Name, Population\n",
    "    -> FROM city\n",
    "    -> WHERE CountryCode = \"KOR\" AND Population > \"1000000\";\n",
    "+---------+------------+\n",
    "| Name    | Population |\n",
    "+---------+------------+\n",
    "| Seoul   |    9981619 |\n",
    "| Pusan   |    3804522 |\n",
    "| Inchon  |    2559424 |\n",
    "| Taegu   |    2548568 |\n",
    "| Taejon  |    1425835 |\n",
    "| Kwangju |    1368341 |\n",
    "| Ulsan   |    1084891 |\n",
    "+---------+------------+\n",
    "7 rows in set (0.00 sec)"
   ]
  },
  {
   "cell_type": "code",
   "execution_count": null,
   "metadata": {},
   "outputs": [],
   "source": [
    "#3. city 테이블에서 population이 800만 ~ 1000만 사이인 도시 데이터를 인구수순으로 내림차순하세요\n",
    "mysql> SELECT Name, CountryCode, Population\n",
    "    -> FROM city\n",
    "    -> WHERE Population BETWEEN 8000000 AND 10000000\n",
    "    -> ORDER BY Population DESC;\n",
    "+------------------+-------------+------------+\n",
    "| Name             | CountryCode | Population |\n",
    "+------------------+-------------+------------+\n",
    "| Seoul            | KOR         |    9981619 |\n",
    "| S�o Paulo        | BRA         |    9968485 |\n",
    "| Shanghai         | CHN         |    9696300 |\n",
    "| Jakarta          | IDN         |    9604900 |\n",
    "| Karachi          | PAK         |    9269265 |\n",
    "| Istanbul         | TUR         |    8787958 |\n",
    "| Ciudad de M�xico | MEX         |    8591309 |\n",
    "| Moscow           | RUS         |    8389200 |\n",
    "| New York         | USA         |    8008278 |\n",
    "+------------------+-------------+------------+\n",
    "9 rows in set (0.00 sec)"
   ]
  },
  {
   "cell_type": "code",
   "execution_count": null,
   "metadata": {},
   "outputs": [],
   "source": [
    "#4. country 테이블에서 1940 ~ 1950년도 사이에 독립한 국가들을 조회하고 독립한 년도 순으로 오름차순하세요.\n",
    "mysql> SELECT Code, CONCAT(Name, \"(\", IndepYear, \")\") AS NameIndep, Continent, Population\n",
    "    -> FROM country\n",
    "    -> WHERE IndepYear BETWEEN 1940 AND 1950\n",
    "    -> ORDER BY IndepYear;\n",
    "+------+-------------------+-----------+------------+\n",
    "| Code | NameIndep         | Continent | Population |\n",
    "+------+-------------------+-----------+------------+\n",
    "| LBN  | Lebanon(1941)     | Asia      |    3282000 |\n",
    "| SYR  | Syria(1941)       | Asia      |   16125000 |\n",
    "| ISL  | Iceland(1944)     | Europe    |     279000 |\n",
    "| IDN  | Indonesia(1945)   | Asia      |  212107000 |\n",
    "| TWN  | Taiwan(1945)      | Asia      |   22256000 |\n",
    "| VNM  | Vietnam(1945)     | Asia      |   79832000 |\n",
    "| JOR  | Jordan(1946)      | Asia      |    5083000 |\n",
    "| PHL  | Philippines(1946) | Asia      |   75967000 |\n",
    "| IND  | India(1947)       | Asia      | 1013662000 |\n",
    "| PAK  | Pakistan(1947)    | Asia      |  156483000 |\n",
    "| ISR  | Israel(1948)      | Asia      |    6217000 |\n",
    "| KOR  | South Korea(1948) | Asia      |   46844000 |\n",
    "| LKA  | Sri Lanka(1948)   | Asia      |   18827000 |\n",
    "| MMR  | Myanmar(1948)     | Asia      |   45611000 |\n",
    "| PRK  | North Korea(1948) | Asia      |   24039000 |\n",
    "+------+-------------------+-----------+------------+\n",
    "15 rows in set (0.00 sec)"
   ]
  },
  {
   "cell_type": "code",
   "execution_count": null,
   "metadata": {},
   "outputs": [],
   "source": [
    "#5. contrylanguage 테이블에서 스페인어, 한국어, 영어를 95% 이상 사용하는 국가 코드를 Percentage로 내 림차순하여 아래와 같이 조회하세요.\n",
    "mysql> SELECT CountryCode, Language, Percentage\n",
    "    -> FROM countrylanguage\n",
    "    -> WHERE Language IN (\"English\", \"Spanish\", \"Korean\") AND Percentage > 95\n",
    "    -> ORDER BY Percentage DESC;\n",
    "+-------------+----------+------------+\n",
    "| CountryCode | Language | Percentage |\n",
    "+-------------+----------+------------+\n",
    "| BMU         | English  |      100.0 |\n",
    "| CUB         | Spanish  |      100.0 |\n",
    "| SLV         | Spanish  |      100.0 |\n",
    "| KOR         | Korean   |       99.9 |\n",
    "| PRK         | Korean   |       99.9 |\n",
    "| COL         | Spanish  |       99.0 |\n",
    "| IRL         | English  |       98.4 |\n",
    "| DOM         | Spanish  |       98.0 |\n",
    "| NIC         | Spanish  |       97.6 |\n",
    "| CRI         | Spanish  |       97.5 |\n",
    "| GBR         | English  |       97.3 |\n",
    "| HND         | Spanish  |       97.2 |\n",
    "| VEN         | Spanish  |       96.9 |\n",
    "| ARG         | Spanish  |       96.8 |\n",
    "| URY         | Spanish  |       95.7 |\n",
    "+-------------+----------+------------+\n",
    "15 rows in set (0.00 sec)"
   ]
  },
  {
   "cell_type": "code",
   "execution_count": null,
   "metadata": {},
   "outputs": [],
   "source": [
    "#6. country 테이블에서 Code가 A로 시작하고 GovernmentForm에 Republic이 포함되는 데이터를 아래와 같이 조회하세요.\n",
    "mysql> SELECT Code, Name, Continent, GovernmentForm, Population\n",
    "    -> FROM country\n",
    "    -> WHERE Code LIKE \"A%\" AND GovernmentForm LIKE \"%Republic%\";\n",
    "+------+------------+---------------+------------------+------------+\n",
    "| Code | Name       | Continent     | GovernmentForm   | Population |\n",
    "+------+------------+---------------+------------------+------------+\n",
    "| AGO  | Angola     | Africa        | Republic         |   12878000 |\n",
    "| ALB  | Albania    | Europe        | Republic         |    3401200 |\n",
    "| ARG  | Argentina  | South America | Federal Republic |   37032000 |\n",
    "| ARM  | Armenia    | Asia          | Republic         |    3520000 |\n",
    "| AUT  | Austria    | Europe        | Federal Republic |    8091800 |\n",
    "| AZE  | Azerbaijan | Asia          | Federal Republic |    7734000 |\n",
    "+------+------------+---------------+------------------+------------+\n",
    "6 rows in set (0.00 sec)"
   ]
  }
 ],
 "metadata": {
  "kernelspec": {
   "display_name": "Python 3",
   "language": "python",
   "name": "python3"
  },
  "language_info": {
   "codemirror_mode": {
    "name": "ipython",
    "version": 3
   },
   "file_extension": ".py",
   "mimetype": "text/x-python",
   "name": "python",
   "nbconvert_exporter": "python",
   "pygments_lexer": "ipython3",
   "version": "3.6.3"
  }
 },
 "nbformat": 4,
 "nbformat_minor": 2
}
