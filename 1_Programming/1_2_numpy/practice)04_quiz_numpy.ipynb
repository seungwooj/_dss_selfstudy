{
 "cells": [
  {
   "cell_type": "markdown",
   "metadata": {},
   "source": [
    "### Quiz  - 1/28까지 풀어서 매니저님/강사님 제출"
   ]
  },
  {
   "cell_type": "code",
   "execution_count": 1,
   "metadata": {},
   "outputs": [],
   "source": [
    "import numpy as np"
   ]
  },
  {
   "cell_type": "markdown",
   "metadata": {},
   "source": [
    "##### 1. 5개의 1로 이루어진 정수데이터 타입의 벡터를 만드세요"
   ]
  },
  {
   "cell_type": "code",
   "execution_count": 2,
   "metadata": {},
   "outputs": [
    {
     "data": {
      "text/plain": [
       "array([1, 1, 1, 1, 1])"
      ]
     },
     "execution_count": 2,
     "metadata": {},
     "output_type": "execute_result"
    }
   ],
   "source": [
    "na_1 = np.ones(5).astype(int)\n",
    "na_1"
   ]
  },
  {
   "cell_type": "markdown",
   "metadata": {},
   "source": [
    "##### 2. 10개의 1로 이루어진 정수 데이터 타입의 벡터에서 마지막 3개의 데이터는 5가 들어있는 벡터를 만드세요"
   ]
  },
  {
   "cell_type": "code",
   "execution_count": 3,
   "metadata": {},
   "outputs": [
    {
     "data": {
      "text/plain": [
       "array([1, 1, 1, 1, 1, 1, 1, 5, 5, 5])"
      ]
     },
     "execution_count": 3,
     "metadata": {},
     "output_type": "execute_result"
    }
   ],
   "source": [
    "na_2 = np.ones(10).astype(int)\n",
    "na_2[7:] = 5\n",
    "na_2"
   ]
  },
  {
   "cell_type": "markdown",
   "metadata": {},
   "source": [
    "##### 3. 10에서 20까지의 데이터를 가지는 벡터를 만드세요  (arrange사용)"
   ]
  },
  {
   "cell_type": "code",
   "execution_count": 4,
   "metadata": {},
   "outputs": [
    {
     "data": {
      "text/plain": [
       "array([10, 11, 12, 13, 14, 15, 16, 17, 18, 19, 20])"
      ]
     },
     "execution_count": 4,
     "metadata": {},
     "output_type": "execute_result"
    }
   ],
   "source": [
    "na_3 = np.arange(10,20+1)\n",
    "na_3"
   ]
  },
  {
   "cell_type": "markdown",
   "metadata": {},
   "source": [
    "##### 4. 위 벡터의 순서를 바꾸세요"
   ]
  },
  {
   "cell_type": "code",
   "execution_count": 5,
   "metadata": {},
   "outputs": [
    {
     "data": {
      "text/plain": [
       "array([20, 19, 18, 17, 16, 15, 14, 13, 12, 11, 10])"
      ]
     },
     "execution_count": 5,
     "metadata": {},
     "output_type": "execute_result"
    }
   ],
   "source": [
    "na_4 = na_3[::-1]\n",
    "na_4"
   ]
  },
  {
   "cell_type": "markdown",
   "metadata": {},
   "source": [
    "##### 5. 0부터 8까지의 값을 가지는 3x3 행렬을 만드세요"
   ]
  },
  {
   "cell_type": "code",
   "execution_count": 6,
   "metadata": {},
   "outputs": [
    {
     "data": {
      "text/plain": [
       "array([[0, 1, 2],\n",
       "       [3, 4, 5],\n",
       "       [6, 7, 8]])"
      ]
     },
     "execution_count": 6,
     "metadata": {},
     "output_type": "execute_result"
    }
   ],
   "source": [
    "na_5 = np.arange(8+1).reshape(3,3)\n",
    "na_5"
   ]
  },
  {
   "cell_type": "markdown",
   "metadata": {},
   "source": [
    "##### 6. 위의 벡터에서  `[[4,5],[7,8]]`  행렬을 만드세요"
   ]
  },
  {
   "cell_type": "code",
   "execution_count": 7,
   "metadata": {},
   "outputs": [
    {
     "data": {
      "text/plain": [
       "array([[4, 5],\n",
       "       [7, 8]])"
      ]
     },
     "execution_count": 7,
     "metadata": {},
     "output_type": "execute_result"
    }
   ],
   "source": [
    "na_6 = na_5[1:,1:]\n",
    "na_6"
   ]
  },
  {
   "cell_type": "markdown",
   "metadata": {},
   "source": [
    "##### 7. 1에서 10까지의 데이터를 랜덤하게 가지는 3*4 행렬을 만드세요"
   ]
  },
  {
   "cell_type": "code",
   "execution_count": 8,
   "metadata": {},
   "outputs": [
    {
     "data": {
      "text/plain": [
       "array([[10,  8,  1,  9],\n",
       "       [ 9,  4,  4,  1],\n",
       "       [ 1,  9,  4, 10]])"
      ]
     },
     "execution_count": 8,
     "metadata": {},
     "output_type": "execute_result"
    }
   ],
   "source": [
    "na_7 = np.random.randint(1,10+1, (3,4))\n",
    "na_7"
   ]
  },
  {
   "cell_type": "markdown",
   "metadata": {},
   "source": [
    "##### 8. 위에서 만든 행렬의 unique 한 숫자들 리스트와 각숫자의 갯수를 리스트로 나타내세요"
   ]
  },
  {
   "cell_type": "code",
   "execution_count": 9,
   "metadata": {},
   "outputs": [
    {
     "data": {
      "text/plain": [
       "(array([ 1,  4,  8,  9, 10]), array([3, 3, 1, 3, 2]))"
      ]
     },
     "execution_count": 9,
     "metadata": {},
     "output_type": "execute_result"
    }
   ],
   "source": [
    "na_8_index, na_8_count = np.unique(na_7, return_counts = True)\n",
    "na_8_index, na_8_count"
   ]
  },
  {
   "cell_type": "markdown",
   "metadata": {},
   "source": [
    "##### 9. 1에서 12까지에 숫자가 들어간 3*4 행렬을 만드시고 행과 열에 관계없이 데이터를 섞으세요"
   ]
  },
  {
   "cell_type": "code",
   "execution_count": 10,
   "metadata": {},
   "outputs": [
    {
     "data": {
      "text/plain": [
       "array([[ 9, 10, 11, 12],\n",
       "       [ 1,  2,  3,  4],\n",
       "       [ 5,  6,  7,  8]])"
      ]
     },
     "execution_count": 10,
     "metadata": {},
     "output_type": "execute_result"
    }
   ],
   "source": [
    "na_9 = np.arange(1,12+1).reshape(3,4)\n",
    "np.random.shuffle(na_9)\n",
    "na_9"
   ]
  },
  {
   "cell_type": "markdown",
   "metadata": {},
   "source": [
    "##### 10. 1부터 10까지의 랜덤한 데이터가 들어가는 `3*3`행렬을 만드시고 가장 아래에 위의 데이터를 모두 합한 `1*3`행렬을 추가해서 `4*3`행렬을 만드세요"
   ]
  },
  {
   "cell_type": "code",
   "execution_count": 11,
   "metadata": {},
   "outputs": [
    {
     "data": {
      "text/plain": [
       "array([[ 2,  7,  6],\n",
       "       [ 3,  3,  4],\n",
       "       [ 7, 10,  5]])"
      ]
     },
     "execution_count": 11,
     "metadata": {},
     "output_type": "execute_result"
    }
   ],
   "source": [
    "na_10_1 = np.random.randint(1,10+1, size=(3,3))\n",
    "na_10_1"
   ]
  },
  {
   "cell_type": "code",
   "execution_count": 12,
   "metadata": {},
   "outputs": [
    {
     "data": {
      "text/plain": [
       "array([[ 2,  7,  6],\n",
       "       [ 3,  3,  4],\n",
       "       [ 7, 10,  5],\n",
       "       [12, 20, 15]])"
      ]
     },
     "execution_count": 12,
     "metadata": {},
     "output_type": "execute_result"
    }
   ],
   "source": [
    "na_10_2 = np.vstack((na_10_1, na_10_1.sum(axis=0)))\n",
    "na_10_2"
   ]
  },
  {
   "cell_type": "markdown",
   "metadata": {},
   "source": [
    "##### 11. 10번문제의 결과로 나온 행렬데이터에서 평균값을 출력하고 평균값보다 큰 숫자들만 유니크한 리스트로 나열하세요 (평균값은 소수 둘째 자리까지만 나타내세요)"
   ]
  },
  {
   "cell_type": "code",
   "execution_count": 25,
   "metadata": {},
   "outputs": [
    {
     "data": {
      "text/plain": [
       "7.833333333333333"
      ]
     },
     "execution_count": 25,
     "metadata": {},
     "output_type": "execute_result"
    }
   ],
   "source": [
    "na_11_1 = na_10_2.mean()\n",
    "na_11_1"
   ]
  },
  {
   "cell_type": "code",
   "execution_count": 26,
   "metadata": {},
   "outputs": [
    {
     "name": "stdout",
     "output_type": "stream",
     "text": [
      "[10 12 15 20]\n"
     ]
    }
   ],
   "source": [
    "print(np.unique(na_10_2[na_10_2 > na_11_1]))"
   ]
  },
  {
   "cell_type": "code",
   "execution_count": null,
   "metadata": {},
   "outputs": [],
   "source": []
  },
  {
   "cell_type": "code",
   "execution_count": 24,
   "metadata": {},
   "outputs": [
    {
     "name": "stdout",
     "output_type": "stream",
     "text": [
      "avg :  7.83\n",
      "[10 12 15 20]\n"
     ]
    }
   ],
   "source": [
    "avg = na_10_2.mean()\n",
    "na_11 = na_10_2[na_10_2 > avg]\n",
    "print(\"avg : \", round(avg, 2))\n",
    "print(np.unique(na_11))"
   ]
  },
  {
   "cell_type": "markdown",
   "metadata": {},
   "source": [
    "##### 12. 1부터 20까지의 랜덤숫자를 가지는 5*5 행렬을 만드시고 최대값에는 숫자(MAX), 최소값에는 숫자(MIN)으로 행렬을 바꾸세요"
   ]
  },
  {
   "cell_type": "code",
   "execution_count": 16,
   "metadata": {},
   "outputs": [
    {
     "data": {
      "text/plain": [
       "array([[ 1, 14,  5, 17, 10],\n",
       "       [10, 12,  3,  7, 17],\n",
       "       [16, 11, 15, 15,  3],\n",
       "       [ 2, 19, 14,  5, 18],\n",
       "       [ 7, 15, 17, 17,  7]])"
      ]
     },
     "execution_count": 16,
     "metadata": {},
     "output_type": "execute_result"
    }
   ],
   "source": [
    "na_12 = np.random.randint(1,20+1,(5,5))\n",
    "na_12"
   ]
  },
  {
   "cell_type": "code",
   "execution_count": 17,
   "metadata": {},
   "outputs": [
    {
     "data": {
      "text/plain": [
       "(19, 1)"
      ]
     },
     "execution_count": 17,
     "metadata": {},
     "output_type": "execute_result"
    }
   ],
   "source": [
    "max, min = np.max(na_12), np.min(na_12)\n",
    "max, min"
   ]
  },
  {
   "cell_type": "code",
   "execution_count": 18,
   "metadata": {},
   "outputs": [],
   "source": [
    "### 바꿔야 하는 기준을 지정 -> 행렬의 값 = 조건 이라는 식으로 idx할당 가능.\n",
    "max_idx = na_12 == max\n",
    "min_idx = na_12 == min"
   ]
  },
  {
   "cell_type": "code",
   "execution_count": 19,
   "metadata": {},
   "outputs": [
    {
     "data": {
      "text/plain": [
       "array([['1(MIN)', '14', '5', '17', '10'],\n",
       "       ['10', '12', '3', '7', '17'],\n",
       "       ['16', '11', '15', '15', '3'],\n",
       "       ['2', '19(MAX)', '14', '5', '18'],\n",
       "       ['7', '15', '17', '17', '7']],\n",
       "      dtype='<U21')"
      ]
     },
     "execution_count": 19,
     "metadata": {},
     "output_type": "execute_result"
    }
   ],
   "source": [
    "na_12 = na_12.astype(\"str\")\n",
    "na_12[max_idx] = str(max) + \"(MAX)\"\n",
    "na_12[min_idx] = str(min) + \"(MIN)\"\n",
    "na_12"
   ]
  },
  {
   "cell_type": "markdown",
   "metadata": {},
   "source": [
    "##### 13. 100에서 130까지의 랜덤 숫자를 가지는 8*8행렬을 만드시고 3의 배수에는 fiz, 5의 배수에는 buz, 3과 5의 배수는 fbz 문자를 출력하세요"
   ]
  },
  {
   "cell_type": "code",
   "execution_count": 20,
   "metadata": {},
   "outputs": [
    {
     "data": {
      "text/plain": [
       "array([[116, 130, 106, 116, 125, 121, 125, 121],\n",
       "       [106, 107, 123, 119, 104, 114, 129, 124],\n",
       "       [114, 104, 123, 123, 118, 103, 102, 102],\n",
       "       [112, 115, 102, 107, 124, 124, 117, 110],\n",
       "       [104, 111, 129, 121, 118, 124, 108, 115],\n",
       "       [116, 111, 108, 120, 102, 130, 127, 101],\n",
       "       [117, 115, 130, 126, 101, 102, 102, 121],\n",
       "       [105, 100, 129, 114, 103, 129, 103, 119]])"
      ]
     },
     "execution_count": 20,
     "metadata": {},
     "output_type": "execute_result"
    }
   ],
   "source": [
    "na_13 = np.random.randint(100, 130+1, (8,8))\n",
    "na_13"
   ]
  },
  {
   "cell_type": "code",
   "execution_count": 21,
   "metadata": {},
   "outputs": [],
   "source": [
    "### 바꿔야 하는 기준을 지정 -> 행렬의 값 = 조건 이라는 식으로 idx할당 가능.\n",
    "idx_3 = na_13 % 3 == 0\n",
    "idx_5 = na_13 % 5 == 0\n",
    "idx_15 = na_13 % 15 == 0"
   ]
  },
  {
   "cell_type": "code",
   "execution_count": 22,
   "metadata": {},
   "outputs": [
    {
     "data": {
      "text/plain": [
       "array([['116', 'buz', '106', '116', 'buz', '121', 'buz', '121'],\n",
       "       ['106', '107', 'fiz', '119', '104', 'fiz', 'fiz', '124'],\n",
       "       ['fiz', '104', 'fiz', 'fiz', '118', '103', 'fiz', 'fiz'],\n",
       "       ['112', 'buz', 'fiz', '107', '124', '124', 'fiz', 'buz'],\n",
       "       ['104', 'fiz', 'fiz', '121', '118', '124', 'fiz', 'buz'],\n",
       "       ['116', 'fiz', 'fiz', 'fbz', 'fiz', 'buz', '127', '101'],\n",
       "       ['fiz', 'buz', 'buz', 'fiz', '101', 'fiz', 'fiz', '121'],\n",
       "       ['fbz', 'buz', 'fiz', 'fiz', '103', 'fiz', '103', '119']],\n",
       "      dtype='<U21')"
      ]
     },
     "execution_count": 22,
     "metadata": {},
     "output_type": "execute_result"
    }
   ],
   "source": [
    "na_13 = na_13.astype(\"str\")\n",
    "na_13[idx_3] = \"fiz\"\n",
    "na_13[idx_5] = \"buz\"\n",
    "na_13[idx_15] = \"fbz\"\n",
    "na_13"
   ]
  },
  {
   "cell_type": "markdown",
   "metadata": {},
   "source": [
    "##### 14. 리스트 컴프리헨션을 이용하여 아래와 같은 규칙은 갖는 행렬을 만드세요"
   ]
  },
  {
   "cell_type": "code",
   "execution_count": 23,
   "metadata": {},
   "outputs": [
    {
     "name": "stdout",
     "output_type": "stream",
     "text": [
      "number : 7\n"
     ]
    },
    {
     "data": {
      "text/plain": [
       "array([[ 1,  2,  3,  4,  5,  6,  7],\n",
       "       [ 2,  4,  6,  8, 10, 12, 14],\n",
       "       [ 3,  6,  9, 12, 15, 18, 21],\n",
       "       [ 4,  8, 12, 16, 20, 24, 28],\n",
       "       [ 5, 10, 15, 20, 25, 30, 35],\n",
       "       [ 6, 12, 18, 24, 30, 36, 42],\n",
       "       [ 7, 14, 21, 28, 35, 42, 49]])"
      ]
     },
     "execution_count": 23,
     "metadata": {},
     "output_type": "execute_result"
    }
   ],
   "source": [
    "number = 7\n",
    "na_14 = np.array([[i*j for j in range(1,number+1)] for i in range(1, number+1)])\n",
    "print(\"number :\", number)\n",
    "na_14"
   ]
  },
  {
   "cell_type": "code",
   "execution_count": null,
   "metadata": {},
   "outputs": [],
   "source": []
  }
 ],
 "metadata": {
  "kernelspec": {
   "display_name": "Python 3",
   "language": "python",
   "name": "python3"
  },
  "language_info": {
   "codemirror_mode": {
    "name": "ipython",
    "version": 3
   },
   "file_extension": ".py",
   "mimetype": "text/x-python",
   "name": "python",
   "nbconvert_exporter": "python",
   "pygments_lexer": "ipython3",
   "version": "3.6.3"
  }
 },
 "nbformat": 4,
 "nbformat_minor": 2
}
