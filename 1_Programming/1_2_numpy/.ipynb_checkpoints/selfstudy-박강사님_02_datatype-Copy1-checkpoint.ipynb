{
 "cells": [
  {
   "cell_type": "code",
   "execution_count": 1,
   "metadata": {},
   "outputs": [],
   "source": [
    "import numpy as np"
   ]
  },
  {
   "cell_type": "code",
   "execution_count": 2,
   "metadata": {},
   "outputs": [
    {
     "name": "stdout",
     "output_type": "stream",
     "text": [
      "[-1.   0.   1.   2.   3.8]\n",
      "[-1  0  1  2  3]\n",
      "[ True False  True  True  True]\n",
      "['True' 'False' 'True' 'True' 'True']\n"
     ]
    }
   ],
   "source": [
    "na = np.array([-1, 0, 1, 2, 3.8])\n",
    "print(na)\n",
    "\n",
    "na = na.astype(int)\n",
    "print(na)\n",
    "\n",
    "na = na.astype(bool)\n",
    "print(na)\n",
    "\n",
    "na = na.astype(str)   #<--- 0 은 false로 인식하니까\n",
    "print(na)"
   ]
  },
  {
   "cell_type": "code",
   "execution_count": 3,
   "metadata": {},
   "outputs": [
    {
     "name": "stdout",
     "output_type": "stream",
     "text": [
      "[[ 0.33874929  0.9454654   0.97676642  0.2131035   0.01280265]\n",
      " [ 0.4570149   0.74653104  0.35657296  0.81955923  0.10759347]\n",
      " [ 0.03994721  0.09707737  0.25230774  0.62838644  0.20026971]\n",
      " [ 0.09257374  0.26906633  0.03052237  0.86055309  0.62271706]\n",
      " [ 0.82250374  0.16516627  0.06820254  0.99062731  0.36403765]]\n",
      "[[ 7 10 10  6  5]\n",
      " [ 7  9  7  9  5]\n",
      " [ 5  5  6  8  6]\n",
      " [ 5  6  5 10  8]\n",
      " [ 9  5  5 10  7]]\n"
     ]
    }
   ],
   "source": [
    "na = np.random.rand(5,5)\n",
    "print(na)\n",
    "\n",
    "na = (na*6+5).astype(int)\n",
    "print(na)"
   ]
  },
  {
   "cell_type": "code",
   "execution_count": null,
   "metadata": {},
   "outputs": [],
   "source": []
  }
 ],
 "metadata": {
  "kernelspec": {
   "display_name": "Python 3",
   "language": "python",
   "name": "python3"
  },
  "language_info": {
   "codemirror_mode": {
    "name": "ipython",
    "version": 3
   },
   "file_extension": ".py",
   "mimetype": "text/x-python",
   "name": "python",
   "nbconvert_exporter": "python",
   "pygments_lexer": "ipython3",
   "version": "3.6.3"
  }
 },
 "nbformat": 4,
 "nbformat_minor": 2
}
